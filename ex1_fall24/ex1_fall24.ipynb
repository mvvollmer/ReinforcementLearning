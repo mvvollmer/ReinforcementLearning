{
 "cells": [
  {
   "cell_type": "markdown",
   "metadata": {},
   "source": [
    "# Please install the following python libraries\n",
    "- python3: https://www.python.org/\n",
    "- numpy: https://numpy.org/install/\n",
    "- tqdm: https://github.com/tqdm/tqdm#installation\n",
    "- matplotlib: https://matplotlib.org/stable/users/installing/index.html\n",
    "- Starter Code was tested on Python 3.11.5\n",
    "\n",
    "If you encounter the error: \"IProgress not found. Please update jupyter & ipywidgets\"\n",
    "    \n",
    "Please install the ipywidgets as follows:\n",
    "\n",
    "    with pip, do\n",
    "    - pip install ipywidgets\n",
    "    \n",
    "    with conda, do\n",
    "    - conda install -c conda-forge ipywidgets\n",
    "    \n",
    "Restart your notebook "
   ]
  },
  {
   "cell_type": "code",
   "execution_count": 1,
   "metadata": {},
   "outputs": [],
   "source": [
    "import numpy as np\n",
    "import random\n",
    "import tqdm.notebook as tqdm\n",
    "import matplotlib.pyplot as plt"
   ]
  },
  {
   "cell_type": "code",
   "execution_count": 2,
   "metadata": {},
   "outputs": [],
   "source": [
    "\"\"\"Here is the implementation of the 10-armed Bandit problem/testbed. DO NOT CHANGE \n",
    "   Note that:\n",
    "       - call the reset function whenever you want to generate a new 10-armed Bandit problem\n",
    "\"\"\"\n",
    "class Bandit(object):\n",
    "    def __init__(self, k=10):\n",
    "        # Number of the actions\n",
    "        self.k = k\n",
    "\n",
    "        # Numpy array to store the true action value the k arms/actions\n",
    "        self.q_star = np.empty(self.k)\n",
    "\n",
    "    def reset(self):\n",
    "        # Reset the true action values to generate a new k-armed bandit problem\n",
    "        # Value for each arm is randomly sampled from a normal distribution \n",
    "        # with mean = 0, variance = 1.0. \n",
    "        self.q_star = np.random.normal(loc=0, scale=1, size=self.k)\n",
    "        \n",
    "    def best_action(self):\n",
    "        \"\"\"Return the indices of all best actions/arms in a list variable\n",
    "        \"\"\"\n",
    "        return np.where(self.q_star == self.q_star.max())[0].tolist()  \n",
    "\n",
    "    def step(self, act):\n",
    "        \"\"\"\n",
    "        Args:\n",
    "            act (int): index of the action\n",
    "        \"\"\"\n",
    "        # Compute the reward for each action\n",
    "        # The reward for each action at time step t is sampled from a Gaussian distribution\n",
    "        # For the k-th arm, the mean = q_star[k] (true value) and variance = 1\n",
    "        rewards = np.random.normal(loc=self.q_star, scale=np.ones(10), size=self.k)\n",
    "        return rewards[act]"
   ]
  },
  {
   "cell_type": "code",
   "execution_count": 3,
   "metadata": {},
   "outputs": [],
   "source": [
    "\"\"\"Here is the plotting function you can directly use to plot the figures needed for Q5 and Q6\n",
    "\"\"\"\n",
    "\n",
    "# plot function\n",
    "def plot_curves(arr_list, legend_list, color_list, upper_bound, ylabel):\n",
    "    \"\"\"\n",
    "    Args:\n",
    "        arr_list (list): list of results arrays to plot\n",
    "        legend_list (list): list of legends corresponding to each result array\n",
    "        color_list (list): list of color corresponding to each result array\n",
    "        upper_bound (numpy array): array contains the best possible rewards for 2000 runs. the shape should be (2000,)\n",
    "        ylabel (string): label of the Y axis\n",
    "        \n",
    "        Note that, make sure the elements in the arr_list, legend_list and color_list are associated with each other correctly. \n",
    "        Do not forget to change the ylabel for different plots.\n",
    "        \n",
    "        To plot the upper bound for % Optimal action figure, set upper_bound = np.ones(num_step), where num_step is the number of steps.\n",
    "    \"\"\"\n",
    "    # set the figure type\n",
    "    plt.clf()\n",
    "    fig, ax = plt.subplots(figsize=(12, 8))\n",
    "    \n",
    "    # PLEASE NOTE: Change the labels for different plots\n",
    "    ax.set_ylabel(ylabel)\n",
    "    ax.set_xlabel(\"Steps\")\n",
    "    ax.set_ylim(-0.1, upper_bound.mean() + 0.1)\n",
    "    \n",
    "    # ploth results\n",
    "    h_list = []\n",
    "    for arr, legend, color in zip(arr_list, legend_list, color_list):\n",
    "        # compute the standard error\n",
    "        arr_err = arr.std(axis=0) / np.sqrt(arr.shape[0])\n",
    "        # plot the mean\n",
    "        h, = ax.plot(range(arr.shape[1]), arr.mean(axis=0), color=color, label=legend)\n",
    "        # plot the confidence band\n",
    "        arr_err = 1.96 * arr_err\n",
    "        ax.fill_between(range(arr.shape[1]), arr.mean(axis=0) - arr_err, arr.mean(axis=0) + arr_err, alpha=0.3, color=color)\n",
    "        # save the plot handle\n",
    "        h_list.append(h) \n",
    "    \n",
    "    # plot the upper bound\n",
    "    h = plt.axhline(y=upper_bound.mean(), color='k', linestyle='--', label=\"upper bound\")\n",
    "    h_list.append(h)\n",
    "    \n",
    "    # plot legends\n",
    "    ax.legend(handles=h_list)  \n",
    "    plt.show()"
   ]
  },
  {
   "cell_type": "markdown",
   "metadata": {},
   "source": [
    "# Q5: Implement the ε-greedy algorithm with incremental update"
   ]
  },
  {
   "cell_type": "markdown",
   "metadata": {},
   "source": [
    "The following is the scaffolding code for the epsilon-greedy agent. \n",
    "\n",
    "    1. Reset function: reset the Q value for each arm/action to be self.init. (e.g., self.init = 0)\n",
    "    \n",
    "    2. Choose action: select the arm/action using epsilon-greedy strategy.\n",
    "    \n",
    "    3. Update: update the time steps, Q values for k arms/actions and numbers of selecting each arm/action.\n",
    "    \n",
    "    4. argmax: find the indices of all maximal values in a numpu array.\n",
    "    \n",
    "Please finish the code under \"CODE HERE\""
   ]
  },
  {
   "cell_type": "code",
   "execution_count": 4,
   "metadata": {},
   "outputs": [],
   "source": [
    "class EpsilonGreedyAgent(object):\n",
    "    def __init__(self, k: int, init: int, epsilon: float) -> None:\n",
    "        \"\"\"Epsilon greedy bandit agent\n",
    "\n",
    "        Args:\n",
    "            k (int): number of arms\n",
    "            init (init): initial value of Q-values\n",
    "            epsilon (float): random action probability\n",
    "        \"\"\"\n",
    "        # Number of the arms. For example, k = 10 for 10-armed Bandit problem\n",
    "        self.k = k\n",
    "\n",
    "        # Initial Q value\n",
    "        self.init = init\n",
    "\n",
    "        # Epsilon value\n",
    "        self.epsilon = epsilon\n",
    "\n",
    "        # Q-values for each arm\n",
    "        self.Q = None\n",
    "        # Number of times each arm was pulled\n",
    "        self.N = None\n",
    "        # Current total number of steps\n",
    "        self.t = None\n",
    "\n",
    "    def reset(self) -> None:\n",
    "        \"\"\"Initialize or reset Q-values and counts\n",
    "\n",
    "        This method should be called after __init__() at least once\n",
    "        \"\"\"\n",
    "        self.Q = self.init * np.ones(self.k, dtype=np.float32)\n",
    "        self.N = np.zeros(self.k, dtype=int)\n",
    "        self.t = 0\n",
    "\n",
    "    def choose_action(self) -> int:\n",
    "        \"\"\"Choose which arm to pull\n",
    "\n",
    "        With probability 1 - epsilon, choose the best action (break ties arbitrarily, use argmax() from above).\n",
    "        \n",
    "        With probability epsilon, choose a random action.\n",
    "        \"\"\"\n",
    "        # CODE HERE: please implement the epsilon-greedy strategy to select the action\n",
    "        noise = np.random.rand()\n",
    "        if noise < self.epsilon:\n",
    "            self.action = np.random.randint(self.k) # random action\n",
    "        else:\n",
    "            self.action = self.argmax(self.Q) # greedy action\n",
    "        return self.action\n",
    "        # return int \n",
    "\n",
    "    def update(self, action: int, reward: float) -> None:\n",
    "        \"\"\"Update Q-values and N after observing reward.\n",
    "\n",
    "        Args:\n",
    "            action (int): index of pulled arm\n",
    "            reward (float): reward obtained for pulling arm\n",
    "        \"\"\"\n",
    "        # increase the time step\n",
    "        self.t += 1\n",
    "        \n",
    "        # CODE HERE: implement the incremental update\n",
    "        # update the self.N\n",
    "        self.N[action] += 1\n",
    "        \n",
    "        # CODE HERE: update self.Q with the incremental update\n",
    "        # Note: please use the sample-average technique in equation 2.1\n",
    "        self.Q[action] += 1/self.N[action] * (reward - self.Q[action])\n",
    "\n",
    "\n",
    "    @staticmethod\n",
    "    def argmax(arr) -> int:\n",
    "        \"\"\"Argmax that breaks ties randomly\n",
    "\n",
    "        Takes in a list of values and returns the index of the item with the highest value, breaking ties randomly.\n",
    "\n",
    "        Note: np.argmax returns the first index that matches the maximum, so we define this method to use in EpsilonGreedy and UCB agents.\n",
    "        Args:\n",
    "            arr: sequence of values\n",
    "        \"\"\"\n",
    "        #CODE HERE: implement argmax_a Q(a) for the greedy action selection, breaking ties randomly.\n",
    "        max_val = np.max(arr)\n",
    "        max_indices = np.where(arr == max_val)[0]\n",
    "        if len(max_indices) > 1:\n",
    "            return np.random.choice(max_indices)\n",
    "        else:\n",
    "            return max_indices[0]\n",
    "        # return int"
   ]
  },
  {
   "cell_type": "code",
   "execution_count": 5,
   "metadata": {},
   "outputs": [],
   "source": [
    "\"\"\" Here is the function to run the epsilon greedy agent. Please complete the missing part under \"CODE HERE\"\n",
    "\"\"\"\n",
    "# run epsilon greedy \n",
    "def run_epsilon_greedy_agent(run_num, time_step, epsilon=0.0, init=0.0):\n",
    "    \"\"\"\n",
    "    Args:\n",
    "        run_num (int): number of runs\n",
    "        time_step (int): number of time steps per run\n",
    "        epsilon (float): epsilon for the agent\n",
    "        init (float): initial value for the Q. (i.e., Q1)\n",
    "    \"\"\"\n",
    "    # DO NOT CHANGE: create the 10-armed Bandit problem\n",
    "    k = 10\n",
    "    env = Bandit(k)\n",
    "    env.reset()\n",
    "\n",
    "    # DO NOT CHANGE: create the agent with proper initial value and epsilon\n",
    "    agent = EpsilonGreedyAgent(k=k, init=init, epsilon=epsilon)\n",
    "    agent.reset()\n",
    "\n",
    "    # DO NOT CHANGE: create a numpy array to store rewards with shape (run_num, time_step)\n",
    "    # For example, results_rewards[r, t] stores the reward for step t in the r-th running trail\n",
    "    results_rewards = np.empty((run_num, time_step))\n",
    "    \n",
    "    # DO NOT CHANGE: create a numpy array to store optimal action proportion with shape (run_num, time_step)\n",
    "    # For example, results_action[r, t] stores 1 if the selected action at step t in the r-th runing trail is optimal\n",
    "    # and 0 otherwise.\n",
    "    results_action = np.empty((run_num, time_step))\n",
    "    \n",
    "    # DO NOT CHANGE: create a numpy array to save upper_bound (only for plotting rewards; it should be 1 for plotting action optimality proportion)\n",
    "    # For example, upper_bound[r] stores the true action value for the r-th running trail.\n",
    "    upper_bound = np.empty(run_num)\n",
    "    \n",
    "\n",
    "    # loop for trails starts\n",
    "    for r in tqdm.tqdm(range(run_num), desc=\"run number\", position=0):\n",
    "        \n",
    "        # CODE HERE: reset the environment to create a new 10-armed bandit problem.\n",
    "        env.reset()\n",
    "\n",
    "        # CODE HERE: reset the agent\n",
    "        agent.reset()\n",
    "        \n",
    "        # CODE HERE: compute the upper bound for each running trial and update upper_bound[r]\n",
    "        upper_bound[r] = np.max(env.q_star)\n",
    "        \n",
    "        # loop for each trail a fixed number of steps\n",
    "        for t in tqdm.tqdm(range(time_step), desc=\"time step\", position=1, leave=False):\n",
    "            \n",
    "            # CODE HERE: get the best action to execute at step t \n",
    "            # act = int\n",
    "            act = agent.choose_action()\n",
    "            \n",
    "            # CODE HERE: interact with the environment to receive rewards\n",
    "            # reward = float\n",
    "            reward = env.step(act)\n",
    "            \n",
    "            # Code HERE: update the agent based on the observed reward\n",
    "            agent.update(act, reward)\n",
    "                     \n",
    "            \"\"\"DO NOT CHANGE BELOW\"\"\"\n",
    "            # save the reward\n",
    "            results_rewards[r, t] = reward\n",
    "            # check and save whether the action is optimal\n",
    "            if act in env.best_action():\n",
    "                results_action[r, t] = 1\n",
    "            else:\n",
    "                results_action[r, t] = 0\n",
    "            \n",
    "    return results_rewards, results_action, upper_bound"
   ]
  },
  {
   "cell_type": "code",
   "execution_count": 7,
   "metadata": {},
   "outputs": [
    {
     "data": {
      "application/vnd.jupyter.widget-view+json": {
       "model_id": "701ee4c48b1a4cd88e5a9cc6c42d1ec3",
       "version_major": 2,
       "version_minor": 0
      },
      "text/plain": [
       "run number:   0%|          | 0/200 [00:00<?, ?it/s]"
      ]
     },
     "metadata": {},
     "output_type": "display_data"
    },
    {
     "data": {
      "application/vnd.jupyter.widget-view+json": {
       "model_id": "a059d82ce0a84edbb282b00d8e470be0",
       "version_major": 2,
       "version_minor": 0
      },
      "text/plain": [
       "time step:   0%|          | 0/100 [00:00<?, ?it/s]"
      ]
     },
     "metadata": {},
     "output_type": "display_data"
    },
    {
     "data": {
      "application/vnd.jupyter.widget-view+json": {
       "model_id": "9924ea6e3cdd4e6db9fcd8983ae8112c",
       "version_major": 2,
       "version_minor": 0
      },
      "text/plain": [
       "time step:   0%|          | 0/100 [00:00<?, ?it/s]"
      ]
     },
     "metadata": {},
     "output_type": "display_data"
    },
    {
     "data": {
      "application/vnd.jupyter.widget-view+json": {
       "model_id": "4dd85e28a88f4a5b8e2b586bd111f486",
       "version_major": 2,
       "version_minor": 0
      },
      "text/plain": [
       "time step:   0%|          | 0/100 [00:00<?, ?it/s]"
      ]
     },
     "metadata": {},
     "output_type": "display_data"
    },
    {
     "data": {
      "application/vnd.jupyter.widget-view+json": {
       "model_id": "973414029cce4727a649ac20bb3c59e6",
       "version_major": 2,
       "version_minor": 0
      },
      "text/plain": [
       "time step:   0%|          | 0/100 [00:00<?, ?it/s]"
      ]
     },
     "metadata": {},
     "output_type": "display_data"
    },
    {
     "data": {
      "application/vnd.jupyter.widget-view+json": {
       "model_id": "63fe12020cf04bc1ab7a027b6f1be0ec",
       "version_major": 2,
       "version_minor": 0
      },
      "text/plain": [
       "time step:   0%|          | 0/100 [00:00<?, ?it/s]"
      ]
     },
     "metadata": {},
     "output_type": "display_data"
    },
    {
     "data": {
      "application/vnd.jupyter.widget-view+json": {
       "model_id": "e8ab5a0213154601b607f8b2b3c2444a",
       "version_major": 2,
       "version_minor": 0
      },
      "text/plain": [
       "time step:   0%|          | 0/100 [00:00<?, ?it/s]"
      ]
     },
     "metadata": {},
     "output_type": "display_data"
    },
    {
     "data": {
      "application/vnd.jupyter.widget-view+json": {
       "model_id": "0c034258a6b8405da08744dc206fcc79",
       "version_major": 2,
       "version_minor": 0
      },
      "text/plain": [
       "time step:   0%|          | 0/100 [00:00<?, ?it/s]"
      ]
     },
     "metadata": {},
     "output_type": "display_data"
    },
    {
     "data": {
      "application/vnd.jupyter.widget-view+json": {
       "model_id": "b8be9a7bd3ec472c91dbcb7acab88780",
       "version_major": 2,
       "version_minor": 0
      },
      "text/plain": [
       "time step:   0%|          | 0/100 [00:00<?, ?it/s]"
      ]
     },
     "metadata": {},
     "output_type": "display_data"
    },
    {
     "data": {
      "application/vnd.jupyter.widget-view+json": {
       "model_id": "bbe2a3c1f42944a9b80f301b52f1cd2a",
       "version_major": 2,
       "version_minor": 0
      },
      "text/plain": [
       "time step:   0%|          | 0/100 [00:00<?, ?it/s]"
      ]
     },
     "metadata": {},
     "output_type": "display_data"
    },
    {
     "data": {
      "application/vnd.jupyter.widget-view+json": {
       "model_id": "95f58f59ecf943a58e312caeaab23e49",
       "version_major": 2,
       "version_minor": 0
      },
      "text/plain": [
       "time step:   0%|          | 0/100 [00:00<?, ?it/s]"
      ]
     },
     "metadata": {},
     "output_type": "display_data"
    },
    {
     "data": {
      "application/vnd.jupyter.widget-view+json": {
       "model_id": "4d6a6fbca86b406da0ce0d54b85d419d",
       "version_major": 2,
       "version_minor": 0
      },
      "text/plain": [
       "time step:   0%|          | 0/100 [00:00<?, ?it/s]"
      ]
     },
     "metadata": {},
     "output_type": "display_data"
    },
    {
     "data": {
      "application/vnd.jupyter.widget-view+json": {
       "model_id": "b4ffbaaab89545ce914fe91b3f00ed1e",
       "version_major": 2,
       "version_minor": 0
      },
      "text/plain": [
       "time step:   0%|          | 0/100 [00:00<?, ?it/s]"
      ]
     },
     "metadata": {},
     "output_type": "display_data"
    },
    {
     "data": {
      "application/vnd.jupyter.widget-view+json": {
       "model_id": "4fc94742ee01425f8ed45d491831dcab",
       "version_major": 2,
       "version_minor": 0
      },
      "text/plain": [
       "time step:   0%|          | 0/100 [00:00<?, ?it/s]"
      ]
     },
     "metadata": {},
     "output_type": "display_data"
    },
    {
     "data": {
      "application/vnd.jupyter.widget-view+json": {
       "model_id": "15570a1b7f324aaf9881ba3367c0e870",
       "version_major": 2,
       "version_minor": 0
      },
      "text/plain": [
       "time step:   0%|          | 0/100 [00:00<?, ?it/s]"
      ]
     },
     "metadata": {},
     "output_type": "display_data"
    },
    {
     "data": {
      "application/vnd.jupyter.widget-view+json": {
       "model_id": "041dafdf35f44b3d8c3fc2d50846beff",
       "version_major": 2,
       "version_minor": 0
      },
      "text/plain": [
       "time step:   0%|          | 0/100 [00:00<?, ?it/s]"
      ]
     },
     "metadata": {},
     "output_type": "display_data"
    },
    {
     "data": {
      "application/vnd.jupyter.widget-view+json": {
       "model_id": "12852ccbfdd64074a507510b969f913b",
       "version_major": 2,
       "version_minor": 0
      },
      "text/plain": [
       "time step:   0%|          | 0/100 [00:00<?, ?it/s]"
      ]
     },
     "metadata": {},
     "output_type": "display_data"
    },
    {
     "data": {
      "application/vnd.jupyter.widget-view+json": {
       "model_id": "3de5dac76069495abe1ac321a5561dc1",
       "version_major": 2,
       "version_minor": 0
      },
      "text/plain": [
       "time step:   0%|          | 0/100 [00:00<?, ?it/s]"
      ]
     },
     "metadata": {},
     "output_type": "display_data"
    },
    {
     "data": {
      "application/vnd.jupyter.widget-view+json": {
       "model_id": "aa449dd1688e489c924fe09bce1c5385",
       "version_major": 2,
       "version_minor": 0
      },
      "text/plain": [
       "time step:   0%|          | 0/100 [00:00<?, ?it/s]"
      ]
     },
     "metadata": {},
     "output_type": "display_data"
    },
    {
     "data": {
      "application/vnd.jupyter.widget-view+json": {
       "model_id": "1dd72c0d611f4df1b8370a640567621c",
       "version_major": 2,
       "version_minor": 0
      },
      "text/plain": [
       "time step:   0%|          | 0/100 [00:00<?, ?it/s]"
      ]
     },
     "metadata": {},
     "output_type": "display_data"
    },
    {
     "data": {
      "application/vnd.jupyter.widget-view+json": {
       "model_id": "c5412a67aec245e1b3769f462e6f603e",
       "version_major": 2,
       "version_minor": 0
      },
      "text/plain": [
       "time step:   0%|          | 0/100 [00:00<?, ?it/s]"
      ]
     },
     "metadata": {},
     "output_type": "display_data"
    },
    {
     "data": {
      "application/vnd.jupyter.widget-view+json": {
       "model_id": "a8159b8c743e475b9c2cefa4f4af6cfa",
       "version_major": 2,
       "version_minor": 0
      },
      "text/plain": [
       "time step:   0%|          | 0/100 [00:00<?, ?it/s]"
      ]
     },
     "metadata": {},
     "output_type": "display_data"
    },
    {
     "data": {
      "application/vnd.jupyter.widget-view+json": {
       "model_id": "bfabc79044e94b008cafe9a852d92c53",
       "version_major": 2,
       "version_minor": 0
      },
      "text/plain": [
       "time step:   0%|          | 0/100 [00:00<?, ?it/s]"
      ]
     },
     "metadata": {},
     "output_type": "display_data"
    },
    {
     "data": {
      "application/vnd.jupyter.widget-view+json": {
       "model_id": "491c93ceba91440baf78cd008e469be4",
       "version_major": 2,
       "version_minor": 0
      },
      "text/plain": [
       "time step:   0%|          | 0/100 [00:00<?, ?it/s]"
      ]
     },
     "metadata": {},
     "output_type": "display_data"
    },
    {
     "data": {
      "application/vnd.jupyter.widget-view+json": {
       "model_id": "7bb768995f4c4f8b96569f89dc20aecf",
       "version_major": 2,
       "version_minor": 0
      },
      "text/plain": [
       "time step:   0%|          | 0/100 [00:00<?, ?it/s]"
      ]
     },
     "metadata": {},
     "output_type": "display_data"
    },
    {
     "data": {
      "application/vnd.jupyter.widget-view+json": {
       "model_id": "9fe44210c5404b45b36b68843879ae88",
       "version_major": 2,
       "version_minor": 0
      },
      "text/plain": [
       "time step:   0%|          | 0/100 [00:00<?, ?it/s]"
      ]
     },
     "metadata": {},
     "output_type": "display_data"
    },
    {
     "data": {
      "application/vnd.jupyter.widget-view+json": {
       "model_id": "7ffc2b2379f047eb89de0c7b15ddfcd5",
       "version_major": 2,
       "version_minor": 0
      },
      "text/plain": [
       "time step:   0%|          | 0/100 [00:00<?, ?it/s]"
      ]
     },
     "metadata": {},
     "output_type": "display_data"
    },
    {
     "data": {
      "application/vnd.jupyter.widget-view+json": {
       "model_id": "32f12d8332fb4938bbbbb91c3cb2da37",
       "version_major": 2,
       "version_minor": 0
      },
      "text/plain": [
       "time step:   0%|          | 0/100 [00:00<?, ?it/s]"
      ]
     },
     "metadata": {},
     "output_type": "display_data"
    },
    {
     "data": {
      "application/vnd.jupyter.widget-view+json": {
       "model_id": "bb5ac6ef0d91469dacde01bfd6cbfb16",
       "version_major": 2,
       "version_minor": 0
      },
      "text/plain": [
       "time step:   0%|          | 0/100 [00:00<?, ?it/s]"
      ]
     },
     "metadata": {},
     "output_type": "display_data"
    },
    {
     "data": {
      "application/vnd.jupyter.widget-view+json": {
       "model_id": "cae70e31d5774d2dbdd96f5398f9df6a",
       "version_major": 2,
       "version_minor": 0
      },
      "text/plain": [
       "time step:   0%|          | 0/100 [00:00<?, ?it/s]"
      ]
     },
     "metadata": {},
     "output_type": "display_data"
    },
    {
     "data": {
      "application/vnd.jupyter.widget-view+json": {
       "model_id": "c93d941a3a0c4988ae6d435331647dac",
       "version_major": 2,
       "version_minor": 0
      },
      "text/plain": [
       "time step:   0%|          | 0/100 [00:00<?, ?it/s]"
      ]
     },
     "metadata": {},
     "output_type": "display_data"
    },
    {
     "data": {
      "application/vnd.jupyter.widget-view+json": {
       "model_id": "bf08f491cac046ccbd2a54282a86d6fc",
       "version_major": 2,
       "version_minor": 0
      },
      "text/plain": [
       "time step:   0%|          | 0/100 [00:00<?, ?it/s]"
      ]
     },
     "metadata": {},
     "output_type": "display_data"
    },
    {
     "data": {
      "application/vnd.jupyter.widget-view+json": {
       "model_id": "857591c98e2642d7aed088d8956b641a",
       "version_major": 2,
       "version_minor": 0
      },
      "text/plain": [
       "time step:   0%|          | 0/100 [00:00<?, ?it/s]"
      ]
     },
     "metadata": {},
     "output_type": "display_data"
    },
    {
     "data": {
      "application/vnd.jupyter.widget-view+json": {
       "model_id": "e4ca02941be043ceb583d22623b1847c",
       "version_major": 2,
       "version_minor": 0
      },
      "text/plain": [
       "time step:   0%|          | 0/100 [00:00<?, ?it/s]"
      ]
     },
     "metadata": {},
     "output_type": "display_data"
    },
    {
     "data": {
      "application/vnd.jupyter.widget-view+json": {
       "model_id": "2439350b09df4e9fb949835288d6400a",
       "version_major": 2,
       "version_minor": 0
      },
      "text/plain": [
       "time step:   0%|          | 0/100 [00:00<?, ?it/s]"
      ]
     },
     "metadata": {},
     "output_type": "display_data"
    },
    {
     "data": {
      "application/vnd.jupyter.widget-view+json": {
       "model_id": "0c8451cfd61243e6ad88cc3868a49f38",
       "version_major": 2,
       "version_minor": 0
      },
      "text/plain": [
       "time step:   0%|          | 0/100 [00:00<?, ?it/s]"
      ]
     },
     "metadata": {},
     "output_type": "display_data"
    },
    {
     "data": {
      "application/vnd.jupyter.widget-view+json": {
       "model_id": "7aa0626bc4f54633ae0cc4a4da185be7",
       "version_major": 2,
       "version_minor": 0
      },
      "text/plain": [
       "time step:   0%|          | 0/100 [00:00<?, ?it/s]"
      ]
     },
     "metadata": {},
     "output_type": "display_data"
    },
    {
     "data": {
      "application/vnd.jupyter.widget-view+json": {
       "model_id": "73c1137e860843b58da5e85f70ec438d",
       "version_major": 2,
       "version_minor": 0
      },
      "text/plain": [
       "time step:   0%|          | 0/100 [00:00<?, ?it/s]"
      ]
     },
     "metadata": {},
     "output_type": "display_data"
    },
    {
     "data": {
      "application/vnd.jupyter.widget-view+json": {
       "model_id": "076d3f60f435494b93c57cefd5db3181",
       "version_major": 2,
       "version_minor": 0
      },
      "text/plain": [
       "time step:   0%|          | 0/100 [00:00<?, ?it/s]"
      ]
     },
     "metadata": {},
     "output_type": "display_data"
    },
    {
     "data": {
      "application/vnd.jupyter.widget-view+json": {
       "model_id": "86ab8889437547ff8d98b801a622aaec",
       "version_major": 2,
       "version_minor": 0
      },
      "text/plain": [
       "time step:   0%|          | 0/100 [00:00<?, ?it/s]"
      ]
     },
     "metadata": {},
     "output_type": "display_data"
    },
    {
     "data": {
      "application/vnd.jupyter.widget-view+json": {
       "model_id": "73496cb94fed41108ff88852cc72de22",
       "version_major": 2,
       "version_minor": 0
      },
      "text/plain": [
       "time step:   0%|          | 0/100 [00:00<?, ?it/s]"
      ]
     },
     "metadata": {},
     "output_type": "display_data"
    },
    {
     "data": {
      "application/vnd.jupyter.widget-view+json": {
       "model_id": "294bc74cb38344c2b01ca8728f92c1c2",
       "version_major": 2,
       "version_minor": 0
      },
      "text/plain": [
       "time step:   0%|          | 0/100 [00:00<?, ?it/s]"
      ]
     },
     "metadata": {},
     "output_type": "display_data"
    },
    {
     "data": {
      "application/vnd.jupyter.widget-view+json": {
       "model_id": "9d89b0b0fda549a5bcc65a2e90b66910",
       "version_major": 2,
       "version_minor": 0
      },
      "text/plain": [
       "time step:   0%|          | 0/100 [00:00<?, ?it/s]"
      ]
     },
     "metadata": {},
     "output_type": "display_data"
    },
    {
     "data": {
      "application/vnd.jupyter.widget-view+json": {
       "model_id": "c8490a917c2b43d1be5c7968183c158e",
       "version_major": 2,
       "version_minor": 0
      },
      "text/plain": [
       "time step:   0%|          | 0/100 [00:00<?, ?it/s]"
      ]
     },
     "metadata": {},
     "output_type": "display_data"
    },
    {
     "data": {
      "application/vnd.jupyter.widget-view+json": {
       "model_id": "4ac96931546445a1a8f9f015eec575ff",
       "version_major": 2,
       "version_minor": 0
      },
      "text/plain": [
       "time step:   0%|          | 0/100 [00:00<?, ?it/s]"
      ]
     },
     "metadata": {},
     "output_type": "display_data"
    },
    {
     "data": {
      "application/vnd.jupyter.widget-view+json": {
       "model_id": "4929ba6be46e42b9965b01b955950d10",
       "version_major": 2,
       "version_minor": 0
      },
      "text/plain": [
       "time step:   0%|          | 0/100 [00:00<?, ?it/s]"
      ]
     },
     "metadata": {},
     "output_type": "display_data"
    },
    {
     "data": {
      "application/vnd.jupyter.widget-view+json": {
       "model_id": "3d88630cbaf24fc08323d37ae4d9105e",
       "version_major": 2,
       "version_minor": 0
      },
      "text/plain": [
       "time step:   0%|          | 0/100 [00:00<?, ?it/s]"
      ]
     },
     "metadata": {},
     "output_type": "display_data"
    },
    {
     "data": {
      "application/vnd.jupyter.widget-view+json": {
       "model_id": "94c05adb1caa43789132e8242af1bd3b",
       "version_major": 2,
       "version_minor": 0
      },
      "text/plain": [
       "time step:   0%|          | 0/100 [00:00<?, ?it/s]"
      ]
     },
     "metadata": {},
     "output_type": "display_data"
    },
    {
     "data": {
      "application/vnd.jupyter.widget-view+json": {
       "model_id": "16ff5cad53f9402a90414fb179467545",
       "version_major": 2,
       "version_minor": 0
      },
      "text/plain": [
       "time step:   0%|          | 0/100 [00:00<?, ?it/s]"
      ]
     },
     "metadata": {},
     "output_type": "display_data"
    },
    {
     "data": {
      "application/vnd.jupyter.widget-view+json": {
       "model_id": "12f281bbe7764382a3c4c57f7e59e3bf",
       "version_major": 2,
       "version_minor": 0
      },
      "text/plain": [
       "time step:   0%|          | 0/100 [00:00<?, ?it/s]"
      ]
     },
     "metadata": {},
     "output_type": "display_data"
    },
    {
     "data": {
      "application/vnd.jupyter.widget-view+json": {
       "model_id": "c7e61188caa94b7ca2aa7593606ef238",
       "version_major": 2,
       "version_minor": 0
      },
      "text/plain": [
       "time step:   0%|          | 0/100 [00:00<?, ?it/s]"
      ]
     },
     "metadata": {},
     "output_type": "display_data"
    },
    {
     "data": {
      "application/vnd.jupyter.widget-view+json": {
       "model_id": "52ad5e1226bb4871bdf9e15355195e1d",
       "version_major": 2,
       "version_minor": 0
      },
      "text/plain": [
       "time step:   0%|          | 0/100 [00:00<?, ?it/s]"
      ]
     },
     "metadata": {},
     "output_type": "display_data"
    },
    {
     "data": {
      "application/vnd.jupyter.widget-view+json": {
       "model_id": "5f5890ee62a04b399b882b40eb908bfd",
       "version_major": 2,
       "version_minor": 0
      },
      "text/plain": [
       "time step:   0%|          | 0/100 [00:00<?, ?it/s]"
      ]
     },
     "metadata": {},
     "output_type": "display_data"
    },
    {
     "data": {
      "application/vnd.jupyter.widget-view+json": {
       "model_id": "98ab33f6a347416f810f9e128ed17ee0",
       "version_major": 2,
       "version_minor": 0
      },
      "text/plain": [
       "time step:   0%|          | 0/100 [00:00<?, ?it/s]"
      ]
     },
     "metadata": {},
     "output_type": "display_data"
    },
    {
     "data": {
      "application/vnd.jupyter.widget-view+json": {
       "model_id": "bfeae0fa7d834bfcbb46d5aa7c0390d2",
       "version_major": 2,
       "version_minor": 0
      },
      "text/plain": [
       "time step:   0%|          | 0/100 [00:00<?, ?it/s]"
      ]
     },
     "metadata": {},
     "output_type": "display_data"
    },
    {
     "data": {
      "application/vnd.jupyter.widget-view+json": {
       "model_id": "2e47398358594215a9b76399c6451981",
       "version_major": 2,
       "version_minor": 0
      },
      "text/plain": [
       "time step:   0%|          | 0/100 [00:00<?, ?it/s]"
      ]
     },
     "metadata": {},
     "output_type": "display_data"
    },
    {
     "data": {
      "application/vnd.jupyter.widget-view+json": {
       "model_id": "e519d71044f249538f15217151c9cb9e",
       "version_major": 2,
       "version_minor": 0
      },
      "text/plain": [
       "time step:   0%|          | 0/100 [00:00<?, ?it/s]"
      ]
     },
     "metadata": {},
     "output_type": "display_data"
    },
    {
     "data": {
      "application/vnd.jupyter.widget-view+json": {
       "model_id": "b1e3227fa08447c681f3cd4587ed85fc",
       "version_major": 2,
       "version_minor": 0
      },
      "text/plain": [
       "time step:   0%|          | 0/100 [00:00<?, ?it/s]"
      ]
     },
     "metadata": {},
     "output_type": "display_data"
    },
    {
     "data": {
      "application/vnd.jupyter.widget-view+json": {
       "model_id": "524de0b8f2a84f0ebe88a049411197ff",
       "version_major": 2,
       "version_minor": 0
      },
      "text/plain": [
       "time step:   0%|          | 0/100 [00:00<?, ?it/s]"
      ]
     },
     "metadata": {},
     "output_type": "display_data"
    },
    {
     "data": {
      "application/vnd.jupyter.widget-view+json": {
       "model_id": "897d6fed666b4ec4a3fdee7dc8c2f1e7",
       "version_major": 2,
       "version_minor": 0
      },
      "text/plain": [
       "time step:   0%|          | 0/100 [00:00<?, ?it/s]"
      ]
     },
     "metadata": {},
     "output_type": "display_data"
    },
    {
     "data": {
      "application/vnd.jupyter.widget-view+json": {
       "model_id": "92a18f2a55c94590889cd95b9007927b",
       "version_major": 2,
       "version_minor": 0
      },
      "text/plain": [
       "time step:   0%|          | 0/100 [00:00<?, ?it/s]"
      ]
     },
     "metadata": {},
     "output_type": "display_data"
    },
    {
     "data": {
      "application/vnd.jupyter.widget-view+json": {
       "model_id": "d3db18664bf649b383831b820f2497c5",
       "version_major": 2,
       "version_minor": 0
      },
      "text/plain": [
       "time step:   0%|          | 0/100 [00:00<?, ?it/s]"
      ]
     },
     "metadata": {},
     "output_type": "display_data"
    },
    {
     "data": {
      "application/vnd.jupyter.widget-view+json": {
       "model_id": "ce84f0d8913c4ee390ec898cfd50dd07",
       "version_major": 2,
       "version_minor": 0
      },
      "text/plain": [
       "time step:   0%|          | 0/100 [00:00<?, ?it/s]"
      ]
     },
     "metadata": {},
     "output_type": "display_data"
    },
    {
     "data": {
      "application/vnd.jupyter.widget-view+json": {
       "model_id": "63b5053710fd4936b49bc3835b9f9152",
       "version_major": 2,
       "version_minor": 0
      },
      "text/plain": [
       "time step:   0%|          | 0/100 [00:00<?, ?it/s]"
      ]
     },
     "metadata": {},
     "output_type": "display_data"
    },
    {
     "data": {
      "application/vnd.jupyter.widget-view+json": {
       "model_id": "34a276d5e0dc4237aab03029d8f5c092",
       "version_major": 2,
       "version_minor": 0
      },
      "text/plain": [
       "time step:   0%|          | 0/100 [00:00<?, ?it/s]"
      ]
     },
     "metadata": {},
     "output_type": "display_data"
    },
    {
     "data": {
      "application/vnd.jupyter.widget-view+json": {
       "model_id": "28ea5b6d6b2a43d6b763668d31c923ca",
       "version_major": 2,
       "version_minor": 0
      },
      "text/plain": [
       "time step:   0%|          | 0/100 [00:00<?, ?it/s]"
      ]
     },
     "metadata": {},
     "output_type": "display_data"
    },
    {
     "data": {
      "application/vnd.jupyter.widget-view+json": {
       "model_id": "70e40e5f61604e5fb36ab3d6756f1066",
       "version_major": 2,
       "version_minor": 0
      },
      "text/plain": [
       "time step:   0%|          | 0/100 [00:00<?, ?it/s]"
      ]
     },
     "metadata": {},
     "output_type": "display_data"
    },
    {
     "data": {
      "application/vnd.jupyter.widget-view+json": {
       "model_id": "02e72784222d4fff9689100330aa73d5",
       "version_major": 2,
       "version_minor": 0
      },
      "text/plain": [
       "time step:   0%|          | 0/100 [00:00<?, ?it/s]"
      ]
     },
     "metadata": {},
     "output_type": "display_data"
    },
    {
     "data": {
      "application/vnd.jupyter.widget-view+json": {
       "model_id": "98c6491fc74045c2bced7b380295d625",
       "version_major": 2,
       "version_minor": 0
      },
      "text/plain": [
       "time step:   0%|          | 0/100 [00:00<?, ?it/s]"
      ]
     },
     "metadata": {},
     "output_type": "display_data"
    },
    {
     "data": {
      "application/vnd.jupyter.widget-view+json": {
       "model_id": "4745736c67e247a697e8c41f0ba825fe",
       "version_major": 2,
       "version_minor": 0
      },
      "text/plain": [
       "time step:   0%|          | 0/100 [00:00<?, ?it/s]"
      ]
     },
     "metadata": {},
     "output_type": "display_data"
    },
    {
     "data": {
      "application/vnd.jupyter.widget-view+json": {
       "model_id": "48b7b4d2fb3d4eb2be686ed4ab0e6d90",
       "version_major": 2,
       "version_minor": 0
      },
      "text/plain": [
       "time step:   0%|          | 0/100 [00:00<?, ?it/s]"
      ]
     },
     "metadata": {},
     "output_type": "display_data"
    },
    {
     "data": {
      "application/vnd.jupyter.widget-view+json": {
       "model_id": "0ec3390b2a004d5ab9388329c5012694",
       "version_major": 2,
       "version_minor": 0
      },
      "text/plain": [
       "time step:   0%|          | 0/100 [00:00<?, ?it/s]"
      ]
     },
     "metadata": {},
     "output_type": "display_data"
    },
    {
     "data": {
      "application/vnd.jupyter.widget-view+json": {
       "model_id": "646b0ada2580440a9037302ec383052c",
       "version_major": 2,
       "version_minor": 0
      },
      "text/plain": [
       "time step:   0%|          | 0/100 [00:00<?, ?it/s]"
      ]
     },
     "metadata": {},
     "output_type": "display_data"
    },
    {
     "data": {
      "application/vnd.jupyter.widget-view+json": {
       "model_id": "8d40cee76d6c474a9830055eadc5ce72",
       "version_major": 2,
       "version_minor": 0
      },
      "text/plain": [
       "time step:   0%|          | 0/100 [00:00<?, ?it/s]"
      ]
     },
     "metadata": {},
     "output_type": "display_data"
    },
    {
     "data": {
      "application/vnd.jupyter.widget-view+json": {
       "model_id": "fe507bdb8e1c40bbae4679f8d772c93d",
       "version_major": 2,
       "version_minor": 0
      },
      "text/plain": [
       "time step:   0%|          | 0/100 [00:00<?, ?it/s]"
      ]
     },
     "metadata": {},
     "output_type": "display_data"
    },
    {
     "data": {
      "application/vnd.jupyter.widget-view+json": {
       "model_id": "f5f19b2a5e954335a16670a38099e34e",
       "version_major": 2,
       "version_minor": 0
      },
      "text/plain": [
       "time step:   0%|          | 0/100 [00:00<?, ?it/s]"
      ]
     },
     "metadata": {},
     "output_type": "display_data"
    },
    {
     "data": {
      "application/vnd.jupyter.widget-view+json": {
       "model_id": "23f84d9922d3487aaa78749e6daa8846",
       "version_major": 2,
       "version_minor": 0
      },
      "text/plain": [
       "time step:   0%|          | 0/100 [00:00<?, ?it/s]"
      ]
     },
     "metadata": {},
     "output_type": "display_data"
    },
    {
     "data": {
      "application/vnd.jupyter.widget-view+json": {
       "model_id": "ca44854983994edeb615ad37e066e719",
       "version_major": 2,
       "version_minor": 0
      },
      "text/plain": [
       "time step:   0%|          | 0/100 [00:00<?, ?it/s]"
      ]
     },
     "metadata": {},
     "output_type": "display_data"
    },
    {
     "data": {
      "application/vnd.jupyter.widget-view+json": {
       "model_id": "ace1cb1daffe4f71bb31293731837a65",
       "version_major": 2,
       "version_minor": 0
      },
      "text/plain": [
       "time step:   0%|          | 0/100 [00:00<?, ?it/s]"
      ]
     },
     "metadata": {},
     "output_type": "display_data"
    },
    {
     "data": {
      "application/vnd.jupyter.widget-view+json": {
       "model_id": "b5048410244048c089aa86a269422bfc",
       "version_major": 2,
       "version_minor": 0
      },
      "text/plain": [
       "time step:   0%|          | 0/100 [00:00<?, ?it/s]"
      ]
     },
     "metadata": {},
     "output_type": "display_data"
    },
    {
     "data": {
      "application/vnd.jupyter.widget-view+json": {
       "model_id": "0c892abf50474019b502768bb0a49eff",
       "version_major": 2,
       "version_minor": 0
      },
      "text/plain": [
       "time step:   0%|          | 0/100 [00:00<?, ?it/s]"
      ]
     },
     "metadata": {},
     "output_type": "display_data"
    },
    {
     "data": {
      "application/vnd.jupyter.widget-view+json": {
       "model_id": "6da4285506c34f3090fbd028cec7b392",
       "version_major": 2,
       "version_minor": 0
      },
      "text/plain": [
       "time step:   0%|          | 0/100 [00:00<?, ?it/s]"
      ]
     },
     "metadata": {},
     "output_type": "display_data"
    },
    {
     "data": {
      "application/vnd.jupyter.widget-view+json": {
       "model_id": "dfe2c841961543d490fe79b5616698ed",
       "version_major": 2,
       "version_minor": 0
      },
      "text/plain": [
       "time step:   0%|          | 0/100 [00:00<?, ?it/s]"
      ]
     },
     "metadata": {},
     "output_type": "display_data"
    },
    {
     "data": {
      "application/vnd.jupyter.widget-view+json": {
       "model_id": "6ae37a82563f430fbc878ca82179e5a0",
       "version_major": 2,
       "version_minor": 0
      },
      "text/plain": [
       "time step:   0%|          | 0/100 [00:00<?, ?it/s]"
      ]
     },
     "metadata": {},
     "output_type": "display_data"
    },
    {
     "data": {
      "application/vnd.jupyter.widget-view+json": {
       "model_id": "196916b9332e4e40b615ae9e2eccfe09",
       "version_major": 2,
       "version_minor": 0
      },
      "text/plain": [
       "time step:   0%|          | 0/100 [00:00<?, ?it/s]"
      ]
     },
     "metadata": {},
     "output_type": "display_data"
    },
    {
     "data": {
      "application/vnd.jupyter.widget-view+json": {
       "model_id": "525e6de705e14a288cf278b730cea8b7",
       "version_major": 2,
       "version_minor": 0
      },
      "text/plain": [
       "time step:   0%|          | 0/100 [00:00<?, ?it/s]"
      ]
     },
     "metadata": {},
     "output_type": "display_data"
    },
    {
     "data": {
      "application/vnd.jupyter.widget-view+json": {
       "model_id": "368c23ddc0584fee91b758b6a7b99b82",
       "version_major": 2,
       "version_minor": 0
      },
      "text/plain": [
       "time step:   0%|          | 0/100 [00:00<?, ?it/s]"
      ]
     },
     "metadata": {},
     "output_type": "display_data"
    },
    {
     "data": {
      "application/vnd.jupyter.widget-view+json": {
       "model_id": "ef34d654968d4c0bbfbeb07fc1540569",
       "version_major": 2,
       "version_minor": 0
      },
      "text/plain": [
       "time step:   0%|          | 0/100 [00:00<?, ?it/s]"
      ]
     },
     "metadata": {},
     "output_type": "display_data"
    },
    {
     "data": {
      "application/vnd.jupyter.widget-view+json": {
       "model_id": "a0c469fa509c4555bf391ed9722be63f",
       "version_major": 2,
       "version_minor": 0
      },
      "text/plain": [
       "time step:   0%|          | 0/100 [00:00<?, ?it/s]"
      ]
     },
     "metadata": {},
     "output_type": "display_data"
    },
    {
     "data": {
      "application/vnd.jupyter.widget-view+json": {
       "model_id": "2266db2b14d548b2ab3b2eaf1fef2d23",
       "version_major": 2,
       "version_minor": 0
      },
      "text/plain": [
       "time step:   0%|          | 0/100 [00:00<?, ?it/s]"
      ]
     },
     "metadata": {},
     "output_type": "display_data"
    },
    {
     "data": {
      "application/vnd.jupyter.widget-view+json": {
       "model_id": "7058841d47a44d9fbdc28e5cce3001a7",
       "version_major": 2,
       "version_minor": 0
      },
      "text/plain": [
       "time step:   0%|          | 0/100 [00:00<?, ?it/s]"
      ]
     },
     "metadata": {},
     "output_type": "display_data"
    },
    {
     "data": {
      "application/vnd.jupyter.widget-view+json": {
       "model_id": "a997f284e00e4f0ba2d84505d102e4ca",
       "version_major": 2,
       "version_minor": 0
      },
      "text/plain": [
       "time step:   0%|          | 0/100 [00:00<?, ?it/s]"
      ]
     },
     "metadata": {},
     "output_type": "display_data"
    },
    {
     "data": {
      "application/vnd.jupyter.widget-view+json": {
       "model_id": "9aab2cd6187f4bbfb3fa5b710c67e1a8",
       "version_major": 2,
       "version_minor": 0
      },
      "text/plain": [
       "time step:   0%|          | 0/100 [00:00<?, ?it/s]"
      ]
     },
     "metadata": {},
     "output_type": "display_data"
    },
    {
     "data": {
      "application/vnd.jupyter.widget-view+json": {
       "model_id": "da390db629f24747b44b68b69909b030",
       "version_major": 2,
       "version_minor": 0
      },
      "text/plain": [
       "time step:   0%|          | 0/100 [00:00<?, ?it/s]"
      ]
     },
     "metadata": {},
     "output_type": "display_data"
    },
    {
     "data": {
      "application/vnd.jupyter.widget-view+json": {
       "model_id": "6840512a184b4a97a838a1ddf09eca28",
       "version_major": 2,
       "version_minor": 0
      },
      "text/plain": [
       "time step:   0%|          | 0/100 [00:00<?, ?it/s]"
      ]
     },
     "metadata": {},
     "output_type": "display_data"
    },
    {
     "data": {
      "application/vnd.jupyter.widget-view+json": {
       "model_id": "61b7bf6504854d729318935b0584d40e",
       "version_major": 2,
       "version_minor": 0
      },
      "text/plain": [
       "time step:   0%|          | 0/100 [00:00<?, ?it/s]"
      ]
     },
     "metadata": {},
     "output_type": "display_data"
    },
    {
     "data": {
      "application/vnd.jupyter.widget-view+json": {
       "model_id": "997e3f04fd8d48caae889ead53f0803a",
       "version_major": 2,
       "version_minor": 0
      },
      "text/plain": [
       "time step:   0%|          | 0/100 [00:00<?, ?it/s]"
      ]
     },
     "metadata": {},
     "output_type": "display_data"
    },
    {
     "data": {
      "application/vnd.jupyter.widget-view+json": {
       "model_id": "bcf748561718482da28f522a12638ac5",
       "version_major": 2,
       "version_minor": 0
      },
      "text/plain": [
       "time step:   0%|          | 0/100 [00:00<?, ?it/s]"
      ]
     },
     "metadata": {},
     "output_type": "display_data"
    },
    {
     "data": {
      "application/vnd.jupyter.widget-view+json": {
       "model_id": "b60f3cca9ebd4532b420427f247e717e",
       "version_major": 2,
       "version_minor": 0
      },
      "text/plain": [
       "time step:   0%|          | 0/100 [00:00<?, ?it/s]"
      ]
     },
     "metadata": {},
     "output_type": "display_data"
    },
    {
     "data": {
      "application/vnd.jupyter.widget-view+json": {
       "model_id": "dca9dafe1bcd490a9b3f6b0f2acc84e6",
       "version_major": 2,
       "version_minor": 0
      },
      "text/plain": [
       "time step:   0%|          | 0/100 [00:00<?, ?it/s]"
      ]
     },
     "metadata": {},
     "output_type": "display_data"
    },
    {
     "data": {
      "application/vnd.jupyter.widget-view+json": {
       "model_id": "285ed92fd76c453787de2c5c32981aa3",
       "version_major": 2,
       "version_minor": 0
      },
      "text/plain": [
       "time step:   0%|          | 0/100 [00:00<?, ?it/s]"
      ]
     },
     "metadata": {},
     "output_type": "display_data"
    },
    {
     "data": {
      "application/vnd.jupyter.widget-view+json": {
       "model_id": "973672fdb7ea47828e6c3ac2f4acde05",
       "version_major": 2,
       "version_minor": 0
      },
      "text/plain": [
       "time step:   0%|          | 0/100 [00:00<?, ?it/s]"
      ]
     },
     "metadata": {},
     "output_type": "display_data"
    },
    {
     "data": {
      "application/vnd.jupyter.widget-view+json": {
       "model_id": "af70b143853b48eb8ff60132887ac3cc",
       "version_major": 2,
       "version_minor": 0
      },
      "text/plain": [
       "time step:   0%|          | 0/100 [00:00<?, ?it/s]"
      ]
     },
     "metadata": {},
     "output_type": "display_data"
    },
    {
     "data": {
      "application/vnd.jupyter.widget-view+json": {
       "model_id": "d3ea343a68054e4cafc05ba9c21fa353",
       "version_major": 2,
       "version_minor": 0
      },
      "text/plain": [
       "time step:   0%|          | 0/100 [00:00<?, ?it/s]"
      ]
     },
     "metadata": {},
     "output_type": "display_data"
    },
    {
     "data": {
      "application/vnd.jupyter.widget-view+json": {
       "model_id": "93cc39128fee451f8da9cefc3fd247d7",
       "version_major": 2,
       "version_minor": 0
      },
      "text/plain": [
       "time step:   0%|          | 0/100 [00:00<?, ?it/s]"
      ]
     },
     "metadata": {},
     "output_type": "display_data"
    },
    {
     "data": {
      "application/vnd.jupyter.widget-view+json": {
       "model_id": "4e36240f213746ef8a1c3418420a9bc2",
       "version_major": 2,
       "version_minor": 0
      },
      "text/plain": [
       "time step:   0%|          | 0/100 [00:00<?, ?it/s]"
      ]
     },
     "metadata": {},
     "output_type": "display_data"
    },
    {
     "data": {
      "application/vnd.jupyter.widget-view+json": {
       "model_id": "75d19f8f89a342fd81bed5e05720537d",
       "version_major": 2,
       "version_minor": 0
      },
      "text/plain": [
       "time step:   0%|          | 0/100 [00:00<?, ?it/s]"
      ]
     },
     "metadata": {},
     "output_type": "display_data"
    },
    {
     "data": {
      "application/vnd.jupyter.widget-view+json": {
       "model_id": "640e10e5b4504320ade89d4314408538",
       "version_major": 2,
       "version_minor": 0
      },
      "text/plain": [
       "time step:   0%|          | 0/100 [00:00<?, ?it/s]"
      ]
     },
     "metadata": {},
     "output_type": "display_data"
    },
    {
     "data": {
      "application/vnd.jupyter.widget-view+json": {
       "model_id": "2e988b2cc48a448e835525787ac98534",
       "version_major": 2,
       "version_minor": 0
      },
      "text/plain": [
       "time step:   0%|          | 0/100 [00:00<?, ?it/s]"
      ]
     },
     "metadata": {},
     "output_type": "display_data"
    },
    {
     "data": {
      "application/vnd.jupyter.widget-view+json": {
       "model_id": "5fbb32ae528b40cfa66c8fa2106ee723",
       "version_major": 2,
       "version_minor": 0
      },
      "text/plain": [
       "time step:   0%|          | 0/100 [00:00<?, ?it/s]"
      ]
     },
     "metadata": {},
     "output_type": "display_data"
    },
    {
     "data": {
      "application/vnd.jupyter.widget-view+json": {
       "model_id": "56a17ad675124a368306bcb29ffc3a75",
       "version_major": 2,
       "version_minor": 0
      },
      "text/plain": [
       "time step:   0%|          | 0/100 [00:00<?, ?it/s]"
      ]
     },
     "metadata": {},
     "output_type": "display_data"
    },
    {
     "data": {
      "application/vnd.jupyter.widget-view+json": {
       "model_id": "7444741a682845b181055e35c2c7eae1",
       "version_major": 2,
       "version_minor": 0
      },
      "text/plain": [
       "time step:   0%|          | 0/100 [00:00<?, ?it/s]"
      ]
     },
     "metadata": {},
     "output_type": "display_data"
    },
    {
     "data": {
      "application/vnd.jupyter.widget-view+json": {
       "model_id": "c6d936184903419bb40aed58ee232eaf",
       "version_major": 2,
       "version_minor": 0
      },
      "text/plain": [
       "time step:   0%|          | 0/100 [00:00<?, ?it/s]"
      ]
     },
     "metadata": {},
     "output_type": "display_data"
    },
    {
     "data": {
      "application/vnd.jupyter.widget-view+json": {
       "model_id": "55b46e12c40945b882f0ebc95c6636ea",
       "version_major": 2,
       "version_minor": 0
      },
      "text/plain": [
       "time step:   0%|          | 0/100 [00:00<?, ?it/s]"
      ]
     },
     "metadata": {},
     "output_type": "display_data"
    },
    {
     "data": {
      "application/vnd.jupyter.widget-view+json": {
       "model_id": "ff4bdb0009494cdeaab762a1c77e8238",
       "version_major": 2,
       "version_minor": 0
      },
      "text/plain": [
       "time step:   0%|          | 0/100 [00:00<?, ?it/s]"
      ]
     },
     "metadata": {},
     "output_type": "display_data"
    },
    {
     "data": {
      "application/vnd.jupyter.widget-view+json": {
       "model_id": "eeab8541032840ebad08d076ee1cf837",
       "version_major": 2,
       "version_minor": 0
      },
      "text/plain": [
       "time step:   0%|          | 0/100 [00:00<?, ?it/s]"
      ]
     },
     "metadata": {},
     "output_type": "display_data"
    },
    {
     "data": {
      "application/vnd.jupyter.widget-view+json": {
       "model_id": "0ec37011fe0f4cbb8f7fadc47850403a",
       "version_major": 2,
       "version_minor": 0
      },
      "text/plain": [
       "time step:   0%|          | 0/100 [00:00<?, ?it/s]"
      ]
     },
     "metadata": {},
     "output_type": "display_data"
    },
    {
     "data": {
      "application/vnd.jupyter.widget-view+json": {
       "model_id": "8cffbbb8d377401cad8ad2fd27dc4693",
       "version_major": 2,
       "version_minor": 0
      },
      "text/plain": [
       "time step:   0%|          | 0/100 [00:00<?, ?it/s]"
      ]
     },
     "metadata": {},
     "output_type": "display_data"
    },
    {
     "data": {
      "application/vnd.jupyter.widget-view+json": {
       "model_id": "f2ba55ea85f543a3a0c4e03fdafddd0d",
       "version_major": 2,
       "version_minor": 0
      },
      "text/plain": [
       "time step:   0%|          | 0/100 [00:00<?, ?it/s]"
      ]
     },
     "metadata": {},
     "output_type": "display_data"
    },
    {
     "data": {
      "application/vnd.jupyter.widget-view+json": {
       "model_id": "717d15f0766e486db6517e68964a53bd",
       "version_major": 2,
       "version_minor": 0
      },
      "text/plain": [
       "time step:   0%|          | 0/100 [00:00<?, ?it/s]"
      ]
     },
     "metadata": {},
     "output_type": "display_data"
    },
    {
     "data": {
      "application/vnd.jupyter.widget-view+json": {
       "model_id": "bc8c55b14aa44447a1badddd32409714",
       "version_major": 2,
       "version_minor": 0
      },
      "text/plain": [
       "time step:   0%|          | 0/100 [00:00<?, ?it/s]"
      ]
     },
     "metadata": {},
     "output_type": "display_data"
    },
    {
     "data": {
      "application/vnd.jupyter.widget-view+json": {
       "model_id": "493c84084fc546ad8d33b907c381d221",
       "version_major": 2,
       "version_minor": 0
      },
      "text/plain": [
       "time step:   0%|          | 0/100 [00:00<?, ?it/s]"
      ]
     },
     "metadata": {},
     "output_type": "display_data"
    },
    {
     "data": {
      "application/vnd.jupyter.widget-view+json": {
       "model_id": "9b5963ca298d4456a45fc8f5282176e9",
       "version_major": 2,
       "version_minor": 0
      },
      "text/plain": [
       "time step:   0%|          | 0/100 [00:00<?, ?it/s]"
      ]
     },
     "metadata": {},
     "output_type": "display_data"
    },
    {
     "data": {
      "application/vnd.jupyter.widget-view+json": {
       "model_id": "16fb2d08475149ed8c370c89c7c80962",
       "version_major": 2,
       "version_minor": 0
      },
      "text/plain": [
       "time step:   0%|          | 0/100 [00:00<?, ?it/s]"
      ]
     },
     "metadata": {},
     "output_type": "display_data"
    },
    {
     "data": {
      "application/vnd.jupyter.widget-view+json": {
       "model_id": "4acd08dc77f14976bda401485a90d1ff",
       "version_major": 2,
       "version_minor": 0
      },
      "text/plain": [
       "time step:   0%|          | 0/100 [00:00<?, ?it/s]"
      ]
     },
     "metadata": {},
     "output_type": "display_data"
    },
    {
     "data": {
      "application/vnd.jupyter.widget-view+json": {
       "model_id": "d3c3df5aec3243d5bc2cf57cd7ae0e51",
       "version_major": 2,
       "version_minor": 0
      },
      "text/plain": [
       "time step:   0%|          | 0/100 [00:00<?, ?it/s]"
      ]
     },
     "metadata": {},
     "output_type": "display_data"
    },
    {
     "data": {
      "application/vnd.jupyter.widget-view+json": {
       "model_id": "90f60fa6e6154d5d9a5c16d9f53d34d0",
       "version_major": 2,
       "version_minor": 0
      },
      "text/plain": [
       "time step:   0%|          | 0/100 [00:00<?, ?it/s]"
      ]
     },
     "metadata": {},
     "output_type": "display_data"
    },
    {
     "data": {
      "application/vnd.jupyter.widget-view+json": {
       "model_id": "a492da631e2148a8bdb56f5d52ae5259",
       "version_major": 2,
       "version_minor": 0
      },
      "text/plain": [
       "time step:   0%|          | 0/100 [00:00<?, ?it/s]"
      ]
     },
     "metadata": {},
     "output_type": "display_data"
    },
    {
     "data": {
      "application/vnd.jupyter.widget-view+json": {
       "model_id": "ce131cda0524497b93c7c6d1fa9e013d",
       "version_major": 2,
       "version_minor": 0
      },
      "text/plain": [
       "time step:   0%|          | 0/100 [00:00<?, ?it/s]"
      ]
     },
     "metadata": {},
     "output_type": "display_data"
    },
    {
     "data": {
      "application/vnd.jupyter.widget-view+json": {
       "model_id": "99ea5d1998ab4a6a8573b8c0fb2444f3",
       "version_major": 2,
       "version_minor": 0
      },
      "text/plain": [
       "time step:   0%|          | 0/100 [00:00<?, ?it/s]"
      ]
     },
     "metadata": {},
     "output_type": "display_data"
    },
    {
     "data": {
      "application/vnd.jupyter.widget-view+json": {
       "model_id": "4afc7d78f9564161ae78f3151a66a147",
       "version_major": 2,
       "version_minor": 0
      },
      "text/plain": [
       "time step:   0%|          | 0/100 [00:00<?, ?it/s]"
      ]
     },
     "metadata": {},
     "output_type": "display_data"
    },
    {
     "data": {
      "application/vnd.jupyter.widget-view+json": {
       "model_id": "b26d643be9a148fb96f8224fb9c4bd5c",
       "version_major": 2,
       "version_minor": 0
      },
      "text/plain": [
       "time step:   0%|          | 0/100 [00:00<?, ?it/s]"
      ]
     },
     "metadata": {},
     "output_type": "display_data"
    },
    {
     "data": {
      "application/vnd.jupyter.widget-view+json": {
       "model_id": "08e50965cfa64d20b92c460c841690ec",
       "version_major": 2,
       "version_minor": 0
      },
      "text/plain": [
       "time step:   0%|          | 0/100 [00:00<?, ?it/s]"
      ]
     },
     "metadata": {},
     "output_type": "display_data"
    },
    {
     "data": {
      "application/vnd.jupyter.widget-view+json": {
       "model_id": "e609317ef1614676b99db7cbd8a86718",
       "version_major": 2,
       "version_minor": 0
      },
      "text/plain": [
       "time step:   0%|          | 0/100 [00:00<?, ?it/s]"
      ]
     },
     "metadata": {},
     "output_type": "display_data"
    },
    {
     "data": {
      "application/vnd.jupyter.widget-view+json": {
       "model_id": "df79c48cd0d74984aead28aeeeb3a734",
       "version_major": 2,
       "version_minor": 0
      },
      "text/plain": [
       "time step:   0%|          | 0/100 [00:00<?, ?it/s]"
      ]
     },
     "metadata": {},
     "output_type": "display_data"
    },
    {
     "data": {
      "application/vnd.jupyter.widget-view+json": {
       "model_id": "ba93bdf699ee49f686d01411620241e4",
       "version_major": 2,
       "version_minor": 0
      },
      "text/plain": [
       "time step:   0%|          | 0/100 [00:00<?, ?it/s]"
      ]
     },
     "metadata": {},
     "output_type": "display_data"
    },
    {
     "data": {
      "application/vnd.jupyter.widget-view+json": {
       "model_id": "023751079ee14532bfa92a4bfac42c02",
       "version_major": 2,
       "version_minor": 0
      },
      "text/plain": [
       "time step:   0%|          | 0/100 [00:00<?, ?it/s]"
      ]
     },
     "metadata": {},
     "output_type": "display_data"
    },
    {
     "data": {
      "application/vnd.jupyter.widget-view+json": {
       "model_id": "a108a4ad901041bfabd125459f39082d",
       "version_major": 2,
       "version_minor": 0
      },
      "text/plain": [
       "time step:   0%|          | 0/100 [00:00<?, ?it/s]"
      ]
     },
     "metadata": {},
     "output_type": "display_data"
    },
    {
     "data": {
      "application/vnd.jupyter.widget-view+json": {
       "model_id": "945a585c1be647cba33250a4bebc46d4",
       "version_major": 2,
       "version_minor": 0
      },
      "text/plain": [
       "time step:   0%|          | 0/100 [00:00<?, ?it/s]"
      ]
     },
     "metadata": {},
     "output_type": "display_data"
    },
    {
     "data": {
      "application/vnd.jupyter.widget-view+json": {
       "model_id": "f9e58eb601714596b5d64c74a97f5f2a",
       "version_major": 2,
       "version_minor": 0
      },
      "text/plain": [
       "time step:   0%|          | 0/100 [00:00<?, ?it/s]"
      ]
     },
     "metadata": {},
     "output_type": "display_data"
    },
    {
     "data": {
      "application/vnd.jupyter.widget-view+json": {
       "model_id": "f472c528433941e297c8848ba3df03f7",
       "version_major": 2,
       "version_minor": 0
      },
      "text/plain": [
       "time step:   0%|          | 0/100 [00:00<?, ?it/s]"
      ]
     },
     "metadata": {},
     "output_type": "display_data"
    },
    {
     "data": {
      "application/vnd.jupyter.widget-view+json": {
       "model_id": "12e537de13d6470fad536c46ec3f158d",
       "version_major": 2,
       "version_minor": 0
      },
      "text/plain": [
       "time step:   0%|          | 0/100 [00:00<?, ?it/s]"
      ]
     },
     "metadata": {},
     "output_type": "display_data"
    },
    {
     "data": {
      "application/vnd.jupyter.widget-view+json": {
       "model_id": "52bfb8e4b943401c9c754727a380d5a4",
       "version_major": 2,
       "version_minor": 0
      },
      "text/plain": [
       "time step:   0%|          | 0/100 [00:00<?, ?it/s]"
      ]
     },
     "metadata": {},
     "output_type": "display_data"
    },
    {
     "data": {
      "application/vnd.jupyter.widget-view+json": {
       "model_id": "df7457e29a164f9d8340757e2f4c881a",
       "version_major": 2,
       "version_minor": 0
      },
      "text/plain": [
       "time step:   0%|          | 0/100 [00:00<?, ?it/s]"
      ]
     },
     "metadata": {},
     "output_type": "display_data"
    },
    {
     "data": {
      "application/vnd.jupyter.widget-view+json": {
       "model_id": "a932f682548e43ebbd5d3984290bd410",
       "version_major": 2,
       "version_minor": 0
      },
      "text/plain": [
       "time step:   0%|          | 0/100 [00:00<?, ?it/s]"
      ]
     },
     "metadata": {},
     "output_type": "display_data"
    },
    {
     "data": {
      "application/vnd.jupyter.widget-view+json": {
       "model_id": "b34cad3a88ec4e8583057a2327ff8096",
       "version_major": 2,
       "version_minor": 0
      },
      "text/plain": [
       "time step:   0%|          | 0/100 [00:00<?, ?it/s]"
      ]
     },
     "metadata": {},
     "output_type": "display_data"
    },
    {
     "data": {
      "application/vnd.jupyter.widget-view+json": {
       "model_id": "c82603bc77734d78a24d46f8efc6d5e8",
       "version_major": 2,
       "version_minor": 0
      },
      "text/plain": [
       "time step:   0%|          | 0/100 [00:00<?, ?it/s]"
      ]
     },
     "metadata": {},
     "output_type": "display_data"
    },
    {
     "data": {
      "application/vnd.jupyter.widget-view+json": {
       "model_id": "30aa3ef2a5614b0ba7e1d4b6d41d3563",
       "version_major": 2,
       "version_minor": 0
      },
      "text/plain": [
       "time step:   0%|          | 0/100 [00:00<?, ?it/s]"
      ]
     },
     "metadata": {},
     "output_type": "display_data"
    },
    {
     "data": {
      "application/vnd.jupyter.widget-view+json": {
       "model_id": "96efd4df1c2e4b1db468225b59782f96",
       "version_major": 2,
       "version_minor": 0
      },
      "text/plain": [
       "time step:   0%|          | 0/100 [00:00<?, ?it/s]"
      ]
     },
     "metadata": {},
     "output_type": "display_data"
    },
    {
     "data": {
      "application/vnd.jupyter.widget-view+json": {
       "model_id": "3381aea643dc4b7e854fd2b071e301af",
       "version_major": 2,
       "version_minor": 0
      },
      "text/plain": [
       "time step:   0%|          | 0/100 [00:00<?, ?it/s]"
      ]
     },
     "metadata": {},
     "output_type": "display_data"
    },
    {
     "data": {
      "application/vnd.jupyter.widget-view+json": {
       "model_id": "fa23e33ae6014e98a99a128a91ad8f54",
       "version_major": 2,
       "version_minor": 0
      },
      "text/plain": [
       "time step:   0%|          | 0/100 [00:00<?, ?it/s]"
      ]
     },
     "metadata": {},
     "output_type": "display_data"
    },
    {
     "data": {
      "application/vnd.jupyter.widget-view+json": {
       "model_id": "b590aeadc5c14f499da10d2f11a72636",
       "version_major": 2,
       "version_minor": 0
      },
      "text/plain": [
       "time step:   0%|          | 0/100 [00:00<?, ?it/s]"
      ]
     },
     "metadata": {},
     "output_type": "display_data"
    },
    {
     "data": {
      "application/vnd.jupyter.widget-view+json": {
       "model_id": "e3e26d8b6b744a49a7141f179cf7472e",
       "version_major": 2,
       "version_minor": 0
      },
      "text/plain": [
       "time step:   0%|          | 0/100 [00:00<?, ?it/s]"
      ]
     },
     "metadata": {},
     "output_type": "display_data"
    },
    {
     "data": {
      "application/vnd.jupyter.widget-view+json": {
       "model_id": "a98bd926e7894688842d996ce0115076",
       "version_major": 2,
       "version_minor": 0
      },
      "text/plain": [
       "time step:   0%|          | 0/100 [00:00<?, ?it/s]"
      ]
     },
     "metadata": {},
     "output_type": "display_data"
    },
    {
     "data": {
      "application/vnd.jupyter.widget-view+json": {
       "model_id": "b84c61d571354edd80bb278a77b69952",
       "version_major": 2,
       "version_minor": 0
      },
      "text/plain": [
       "time step:   0%|          | 0/100 [00:00<?, ?it/s]"
      ]
     },
     "metadata": {},
     "output_type": "display_data"
    },
    {
     "data": {
      "application/vnd.jupyter.widget-view+json": {
       "model_id": "db7d62c3258148778b66e2dbea647b45",
       "version_major": 2,
       "version_minor": 0
      },
      "text/plain": [
       "time step:   0%|          | 0/100 [00:00<?, ?it/s]"
      ]
     },
     "metadata": {},
     "output_type": "display_data"
    },
    {
     "data": {
      "application/vnd.jupyter.widget-view+json": {
       "model_id": "8ba81bb5948d4bd4a315a2d62d83d8d7",
       "version_major": 2,
       "version_minor": 0
      },
      "text/plain": [
       "time step:   0%|          | 0/100 [00:00<?, ?it/s]"
      ]
     },
     "metadata": {},
     "output_type": "display_data"
    },
    {
     "data": {
      "application/vnd.jupyter.widget-view+json": {
       "model_id": "1f11c14600d246749d6ecf4b2f6d5b7b",
       "version_major": 2,
       "version_minor": 0
      },
      "text/plain": [
       "time step:   0%|          | 0/100 [00:00<?, ?it/s]"
      ]
     },
     "metadata": {},
     "output_type": "display_data"
    },
    {
     "data": {
      "application/vnd.jupyter.widget-view+json": {
       "model_id": "823eeaa2b17046789f9327a0bd20f609",
       "version_major": 2,
       "version_minor": 0
      },
      "text/plain": [
       "time step:   0%|          | 0/100 [00:00<?, ?it/s]"
      ]
     },
     "metadata": {},
     "output_type": "display_data"
    },
    {
     "data": {
      "application/vnd.jupyter.widget-view+json": {
       "model_id": "e113f0dfecbe4bd2a4fdd582eb1f259a",
       "version_major": 2,
       "version_minor": 0
      },
      "text/plain": [
       "time step:   0%|          | 0/100 [00:00<?, ?it/s]"
      ]
     },
     "metadata": {},
     "output_type": "display_data"
    },
    {
     "data": {
      "application/vnd.jupyter.widget-view+json": {
       "model_id": "27e69497862640c9bae3eb247e33499e",
       "version_major": 2,
       "version_minor": 0
      },
      "text/plain": [
       "time step:   0%|          | 0/100 [00:00<?, ?it/s]"
      ]
     },
     "metadata": {},
     "output_type": "display_data"
    },
    {
     "data": {
      "application/vnd.jupyter.widget-view+json": {
       "model_id": "10202e26ce8e436294603bd5015b325f",
       "version_major": 2,
       "version_minor": 0
      },
      "text/plain": [
       "time step:   0%|          | 0/100 [00:00<?, ?it/s]"
      ]
     },
     "metadata": {},
     "output_type": "display_data"
    },
    {
     "data": {
      "application/vnd.jupyter.widget-view+json": {
       "model_id": "1160707a04ea4bba9ef10f199c8555a3",
       "version_major": 2,
       "version_minor": 0
      },
      "text/plain": [
       "time step:   0%|          | 0/100 [00:00<?, ?it/s]"
      ]
     },
     "metadata": {},
     "output_type": "display_data"
    },
    {
     "data": {
      "application/vnd.jupyter.widget-view+json": {
       "model_id": "5d949aa9b342498280f1668a82108ba9",
       "version_major": 2,
       "version_minor": 0
      },
      "text/plain": [
       "time step:   0%|          | 0/100 [00:00<?, ?it/s]"
      ]
     },
     "metadata": {},
     "output_type": "display_data"
    },
    {
     "data": {
      "application/vnd.jupyter.widget-view+json": {
       "model_id": "f3bc6ece8db04c05842455035adf728b",
       "version_major": 2,
       "version_minor": 0
      },
      "text/plain": [
       "time step:   0%|          | 0/100 [00:00<?, ?it/s]"
      ]
     },
     "metadata": {},
     "output_type": "display_data"
    },
    {
     "data": {
      "application/vnd.jupyter.widget-view+json": {
       "model_id": "e9716017d77e4307982145bf2bc762ad",
       "version_major": 2,
       "version_minor": 0
      },
      "text/plain": [
       "time step:   0%|          | 0/100 [00:00<?, ?it/s]"
      ]
     },
     "metadata": {},
     "output_type": "display_data"
    },
    {
     "data": {
      "application/vnd.jupyter.widget-view+json": {
       "model_id": "b6ef33cbf4624f058b1e7bfdc4e31811",
       "version_major": 2,
       "version_minor": 0
      },
      "text/plain": [
       "time step:   0%|          | 0/100 [00:00<?, ?it/s]"
      ]
     },
     "metadata": {},
     "output_type": "display_data"
    },
    {
     "data": {
      "application/vnd.jupyter.widget-view+json": {
       "model_id": "7d843985078f4eac9133c785e8d106fa",
       "version_major": 2,
       "version_minor": 0
      },
      "text/plain": [
       "time step:   0%|          | 0/100 [00:00<?, ?it/s]"
      ]
     },
     "metadata": {},
     "output_type": "display_data"
    },
    {
     "data": {
      "application/vnd.jupyter.widget-view+json": {
       "model_id": "d3e62fcaa7bd41d985271186c88d00a4",
       "version_major": 2,
       "version_minor": 0
      },
      "text/plain": [
       "time step:   0%|          | 0/100 [00:00<?, ?it/s]"
      ]
     },
     "metadata": {},
     "output_type": "display_data"
    },
    {
     "data": {
      "application/vnd.jupyter.widget-view+json": {
       "model_id": "aab25e9471c847c2a741b66d9b42b52e",
       "version_major": 2,
       "version_minor": 0
      },
      "text/plain": [
       "time step:   0%|          | 0/100 [00:00<?, ?it/s]"
      ]
     },
     "metadata": {},
     "output_type": "display_data"
    },
    {
     "data": {
      "application/vnd.jupyter.widget-view+json": {
       "model_id": "c06e09d02c3643e386c1fc64043a12d5",
       "version_major": 2,
       "version_minor": 0
      },
      "text/plain": [
       "time step:   0%|          | 0/100 [00:00<?, ?it/s]"
      ]
     },
     "metadata": {},
     "output_type": "display_data"
    },
    {
     "data": {
      "application/vnd.jupyter.widget-view+json": {
       "model_id": "738c91cbc7384b51ba5b38afb79deaea",
       "version_major": 2,
       "version_minor": 0
      },
      "text/plain": [
       "time step:   0%|          | 0/100 [00:00<?, ?it/s]"
      ]
     },
     "metadata": {},
     "output_type": "display_data"
    },
    {
     "data": {
      "application/vnd.jupyter.widget-view+json": {
       "model_id": "4da34e0dc9474d7297f249dceb8332c3",
       "version_major": 2,
       "version_minor": 0
      },
      "text/plain": [
       "time step:   0%|          | 0/100 [00:00<?, ?it/s]"
      ]
     },
     "metadata": {},
     "output_type": "display_data"
    },
    {
     "data": {
      "application/vnd.jupyter.widget-view+json": {
       "model_id": "6275ce886d8d4d5c8b8d4181ad0599db",
       "version_major": 2,
       "version_minor": 0
      },
      "text/plain": [
       "time step:   0%|          | 0/100 [00:00<?, ?it/s]"
      ]
     },
     "metadata": {},
     "output_type": "display_data"
    },
    {
     "data": {
      "application/vnd.jupyter.widget-view+json": {
       "model_id": "9815b2695d914c69962fc6fec258eb44",
       "version_major": 2,
       "version_minor": 0
      },
      "text/plain": [
       "time step:   0%|          | 0/100 [00:00<?, ?it/s]"
      ]
     },
     "metadata": {},
     "output_type": "display_data"
    },
    {
     "data": {
      "application/vnd.jupyter.widget-view+json": {
       "model_id": "0800292d3417485f97230454c4cd4d20",
       "version_major": 2,
       "version_minor": 0
      },
      "text/plain": [
       "time step:   0%|          | 0/100 [00:00<?, ?it/s]"
      ]
     },
     "metadata": {},
     "output_type": "display_data"
    },
    {
     "data": {
      "application/vnd.jupyter.widget-view+json": {
       "model_id": "42ad587a2bae4662a99b279e0e7d541b",
       "version_major": 2,
       "version_minor": 0
      },
      "text/plain": [
       "time step:   0%|          | 0/100 [00:00<?, ?it/s]"
      ]
     },
     "metadata": {},
     "output_type": "display_data"
    },
    {
     "data": {
      "application/vnd.jupyter.widget-view+json": {
       "model_id": "4883367bfd3344eb8eff73873b410c47",
       "version_major": 2,
       "version_minor": 0
      },
      "text/plain": [
       "time step:   0%|          | 0/100 [00:00<?, ?it/s]"
      ]
     },
     "metadata": {},
     "output_type": "display_data"
    },
    {
     "data": {
      "application/vnd.jupyter.widget-view+json": {
       "model_id": "c4b6d902669c40cabf3b0d3541f93774",
       "version_major": 2,
       "version_minor": 0
      },
      "text/plain": [
       "time step:   0%|          | 0/100 [00:00<?, ?it/s]"
      ]
     },
     "metadata": {},
     "output_type": "display_data"
    },
    {
     "data": {
      "application/vnd.jupyter.widget-view+json": {
       "model_id": "a752a7a578d0481f96cd0989b1281f3f",
       "version_major": 2,
       "version_minor": 0
      },
      "text/plain": [
       "time step:   0%|          | 0/100 [00:00<?, ?it/s]"
      ]
     },
     "metadata": {},
     "output_type": "display_data"
    },
    {
     "data": {
      "application/vnd.jupyter.widget-view+json": {
       "model_id": "45434311c6b74583aa6f999b8bb38583",
       "version_major": 2,
       "version_minor": 0
      },
      "text/plain": [
       "time step:   0%|          | 0/100 [00:00<?, ?it/s]"
      ]
     },
     "metadata": {},
     "output_type": "display_data"
    },
    {
     "data": {
      "application/vnd.jupyter.widget-view+json": {
       "model_id": "dc707d4b7be3449d8a514ef05e5d8b5e",
       "version_major": 2,
       "version_minor": 0
      },
      "text/plain": [
       "time step:   0%|          | 0/100 [00:00<?, ?it/s]"
      ]
     },
     "metadata": {},
     "output_type": "display_data"
    },
    {
     "data": {
      "application/vnd.jupyter.widget-view+json": {
       "model_id": "7110a33229b74eaabb6d48cd0dc5bd82",
       "version_major": 2,
       "version_minor": 0
      },
      "text/plain": [
       "time step:   0%|          | 0/100 [00:00<?, ?it/s]"
      ]
     },
     "metadata": {},
     "output_type": "display_data"
    },
    {
     "data": {
      "application/vnd.jupyter.widget-view+json": {
       "model_id": "cca2385cb1834737bb6c7805226f325a",
       "version_major": 2,
       "version_minor": 0
      },
      "text/plain": [
       "time step:   0%|          | 0/100 [00:00<?, ?it/s]"
      ]
     },
     "metadata": {},
     "output_type": "display_data"
    },
    {
     "data": {
      "application/vnd.jupyter.widget-view+json": {
       "model_id": "d10e9b76d950444ebd5dd57665d68edf",
       "version_major": 2,
       "version_minor": 0
      },
      "text/plain": [
       "time step:   0%|          | 0/100 [00:00<?, ?it/s]"
      ]
     },
     "metadata": {},
     "output_type": "display_data"
    },
    {
     "data": {
      "application/vnd.jupyter.widget-view+json": {
       "model_id": "0ff87c89311f4da699ac261302bb6bea",
       "version_major": 2,
       "version_minor": 0
      },
      "text/plain": [
       "time step:   0%|          | 0/100 [00:00<?, ?it/s]"
      ]
     },
     "metadata": {},
     "output_type": "display_data"
    },
    {
     "data": {
      "application/vnd.jupyter.widget-view+json": {
       "model_id": "bd0bdc63058b44ff9036ec7df4eaa11a",
       "version_major": 2,
       "version_minor": 0
      },
      "text/plain": [
       "time step:   0%|          | 0/100 [00:00<?, ?it/s]"
      ]
     },
     "metadata": {},
     "output_type": "display_data"
    },
    {
     "data": {
      "application/vnd.jupyter.widget-view+json": {
       "model_id": "a0e578a7327f471c8e20e7c8df328539",
       "version_major": 2,
       "version_minor": 0
      },
      "text/plain": [
       "time step:   0%|          | 0/100 [00:00<?, ?it/s]"
      ]
     },
     "metadata": {},
     "output_type": "display_data"
    },
    {
     "data": {
      "application/vnd.jupyter.widget-view+json": {
       "model_id": "dca77efa545243538389d7f046d99574",
       "version_major": 2,
       "version_minor": 0
      },
      "text/plain": [
       "time step:   0%|          | 0/100 [00:00<?, ?it/s]"
      ]
     },
     "metadata": {},
     "output_type": "display_data"
    },
    {
     "data": {
      "application/vnd.jupyter.widget-view+json": {
       "model_id": "9d63ef62e0f144218ac6042ab5cb944a",
       "version_major": 2,
       "version_minor": 0
      },
      "text/plain": [
       "time step:   0%|          | 0/100 [00:00<?, ?it/s]"
      ]
     },
     "metadata": {},
     "output_type": "display_data"
    },
    {
     "data": {
      "application/vnd.jupyter.widget-view+json": {
       "model_id": "a796e8adf3054e758377c07a48f0c2af",
       "version_major": 2,
       "version_minor": 0
      },
      "text/plain": [
       "time step:   0%|          | 0/100 [00:00<?, ?it/s]"
      ]
     },
     "metadata": {},
     "output_type": "display_data"
    },
    {
     "data": {
      "application/vnd.jupyter.widget-view+json": {
       "model_id": "32b28b4c40774ffe85f5a4ca50524c1b",
       "version_major": 2,
       "version_minor": 0
      },
      "text/plain": [
       "time step:   0%|          | 0/100 [00:00<?, ?it/s]"
      ]
     },
     "metadata": {},
     "output_type": "display_data"
    },
    {
     "data": {
      "application/vnd.jupyter.widget-view+json": {
       "model_id": "5d8f71fecad94d88a0cf648cfb2e62f2",
       "version_major": 2,
       "version_minor": 0
      },
      "text/plain": [
       "time step:   0%|          | 0/100 [00:00<?, ?it/s]"
      ]
     },
     "metadata": {},
     "output_type": "display_data"
    },
    {
     "data": {
      "application/vnd.jupyter.widget-view+json": {
       "model_id": "5934372f4c764f07b85055e2cfe385bc",
       "version_major": 2,
       "version_minor": 0
      },
      "text/plain": [
       "time step:   0%|          | 0/100 [00:00<?, ?it/s]"
      ]
     },
     "metadata": {},
     "output_type": "display_data"
    },
    {
     "data": {
      "application/vnd.jupyter.widget-view+json": {
       "model_id": "ab2d65b774ea49a2ade2776380a46fc7",
       "version_major": 2,
       "version_minor": 0
      },
      "text/plain": [
       "time step:   0%|          | 0/100 [00:00<?, ?it/s]"
      ]
     },
     "metadata": {},
     "output_type": "display_data"
    },
    {
     "data": {
      "application/vnd.jupyter.widget-view+json": {
       "model_id": "63376525eff24247821088a25b1d817b",
       "version_major": 2,
       "version_minor": 0
      },
      "text/plain": [
       "time step:   0%|          | 0/100 [00:00<?, ?it/s]"
      ]
     },
     "metadata": {},
     "output_type": "display_data"
    },
    {
     "data": {
      "application/vnd.jupyter.widget-view+json": {
       "model_id": "b00262439a614022a1c7f5166e48ccc2",
       "version_major": 2,
       "version_minor": 0
      },
      "text/plain": [
       "time step:   0%|          | 0/100 [00:00<?, ?it/s]"
      ]
     },
     "metadata": {},
     "output_type": "display_data"
    },
    {
     "data": {
      "application/vnd.jupyter.widget-view+json": {
       "model_id": "16c1fbf71900412c9a96dcc1ac8e0bfd",
       "version_major": 2,
       "version_minor": 0
      },
      "text/plain": [
       "time step:   0%|          | 0/100 [00:00<?, ?it/s]"
      ]
     },
     "metadata": {},
     "output_type": "display_data"
    },
    {
     "data": {
      "application/vnd.jupyter.widget-view+json": {
       "model_id": "52399557612d40c093fa1ccffc862253",
       "version_major": 2,
       "version_minor": 0
      },
      "text/plain": [
       "time step:   0%|          | 0/100 [00:00<?, ?it/s]"
      ]
     },
     "metadata": {},
     "output_type": "display_data"
    },
    {
     "data": {
      "application/vnd.jupyter.widget-view+json": {
       "model_id": "facc7ea17c234323a9ee987b44553f12",
       "version_major": 2,
       "version_minor": 0
      },
      "text/plain": [
       "time step:   0%|          | 0/100 [00:00<?, ?it/s]"
      ]
     },
     "metadata": {},
     "output_type": "display_data"
    },
    {
     "data": {
      "application/vnd.jupyter.widget-view+json": {
       "model_id": "da658825d0a94819b0d4e1f057c6c298",
       "version_major": 2,
       "version_minor": 0
      },
      "text/plain": [
       "time step:   0%|          | 0/100 [00:00<?, ?it/s]"
      ]
     },
     "metadata": {},
     "output_type": "display_data"
    },
    {
     "data": {
      "application/vnd.jupyter.widget-view+json": {
       "model_id": "2330b34c5b3f47fda6e41f2fd89ba854",
       "version_major": 2,
       "version_minor": 0
      },
      "text/plain": [
       "run number:   0%|          | 0/200 [00:00<?, ?it/s]"
      ]
     },
     "metadata": {},
     "output_type": "display_data"
    },
    {
     "data": {
      "application/vnd.jupyter.widget-view+json": {
       "model_id": "1d12614908b9496681f9ce3bf74d7bd0",
       "version_major": 2,
       "version_minor": 0
      },
      "text/plain": [
       "time step:   0%|          | 0/100 [00:00<?, ?it/s]"
      ]
     },
     "metadata": {},
     "output_type": "display_data"
    },
    {
     "data": {
      "application/vnd.jupyter.widget-view+json": {
       "model_id": "d42f5b356224435da4077495a4c23df6",
       "version_major": 2,
       "version_minor": 0
      },
      "text/plain": [
       "time step:   0%|          | 0/100 [00:00<?, ?it/s]"
      ]
     },
     "metadata": {},
     "output_type": "display_data"
    },
    {
     "data": {
      "application/vnd.jupyter.widget-view+json": {
       "model_id": "9842ed276931499f860cfabbdc25ba59",
       "version_major": 2,
       "version_minor": 0
      },
      "text/plain": [
       "time step:   0%|          | 0/100 [00:00<?, ?it/s]"
      ]
     },
     "metadata": {},
     "output_type": "display_data"
    },
    {
     "data": {
      "application/vnd.jupyter.widget-view+json": {
       "model_id": "971d9b71f2d647e388fde6c854b2914d",
       "version_major": 2,
       "version_minor": 0
      },
      "text/plain": [
       "time step:   0%|          | 0/100 [00:00<?, ?it/s]"
      ]
     },
     "metadata": {},
     "output_type": "display_data"
    },
    {
     "data": {
      "application/vnd.jupyter.widget-view+json": {
       "model_id": "5b106813b7864f56a2e58900f286ca04",
       "version_major": 2,
       "version_minor": 0
      },
      "text/plain": [
       "time step:   0%|          | 0/100 [00:00<?, ?it/s]"
      ]
     },
     "metadata": {},
     "output_type": "display_data"
    },
    {
     "data": {
      "application/vnd.jupyter.widget-view+json": {
       "model_id": "f8dc7222d09d43c6abfe5c3f2e0c9347",
       "version_major": 2,
       "version_minor": 0
      },
      "text/plain": [
       "time step:   0%|          | 0/100 [00:00<?, ?it/s]"
      ]
     },
     "metadata": {},
     "output_type": "display_data"
    },
    {
     "data": {
      "application/vnd.jupyter.widget-view+json": {
       "model_id": "866b3a4c468a4a40931596d56cc9e0cf",
       "version_major": 2,
       "version_minor": 0
      },
      "text/plain": [
       "time step:   0%|          | 0/100 [00:00<?, ?it/s]"
      ]
     },
     "metadata": {},
     "output_type": "display_data"
    },
    {
     "data": {
      "application/vnd.jupyter.widget-view+json": {
       "model_id": "81c6318a73ff4920be830aeee6bcaa93",
       "version_major": 2,
       "version_minor": 0
      },
      "text/plain": [
       "time step:   0%|          | 0/100 [00:00<?, ?it/s]"
      ]
     },
     "metadata": {},
     "output_type": "display_data"
    },
    {
     "data": {
      "application/vnd.jupyter.widget-view+json": {
       "model_id": "1ac9f23666624682915e24ee4ec5f6e0",
       "version_major": 2,
       "version_minor": 0
      },
      "text/plain": [
       "time step:   0%|          | 0/100 [00:00<?, ?it/s]"
      ]
     },
     "metadata": {},
     "output_type": "display_data"
    },
    {
     "data": {
      "application/vnd.jupyter.widget-view+json": {
       "model_id": "35ab109630b54d34864a508702afdd03",
       "version_major": 2,
       "version_minor": 0
      },
      "text/plain": [
       "time step:   0%|          | 0/100 [00:00<?, ?it/s]"
      ]
     },
     "metadata": {},
     "output_type": "display_data"
    },
    {
     "data": {
      "application/vnd.jupyter.widget-view+json": {
       "model_id": "cdc463e6da124205bf981d3cd70ed4f0",
       "version_major": 2,
       "version_minor": 0
      },
      "text/plain": [
       "time step:   0%|          | 0/100 [00:00<?, ?it/s]"
      ]
     },
     "metadata": {},
     "output_type": "display_data"
    },
    {
     "data": {
      "application/vnd.jupyter.widget-view+json": {
       "model_id": "c98a22f2a192448c97966b9a6d17b15d",
       "version_major": 2,
       "version_minor": 0
      },
      "text/plain": [
       "time step:   0%|          | 0/100 [00:00<?, ?it/s]"
      ]
     },
     "metadata": {},
     "output_type": "display_data"
    },
    {
     "data": {
      "application/vnd.jupyter.widget-view+json": {
       "model_id": "4231b3d02243411fbc5a5c43da73a5ed",
       "version_major": 2,
       "version_minor": 0
      },
      "text/plain": [
       "time step:   0%|          | 0/100 [00:00<?, ?it/s]"
      ]
     },
     "metadata": {},
     "output_type": "display_data"
    },
    {
     "data": {
      "application/vnd.jupyter.widget-view+json": {
       "model_id": "c15d96b3d21246ff91ddc9ea2be76f6c",
       "version_major": 2,
       "version_minor": 0
      },
      "text/plain": [
       "time step:   0%|          | 0/100 [00:00<?, ?it/s]"
      ]
     },
     "metadata": {},
     "output_type": "display_data"
    },
    {
     "data": {
      "application/vnd.jupyter.widget-view+json": {
       "model_id": "1c640876eb10421e8bc422054b8b10c9",
       "version_major": 2,
       "version_minor": 0
      },
      "text/plain": [
       "time step:   0%|          | 0/100 [00:00<?, ?it/s]"
      ]
     },
     "metadata": {},
     "output_type": "display_data"
    },
    {
     "data": {
      "application/vnd.jupyter.widget-view+json": {
       "model_id": "3040dda6b20447668adfc9c1e6942d16",
       "version_major": 2,
       "version_minor": 0
      },
      "text/plain": [
       "time step:   0%|          | 0/100 [00:00<?, ?it/s]"
      ]
     },
     "metadata": {},
     "output_type": "display_data"
    },
    {
     "data": {
      "application/vnd.jupyter.widget-view+json": {
       "model_id": "06889fdadc5e43c1ac7373f3327bca9f",
       "version_major": 2,
       "version_minor": 0
      },
      "text/plain": [
       "time step:   0%|          | 0/100 [00:00<?, ?it/s]"
      ]
     },
     "metadata": {},
     "output_type": "display_data"
    },
    {
     "data": {
      "application/vnd.jupyter.widget-view+json": {
       "model_id": "c2abb72280834931ad34b7c5056a52dd",
       "version_major": 2,
       "version_minor": 0
      },
      "text/plain": [
       "time step:   0%|          | 0/100 [00:00<?, ?it/s]"
      ]
     },
     "metadata": {},
     "output_type": "display_data"
    },
    {
     "data": {
      "application/vnd.jupyter.widget-view+json": {
       "model_id": "c7c1f606af064e8fa464b45ee67d4ff9",
       "version_major": 2,
       "version_minor": 0
      },
      "text/plain": [
       "time step:   0%|          | 0/100 [00:00<?, ?it/s]"
      ]
     },
     "metadata": {},
     "output_type": "display_data"
    },
    {
     "data": {
      "application/vnd.jupyter.widget-view+json": {
       "model_id": "9e1cb29425db45ffaee833364931811e",
       "version_major": 2,
       "version_minor": 0
      },
      "text/plain": [
       "time step:   0%|          | 0/100 [00:00<?, ?it/s]"
      ]
     },
     "metadata": {},
     "output_type": "display_data"
    },
    {
     "data": {
      "application/vnd.jupyter.widget-view+json": {
       "model_id": "7503f23a1630413594c35effea175d92",
       "version_major": 2,
       "version_minor": 0
      },
      "text/plain": [
       "time step:   0%|          | 0/100 [00:00<?, ?it/s]"
      ]
     },
     "metadata": {},
     "output_type": "display_data"
    },
    {
     "data": {
      "application/vnd.jupyter.widget-view+json": {
       "model_id": "96394d24bd1646f084d3026371740a3a",
       "version_major": 2,
       "version_minor": 0
      },
      "text/plain": [
       "time step:   0%|          | 0/100 [00:00<?, ?it/s]"
      ]
     },
     "metadata": {},
     "output_type": "display_data"
    },
    {
     "data": {
      "application/vnd.jupyter.widget-view+json": {
       "model_id": "cdecf5b18f104eedb7f562b13c81fb18",
       "version_major": 2,
       "version_minor": 0
      },
      "text/plain": [
       "time step:   0%|          | 0/100 [00:00<?, ?it/s]"
      ]
     },
     "metadata": {},
     "output_type": "display_data"
    },
    {
     "data": {
      "application/vnd.jupyter.widget-view+json": {
       "model_id": "c3c8d2dfa9e54faba81b67aaaa2e790e",
       "version_major": 2,
       "version_minor": 0
      },
      "text/plain": [
       "time step:   0%|          | 0/100 [00:00<?, ?it/s]"
      ]
     },
     "metadata": {},
     "output_type": "display_data"
    },
    {
     "data": {
      "application/vnd.jupyter.widget-view+json": {
       "model_id": "fbd6bdf929e94a7eb5103c3936b0f003",
       "version_major": 2,
       "version_minor": 0
      },
      "text/plain": [
       "time step:   0%|          | 0/100 [00:00<?, ?it/s]"
      ]
     },
     "metadata": {},
     "output_type": "display_data"
    },
    {
     "data": {
      "application/vnd.jupyter.widget-view+json": {
       "model_id": "06ea1479f05245cfac3af9b0c5b4ae26",
       "version_major": 2,
       "version_minor": 0
      },
      "text/plain": [
       "time step:   0%|          | 0/100 [00:00<?, ?it/s]"
      ]
     },
     "metadata": {},
     "output_type": "display_data"
    },
    {
     "data": {
      "application/vnd.jupyter.widget-view+json": {
       "model_id": "9eaf273eb3a34bd4a15f23605c2a452d",
       "version_major": 2,
       "version_minor": 0
      },
      "text/plain": [
       "time step:   0%|          | 0/100 [00:00<?, ?it/s]"
      ]
     },
     "metadata": {},
     "output_type": "display_data"
    },
    {
     "data": {
      "application/vnd.jupyter.widget-view+json": {
       "model_id": "90601e416517479a9870af647e4c674c",
       "version_major": 2,
       "version_minor": 0
      },
      "text/plain": [
       "time step:   0%|          | 0/100 [00:00<?, ?it/s]"
      ]
     },
     "metadata": {},
     "output_type": "display_data"
    },
    {
     "data": {
      "application/vnd.jupyter.widget-view+json": {
       "model_id": "7d90f11ca13b4816b2a9c7a9d0fdc14c",
       "version_major": 2,
       "version_minor": 0
      },
      "text/plain": [
       "time step:   0%|          | 0/100 [00:00<?, ?it/s]"
      ]
     },
     "metadata": {},
     "output_type": "display_data"
    },
    {
     "data": {
      "application/vnd.jupyter.widget-view+json": {
       "model_id": "36885eac9d1e44bab38a7c6f288e669f",
       "version_major": 2,
       "version_minor": 0
      },
      "text/plain": [
       "time step:   0%|          | 0/100 [00:00<?, ?it/s]"
      ]
     },
     "metadata": {},
     "output_type": "display_data"
    },
    {
     "data": {
      "application/vnd.jupyter.widget-view+json": {
       "model_id": "ca756da58c074caeb480ebf231c64266",
       "version_major": 2,
       "version_minor": 0
      },
      "text/plain": [
       "time step:   0%|          | 0/100 [00:00<?, ?it/s]"
      ]
     },
     "metadata": {},
     "output_type": "display_data"
    },
    {
     "data": {
      "application/vnd.jupyter.widget-view+json": {
       "model_id": "d819189ab5a84416a25a6303270f7fe0",
       "version_major": 2,
       "version_minor": 0
      },
      "text/plain": [
       "time step:   0%|          | 0/100 [00:00<?, ?it/s]"
      ]
     },
     "metadata": {},
     "output_type": "display_data"
    },
    {
     "data": {
      "application/vnd.jupyter.widget-view+json": {
       "model_id": "ebb6ce8614cd4abdbcfbc91adb1f73db",
       "version_major": 2,
       "version_minor": 0
      },
      "text/plain": [
       "time step:   0%|          | 0/100 [00:00<?, ?it/s]"
      ]
     },
     "metadata": {},
     "output_type": "display_data"
    },
    {
     "data": {
      "application/vnd.jupyter.widget-view+json": {
       "model_id": "ae02ffdc32ca4e4899cced28d5bc674c",
       "version_major": 2,
       "version_minor": 0
      },
      "text/plain": [
       "time step:   0%|          | 0/100 [00:00<?, ?it/s]"
      ]
     },
     "metadata": {},
     "output_type": "display_data"
    },
    {
     "data": {
      "application/vnd.jupyter.widget-view+json": {
       "model_id": "4ffe1372e92c4661a48ae23e6571dd31",
       "version_major": 2,
       "version_minor": 0
      },
      "text/plain": [
       "time step:   0%|          | 0/100 [00:00<?, ?it/s]"
      ]
     },
     "metadata": {},
     "output_type": "display_data"
    },
    {
     "data": {
      "application/vnd.jupyter.widget-view+json": {
       "model_id": "a5469e110ccc45f3918b6cb5ff3a263e",
       "version_major": 2,
       "version_minor": 0
      },
      "text/plain": [
       "time step:   0%|          | 0/100 [00:00<?, ?it/s]"
      ]
     },
     "metadata": {},
     "output_type": "display_data"
    },
    {
     "data": {
      "application/vnd.jupyter.widget-view+json": {
       "model_id": "d7c16fcfba594548ba83df6a348de826",
       "version_major": 2,
       "version_minor": 0
      },
      "text/plain": [
       "time step:   0%|          | 0/100 [00:00<?, ?it/s]"
      ]
     },
     "metadata": {},
     "output_type": "display_data"
    },
    {
     "data": {
      "application/vnd.jupyter.widget-view+json": {
       "model_id": "60d25b389c9142179dfca9206c1bbc22",
       "version_major": 2,
       "version_minor": 0
      },
      "text/plain": [
       "time step:   0%|          | 0/100 [00:00<?, ?it/s]"
      ]
     },
     "metadata": {},
     "output_type": "display_data"
    },
    {
     "data": {
      "application/vnd.jupyter.widget-view+json": {
       "model_id": "6c62202b48324ae68e7bd8250973d4d6",
       "version_major": 2,
       "version_minor": 0
      },
      "text/plain": [
       "time step:   0%|          | 0/100 [00:00<?, ?it/s]"
      ]
     },
     "metadata": {},
     "output_type": "display_data"
    },
    {
     "data": {
      "application/vnd.jupyter.widget-view+json": {
       "model_id": "b554257465ec4bd082921c98b1ee8695",
       "version_major": 2,
       "version_minor": 0
      },
      "text/plain": [
       "time step:   0%|          | 0/100 [00:00<?, ?it/s]"
      ]
     },
     "metadata": {},
     "output_type": "display_data"
    },
    {
     "data": {
      "application/vnd.jupyter.widget-view+json": {
       "model_id": "faf061547c9a4c8a923c254d3adbc290",
       "version_major": 2,
       "version_minor": 0
      },
      "text/plain": [
       "time step:   0%|          | 0/100 [00:00<?, ?it/s]"
      ]
     },
     "metadata": {},
     "output_type": "display_data"
    },
    {
     "data": {
      "application/vnd.jupyter.widget-view+json": {
       "model_id": "8720f49f74ba450ba671e11ac09aaf30",
       "version_major": 2,
       "version_minor": 0
      },
      "text/plain": [
       "time step:   0%|          | 0/100 [00:00<?, ?it/s]"
      ]
     },
     "metadata": {},
     "output_type": "display_data"
    },
    {
     "data": {
      "application/vnd.jupyter.widget-view+json": {
       "model_id": "30d159ae56f94633b20bb1087ff21fc1",
       "version_major": 2,
       "version_minor": 0
      },
      "text/plain": [
       "time step:   0%|          | 0/100 [00:00<?, ?it/s]"
      ]
     },
     "metadata": {},
     "output_type": "display_data"
    },
    {
     "data": {
      "application/vnd.jupyter.widget-view+json": {
       "model_id": "a309b51b9529420888ac8aefe55d0604",
       "version_major": 2,
       "version_minor": 0
      },
      "text/plain": [
       "time step:   0%|          | 0/100 [00:00<?, ?it/s]"
      ]
     },
     "metadata": {},
     "output_type": "display_data"
    },
    {
     "data": {
      "application/vnd.jupyter.widget-view+json": {
       "model_id": "c8ef41261ac14015a36d8d282e63e1ad",
       "version_major": 2,
       "version_minor": 0
      },
      "text/plain": [
       "time step:   0%|          | 0/100 [00:00<?, ?it/s]"
      ]
     },
     "metadata": {},
     "output_type": "display_data"
    },
    {
     "data": {
      "application/vnd.jupyter.widget-view+json": {
       "model_id": "c881cd775dbf42edbf6208b81b5aa839",
       "version_major": 2,
       "version_minor": 0
      },
      "text/plain": [
       "time step:   0%|          | 0/100 [00:00<?, ?it/s]"
      ]
     },
     "metadata": {},
     "output_type": "display_data"
    },
    {
     "data": {
      "application/vnd.jupyter.widget-view+json": {
       "model_id": "37e14b2460b5497c91343e46ca04c223",
       "version_major": 2,
       "version_minor": 0
      },
      "text/plain": [
       "time step:   0%|          | 0/100 [00:00<?, ?it/s]"
      ]
     },
     "metadata": {},
     "output_type": "display_data"
    },
    {
     "data": {
      "application/vnd.jupyter.widget-view+json": {
       "model_id": "b99f0ca845ee4822accdabdcb7edeedc",
       "version_major": 2,
       "version_minor": 0
      },
      "text/plain": [
       "time step:   0%|          | 0/100 [00:00<?, ?it/s]"
      ]
     },
     "metadata": {},
     "output_type": "display_data"
    },
    {
     "data": {
      "application/vnd.jupyter.widget-view+json": {
       "model_id": "0b4b44beb78a4ca2b36a6451216768e0",
       "version_major": 2,
       "version_minor": 0
      },
      "text/plain": [
       "time step:   0%|          | 0/100 [00:00<?, ?it/s]"
      ]
     },
     "metadata": {},
     "output_type": "display_data"
    },
    {
     "data": {
      "application/vnd.jupyter.widget-view+json": {
       "model_id": "8db97a8f307a4e97a41b5d5843f6ea69",
       "version_major": 2,
       "version_minor": 0
      },
      "text/plain": [
       "time step:   0%|          | 0/100 [00:00<?, ?it/s]"
      ]
     },
     "metadata": {},
     "output_type": "display_data"
    },
    {
     "data": {
      "application/vnd.jupyter.widget-view+json": {
       "model_id": "95e1f00abffc4d689b544a268549e915",
       "version_major": 2,
       "version_minor": 0
      },
      "text/plain": [
       "time step:   0%|          | 0/100 [00:00<?, ?it/s]"
      ]
     },
     "metadata": {},
     "output_type": "display_data"
    },
    {
     "data": {
      "application/vnd.jupyter.widget-view+json": {
       "model_id": "e6ce76e28ac043bea45a491c276a8f22",
       "version_major": 2,
       "version_minor": 0
      },
      "text/plain": [
       "time step:   0%|          | 0/100 [00:00<?, ?it/s]"
      ]
     },
     "metadata": {},
     "output_type": "display_data"
    },
    {
     "data": {
      "application/vnd.jupyter.widget-view+json": {
       "model_id": "8e01a0489fdf4213875967c27624ad20",
       "version_major": 2,
       "version_minor": 0
      },
      "text/plain": [
       "time step:   0%|          | 0/100 [00:00<?, ?it/s]"
      ]
     },
     "metadata": {},
     "output_type": "display_data"
    },
    {
     "data": {
      "application/vnd.jupyter.widget-view+json": {
       "model_id": "5a71724480d04f3cb6b37404f1215d7f",
       "version_major": 2,
       "version_minor": 0
      },
      "text/plain": [
       "time step:   0%|          | 0/100 [00:00<?, ?it/s]"
      ]
     },
     "metadata": {},
     "output_type": "display_data"
    },
    {
     "data": {
      "application/vnd.jupyter.widget-view+json": {
       "model_id": "3ec785a9ad664cbb87093f802020c834",
       "version_major": 2,
       "version_minor": 0
      },
      "text/plain": [
       "time step:   0%|          | 0/100 [00:00<?, ?it/s]"
      ]
     },
     "metadata": {},
     "output_type": "display_data"
    },
    {
     "data": {
      "application/vnd.jupyter.widget-view+json": {
       "model_id": "4e8fa0da73ae4e709f8fed04cb840646",
       "version_major": 2,
       "version_minor": 0
      },
      "text/plain": [
       "time step:   0%|          | 0/100 [00:00<?, ?it/s]"
      ]
     },
     "metadata": {},
     "output_type": "display_data"
    },
    {
     "data": {
      "application/vnd.jupyter.widget-view+json": {
       "model_id": "a5d70290755c4bffa31af7f37ba0570a",
       "version_major": 2,
       "version_minor": 0
      },
      "text/plain": [
       "time step:   0%|          | 0/100 [00:00<?, ?it/s]"
      ]
     },
     "metadata": {},
     "output_type": "display_data"
    },
    {
     "data": {
      "application/vnd.jupyter.widget-view+json": {
       "model_id": "fe6471f3583d458e9990a48ae18cf93a",
       "version_major": 2,
       "version_minor": 0
      },
      "text/plain": [
       "time step:   0%|          | 0/100 [00:00<?, ?it/s]"
      ]
     },
     "metadata": {},
     "output_type": "display_data"
    },
    {
     "data": {
      "application/vnd.jupyter.widget-view+json": {
       "model_id": "f8765c643ed249cdb530d8f69fa87b99",
       "version_major": 2,
       "version_minor": 0
      },
      "text/plain": [
       "time step:   0%|          | 0/100 [00:00<?, ?it/s]"
      ]
     },
     "metadata": {},
     "output_type": "display_data"
    },
    {
     "data": {
      "application/vnd.jupyter.widget-view+json": {
       "model_id": "a552abd56eab4335a15f3c1d776d65c3",
       "version_major": 2,
       "version_minor": 0
      },
      "text/plain": [
       "time step:   0%|          | 0/100 [00:00<?, ?it/s]"
      ]
     },
     "metadata": {},
     "output_type": "display_data"
    },
    {
     "data": {
      "application/vnd.jupyter.widget-view+json": {
       "model_id": "fd280f1ef0014dd4b15f7ab904ddefbb",
       "version_major": 2,
       "version_minor": 0
      },
      "text/plain": [
       "time step:   0%|          | 0/100 [00:00<?, ?it/s]"
      ]
     },
     "metadata": {},
     "output_type": "display_data"
    },
    {
     "data": {
      "application/vnd.jupyter.widget-view+json": {
       "model_id": "fea95872f1654597b93d6dd405ad56bd",
       "version_major": 2,
       "version_minor": 0
      },
      "text/plain": [
       "time step:   0%|          | 0/100 [00:00<?, ?it/s]"
      ]
     },
     "metadata": {},
     "output_type": "display_data"
    },
    {
     "data": {
      "application/vnd.jupyter.widget-view+json": {
       "model_id": "7d7f7969744b49efb59c0fd511ea35e7",
       "version_major": 2,
       "version_minor": 0
      },
      "text/plain": [
       "time step:   0%|          | 0/100 [00:00<?, ?it/s]"
      ]
     },
     "metadata": {},
     "output_type": "display_data"
    },
    {
     "data": {
      "application/vnd.jupyter.widget-view+json": {
       "model_id": "ef07554d4db543ea8364e5d837513b41",
       "version_major": 2,
       "version_minor": 0
      },
      "text/plain": [
       "time step:   0%|          | 0/100 [00:00<?, ?it/s]"
      ]
     },
     "metadata": {},
     "output_type": "display_data"
    },
    {
     "data": {
      "application/vnd.jupyter.widget-view+json": {
       "model_id": "040cc22dbfdf45c09f820fe689b67e92",
       "version_major": 2,
       "version_minor": 0
      },
      "text/plain": [
       "time step:   0%|          | 0/100 [00:00<?, ?it/s]"
      ]
     },
     "metadata": {},
     "output_type": "display_data"
    },
    {
     "data": {
      "application/vnd.jupyter.widget-view+json": {
       "model_id": "a957cc9a2da646a6a80b8612034ad5a6",
       "version_major": 2,
       "version_minor": 0
      },
      "text/plain": [
       "time step:   0%|          | 0/100 [00:00<?, ?it/s]"
      ]
     },
     "metadata": {},
     "output_type": "display_data"
    },
    {
     "data": {
      "application/vnd.jupyter.widget-view+json": {
       "model_id": "673c7fff39a246c885b42fbd238fbe72",
       "version_major": 2,
       "version_minor": 0
      },
      "text/plain": [
       "time step:   0%|          | 0/100 [00:00<?, ?it/s]"
      ]
     },
     "metadata": {},
     "output_type": "display_data"
    },
    {
     "data": {
      "application/vnd.jupyter.widget-view+json": {
       "model_id": "9ef110d599cb43878a537df30f54bea0",
       "version_major": 2,
       "version_minor": 0
      },
      "text/plain": [
       "time step:   0%|          | 0/100 [00:00<?, ?it/s]"
      ]
     },
     "metadata": {},
     "output_type": "display_data"
    },
    {
     "data": {
      "application/vnd.jupyter.widget-view+json": {
       "model_id": "6cc881860fa54034bdb1434931296549",
       "version_major": 2,
       "version_minor": 0
      },
      "text/plain": [
       "time step:   0%|          | 0/100 [00:00<?, ?it/s]"
      ]
     },
     "metadata": {},
     "output_type": "display_data"
    },
    {
     "data": {
      "application/vnd.jupyter.widget-view+json": {
       "model_id": "7594bb70ac9d40cba56a2097dd82e924",
       "version_major": 2,
       "version_minor": 0
      },
      "text/plain": [
       "time step:   0%|          | 0/100 [00:00<?, ?it/s]"
      ]
     },
     "metadata": {},
     "output_type": "display_data"
    },
    {
     "data": {
      "application/vnd.jupyter.widget-view+json": {
       "model_id": "3dee3d3cb22e4697a02dbe8eb00f7518",
       "version_major": 2,
       "version_minor": 0
      },
      "text/plain": [
       "time step:   0%|          | 0/100 [00:00<?, ?it/s]"
      ]
     },
     "metadata": {},
     "output_type": "display_data"
    },
    {
     "data": {
      "application/vnd.jupyter.widget-view+json": {
       "model_id": "3e8ac313498c40308cd354844f92e9bc",
       "version_major": 2,
       "version_minor": 0
      },
      "text/plain": [
       "time step:   0%|          | 0/100 [00:00<?, ?it/s]"
      ]
     },
     "metadata": {},
     "output_type": "display_data"
    },
    {
     "data": {
      "application/vnd.jupyter.widget-view+json": {
       "model_id": "3f5dcf9c328c4578828a2f3923b3b9d7",
       "version_major": 2,
       "version_minor": 0
      },
      "text/plain": [
       "time step:   0%|          | 0/100 [00:00<?, ?it/s]"
      ]
     },
     "metadata": {},
     "output_type": "display_data"
    },
    {
     "data": {
      "application/vnd.jupyter.widget-view+json": {
       "model_id": "808215b14999450eb818b0a1d7425c4e",
       "version_major": 2,
       "version_minor": 0
      },
      "text/plain": [
       "time step:   0%|          | 0/100 [00:00<?, ?it/s]"
      ]
     },
     "metadata": {},
     "output_type": "display_data"
    },
    {
     "data": {
      "application/vnd.jupyter.widget-view+json": {
       "model_id": "4b05cd0bdd8a45cf9c299b138582ab34",
       "version_major": 2,
       "version_minor": 0
      },
      "text/plain": [
       "time step:   0%|          | 0/100 [00:00<?, ?it/s]"
      ]
     },
     "metadata": {},
     "output_type": "display_data"
    },
    {
     "data": {
      "application/vnd.jupyter.widget-view+json": {
       "model_id": "04028c26a8474b7d95deca6ca32a206f",
       "version_major": 2,
       "version_minor": 0
      },
      "text/plain": [
       "time step:   0%|          | 0/100 [00:00<?, ?it/s]"
      ]
     },
     "metadata": {},
     "output_type": "display_data"
    },
    {
     "data": {
      "application/vnd.jupyter.widget-view+json": {
       "model_id": "ad1f5117351742eb9ca3940ade51903c",
       "version_major": 2,
       "version_minor": 0
      },
      "text/plain": [
       "time step:   0%|          | 0/100 [00:00<?, ?it/s]"
      ]
     },
     "metadata": {},
     "output_type": "display_data"
    },
    {
     "data": {
      "application/vnd.jupyter.widget-view+json": {
       "model_id": "a6721f5df1d4468295257bac0edd8a30",
       "version_major": 2,
       "version_minor": 0
      },
      "text/plain": [
       "time step:   0%|          | 0/100 [00:00<?, ?it/s]"
      ]
     },
     "metadata": {},
     "output_type": "display_data"
    },
    {
     "data": {
      "application/vnd.jupyter.widget-view+json": {
       "model_id": "a7bc2d5a5eec4d23af0b1e76b6df61e2",
       "version_major": 2,
       "version_minor": 0
      },
      "text/plain": [
       "time step:   0%|          | 0/100 [00:00<?, ?it/s]"
      ]
     },
     "metadata": {},
     "output_type": "display_data"
    },
    {
     "data": {
      "application/vnd.jupyter.widget-view+json": {
       "model_id": "7f145c3179e04151b028687042382e6c",
       "version_major": 2,
       "version_minor": 0
      },
      "text/plain": [
       "time step:   0%|          | 0/100 [00:00<?, ?it/s]"
      ]
     },
     "metadata": {},
     "output_type": "display_data"
    },
    {
     "data": {
      "application/vnd.jupyter.widget-view+json": {
       "model_id": "fc7d6f8fe2384951afb62f43c9820688",
       "version_major": 2,
       "version_minor": 0
      },
      "text/plain": [
       "time step:   0%|          | 0/100 [00:00<?, ?it/s]"
      ]
     },
     "metadata": {},
     "output_type": "display_data"
    },
    {
     "data": {
      "application/vnd.jupyter.widget-view+json": {
       "model_id": "76e723c26ce64883be5a28a523bd8beb",
       "version_major": 2,
       "version_minor": 0
      },
      "text/plain": [
       "time step:   0%|          | 0/100 [00:00<?, ?it/s]"
      ]
     },
     "metadata": {},
     "output_type": "display_data"
    },
    {
     "data": {
      "application/vnd.jupyter.widget-view+json": {
       "model_id": "b4664ca9eab143ce91f9532261898399",
       "version_major": 2,
       "version_minor": 0
      },
      "text/plain": [
       "time step:   0%|          | 0/100 [00:00<?, ?it/s]"
      ]
     },
     "metadata": {},
     "output_type": "display_data"
    },
    {
     "data": {
      "application/vnd.jupyter.widget-view+json": {
       "model_id": "42de9bd25fd346539d4899476f12267c",
       "version_major": 2,
       "version_minor": 0
      },
      "text/plain": [
       "time step:   0%|          | 0/100 [00:00<?, ?it/s]"
      ]
     },
     "metadata": {},
     "output_type": "display_data"
    },
    {
     "data": {
      "application/vnd.jupyter.widget-view+json": {
       "model_id": "6b2fd734ee9c48eb843a3bcd243a303e",
       "version_major": 2,
       "version_minor": 0
      },
      "text/plain": [
       "time step:   0%|          | 0/100 [00:00<?, ?it/s]"
      ]
     },
     "metadata": {},
     "output_type": "display_data"
    },
    {
     "data": {
      "application/vnd.jupyter.widget-view+json": {
       "model_id": "d7d01a65a11e461e8404369cf7dd0721",
       "version_major": 2,
       "version_minor": 0
      },
      "text/plain": [
       "time step:   0%|          | 0/100 [00:00<?, ?it/s]"
      ]
     },
     "metadata": {},
     "output_type": "display_data"
    },
    {
     "data": {
      "application/vnd.jupyter.widget-view+json": {
       "model_id": "a63f729caa4b4baf9d8b9dc331afef83",
       "version_major": 2,
       "version_minor": 0
      },
      "text/plain": [
       "time step:   0%|          | 0/100 [00:00<?, ?it/s]"
      ]
     },
     "metadata": {},
     "output_type": "display_data"
    },
    {
     "data": {
      "application/vnd.jupyter.widget-view+json": {
       "model_id": "01b2b069e7a54777bdf6d89e3b954fc2",
       "version_major": 2,
       "version_minor": 0
      },
      "text/plain": [
       "time step:   0%|          | 0/100 [00:00<?, ?it/s]"
      ]
     },
     "metadata": {},
     "output_type": "display_data"
    },
    {
     "data": {
      "application/vnd.jupyter.widget-view+json": {
       "model_id": "5334498f4acc43abb6f214997eeaed9c",
       "version_major": 2,
       "version_minor": 0
      },
      "text/plain": [
       "time step:   0%|          | 0/100 [00:00<?, ?it/s]"
      ]
     },
     "metadata": {},
     "output_type": "display_data"
    },
    {
     "data": {
      "application/vnd.jupyter.widget-view+json": {
       "model_id": "8f34ba5921d4426ba94ed44a456c6ff6",
       "version_major": 2,
       "version_minor": 0
      },
      "text/plain": [
       "time step:   0%|          | 0/100 [00:00<?, ?it/s]"
      ]
     },
     "metadata": {},
     "output_type": "display_data"
    },
    {
     "data": {
      "application/vnd.jupyter.widget-view+json": {
       "model_id": "d31ab63b735e45a99cccc497ca842243",
       "version_major": 2,
       "version_minor": 0
      },
      "text/plain": [
       "time step:   0%|          | 0/100 [00:00<?, ?it/s]"
      ]
     },
     "metadata": {},
     "output_type": "display_data"
    },
    {
     "data": {
      "application/vnd.jupyter.widget-view+json": {
       "model_id": "0c6f548ce4394d8fa87bdac4c77b0c55",
       "version_major": 2,
       "version_minor": 0
      },
      "text/plain": [
       "time step:   0%|          | 0/100 [00:00<?, ?it/s]"
      ]
     },
     "metadata": {},
     "output_type": "display_data"
    },
    {
     "data": {
      "application/vnd.jupyter.widget-view+json": {
       "model_id": "611c123a855345bca9ef1f39f2f0df7b",
       "version_major": 2,
       "version_minor": 0
      },
      "text/plain": [
       "time step:   0%|          | 0/100 [00:00<?, ?it/s]"
      ]
     },
     "metadata": {},
     "output_type": "display_data"
    },
    {
     "data": {
      "application/vnd.jupyter.widget-view+json": {
       "model_id": "212e26525ae84c6598e74be64c21c9a2",
       "version_major": 2,
       "version_minor": 0
      },
      "text/plain": [
       "time step:   0%|          | 0/100 [00:00<?, ?it/s]"
      ]
     },
     "metadata": {},
     "output_type": "display_data"
    },
    {
     "data": {
      "application/vnd.jupyter.widget-view+json": {
       "model_id": "23107276d7604cb2bdab6c738596bdbd",
       "version_major": 2,
       "version_minor": 0
      },
      "text/plain": [
       "time step:   0%|          | 0/100 [00:00<?, ?it/s]"
      ]
     },
     "metadata": {},
     "output_type": "display_data"
    },
    {
     "data": {
      "application/vnd.jupyter.widget-view+json": {
       "model_id": "fb49fb0794ce436dad7a64a867744fc7",
       "version_major": 2,
       "version_minor": 0
      },
      "text/plain": [
       "time step:   0%|          | 0/100 [00:00<?, ?it/s]"
      ]
     },
     "metadata": {},
     "output_type": "display_data"
    },
    {
     "data": {
      "application/vnd.jupyter.widget-view+json": {
       "model_id": "a5df7deeb8b94864abb86fb498226955",
       "version_major": 2,
       "version_minor": 0
      },
      "text/plain": [
       "time step:   0%|          | 0/100 [00:00<?, ?it/s]"
      ]
     },
     "metadata": {},
     "output_type": "display_data"
    },
    {
     "data": {
      "application/vnd.jupyter.widget-view+json": {
       "model_id": "d148adcbeb9d4c78948339bea7f95d3d",
       "version_major": 2,
       "version_minor": 0
      },
      "text/plain": [
       "time step:   0%|          | 0/100 [00:00<?, ?it/s]"
      ]
     },
     "metadata": {},
     "output_type": "display_data"
    },
    {
     "data": {
      "application/vnd.jupyter.widget-view+json": {
       "model_id": "a8cbbb6a60814273b75e62348f259b04",
       "version_major": 2,
       "version_minor": 0
      },
      "text/plain": [
       "time step:   0%|          | 0/100 [00:00<?, ?it/s]"
      ]
     },
     "metadata": {},
     "output_type": "display_data"
    },
    {
     "data": {
      "application/vnd.jupyter.widget-view+json": {
       "model_id": "759d09efe25c4f4e9edf38f9987c136b",
       "version_major": 2,
       "version_minor": 0
      },
      "text/plain": [
       "time step:   0%|          | 0/100 [00:00<?, ?it/s]"
      ]
     },
     "metadata": {},
     "output_type": "display_data"
    },
    {
     "data": {
      "application/vnd.jupyter.widget-view+json": {
       "model_id": "497de652ef7649c8a7b3a683d3070031",
       "version_major": 2,
       "version_minor": 0
      },
      "text/plain": [
       "time step:   0%|          | 0/100 [00:00<?, ?it/s]"
      ]
     },
     "metadata": {},
     "output_type": "display_data"
    },
    {
     "data": {
      "application/vnd.jupyter.widget-view+json": {
       "model_id": "387de7e7d07f4c2885fc9ea8ccde6bb6",
       "version_major": 2,
       "version_minor": 0
      },
      "text/plain": [
       "time step:   0%|          | 0/100 [00:00<?, ?it/s]"
      ]
     },
     "metadata": {},
     "output_type": "display_data"
    },
    {
     "data": {
      "application/vnd.jupyter.widget-view+json": {
       "model_id": "7d97842b92264651826cf8db2c3c3612",
       "version_major": 2,
       "version_minor": 0
      },
      "text/plain": [
       "time step:   0%|          | 0/100 [00:00<?, ?it/s]"
      ]
     },
     "metadata": {},
     "output_type": "display_data"
    },
    {
     "data": {
      "application/vnd.jupyter.widget-view+json": {
       "model_id": "999c87d097404b9a8babfacd03fa9cb6",
       "version_major": 2,
       "version_minor": 0
      },
      "text/plain": [
       "time step:   0%|          | 0/100 [00:00<?, ?it/s]"
      ]
     },
     "metadata": {},
     "output_type": "display_data"
    },
    {
     "data": {
      "application/vnd.jupyter.widget-view+json": {
       "model_id": "337a598697d84d22bd1b0b7164c92c89",
       "version_major": 2,
       "version_minor": 0
      },
      "text/plain": [
       "time step:   0%|          | 0/100 [00:00<?, ?it/s]"
      ]
     },
     "metadata": {},
     "output_type": "display_data"
    },
    {
     "data": {
      "application/vnd.jupyter.widget-view+json": {
       "model_id": "946bbcb16fe844eb806f33e57123f18b",
       "version_major": 2,
       "version_minor": 0
      },
      "text/plain": [
       "time step:   0%|          | 0/100 [00:00<?, ?it/s]"
      ]
     },
     "metadata": {},
     "output_type": "display_data"
    },
    {
     "data": {
      "application/vnd.jupyter.widget-view+json": {
       "model_id": "d4229172496c441d8a7e9eb8766e770a",
       "version_major": 2,
       "version_minor": 0
      },
      "text/plain": [
       "time step:   0%|          | 0/100 [00:00<?, ?it/s]"
      ]
     },
     "metadata": {},
     "output_type": "display_data"
    },
    {
     "data": {
      "application/vnd.jupyter.widget-view+json": {
       "model_id": "ebdc0077b11041c5b2563dfbff0d339f",
       "version_major": 2,
       "version_minor": 0
      },
      "text/plain": [
       "time step:   0%|          | 0/100 [00:00<?, ?it/s]"
      ]
     },
     "metadata": {},
     "output_type": "display_data"
    },
    {
     "data": {
      "application/vnd.jupyter.widget-view+json": {
       "model_id": "dd0ee4091fc9427695222c7bbbac27d0",
       "version_major": 2,
       "version_minor": 0
      },
      "text/plain": [
       "time step:   0%|          | 0/100 [00:00<?, ?it/s]"
      ]
     },
     "metadata": {},
     "output_type": "display_data"
    },
    {
     "data": {
      "application/vnd.jupyter.widget-view+json": {
       "model_id": "cfdc5512935047d89e7af03d8df4bd20",
       "version_major": 2,
       "version_minor": 0
      },
      "text/plain": [
       "time step:   0%|          | 0/100 [00:00<?, ?it/s]"
      ]
     },
     "metadata": {},
     "output_type": "display_data"
    },
    {
     "data": {
      "application/vnd.jupyter.widget-view+json": {
       "model_id": "df0992e91cce4c98925f757f60d5cbe9",
       "version_major": 2,
       "version_minor": 0
      },
      "text/plain": [
       "time step:   0%|          | 0/100 [00:00<?, ?it/s]"
      ]
     },
     "metadata": {},
     "output_type": "display_data"
    },
    {
     "data": {
      "application/vnd.jupyter.widget-view+json": {
       "model_id": "86e2ae517e5b4874b89e8f98eb70e5b8",
       "version_major": 2,
       "version_minor": 0
      },
      "text/plain": [
       "time step:   0%|          | 0/100 [00:00<?, ?it/s]"
      ]
     },
     "metadata": {},
     "output_type": "display_data"
    },
    {
     "data": {
      "application/vnd.jupyter.widget-view+json": {
       "model_id": "ba053cc47ace46eb898ee8b841da2f9b",
       "version_major": 2,
       "version_minor": 0
      },
      "text/plain": [
       "time step:   0%|          | 0/100 [00:00<?, ?it/s]"
      ]
     },
     "metadata": {},
     "output_type": "display_data"
    },
    {
     "data": {
      "application/vnd.jupyter.widget-view+json": {
       "model_id": "f6c4117971184438a46639239b1cdb7d",
       "version_major": 2,
       "version_minor": 0
      },
      "text/plain": [
       "time step:   0%|          | 0/100 [00:00<?, ?it/s]"
      ]
     },
     "metadata": {},
     "output_type": "display_data"
    },
    {
     "data": {
      "application/vnd.jupyter.widget-view+json": {
       "model_id": "a6b77ee5d6824277afdcc002f4dfe868",
       "version_major": 2,
       "version_minor": 0
      },
      "text/plain": [
       "time step:   0%|          | 0/100 [00:00<?, ?it/s]"
      ]
     },
     "metadata": {},
     "output_type": "display_data"
    },
    {
     "data": {
      "application/vnd.jupyter.widget-view+json": {
       "model_id": "f80fad89c58e44b9a7fc82aeab71dbc6",
       "version_major": 2,
       "version_minor": 0
      },
      "text/plain": [
       "time step:   0%|          | 0/100 [00:00<?, ?it/s]"
      ]
     },
     "metadata": {},
     "output_type": "display_data"
    },
    {
     "data": {
      "application/vnd.jupyter.widget-view+json": {
       "model_id": "3e6b17aaafb346888078248189e19dd5",
       "version_major": 2,
       "version_minor": 0
      },
      "text/plain": [
       "time step:   0%|          | 0/100 [00:00<?, ?it/s]"
      ]
     },
     "metadata": {},
     "output_type": "display_data"
    },
    {
     "data": {
      "application/vnd.jupyter.widget-view+json": {
       "model_id": "3ec10fd048fa4841abb2fc60ecfafa44",
       "version_major": 2,
       "version_minor": 0
      },
      "text/plain": [
       "time step:   0%|          | 0/100 [00:00<?, ?it/s]"
      ]
     },
     "metadata": {},
     "output_type": "display_data"
    },
    {
     "data": {
      "application/vnd.jupyter.widget-view+json": {
       "model_id": "a8bce79221314d369f4e754e5c36c652",
       "version_major": 2,
       "version_minor": 0
      },
      "text/plain": [
       "time step:   0%|          | 0/100 [00:00<?, ?it/s]"
      ]
     },
     "metadata": {},
     "output_type": "display_data"
    },
    {
     "data": {
      "application/vnd.jupyter.widget-view+json": {
       "model_id": "2fa59faff08a4f83a9b64f53d16855f3",
       "version_major": 2,
       "version_minor": 0
      },
      "text/plain": [
       "time step:   0%|          | 0/100 [00:00<?, ?it/s]"
      ]
     },
     "metadata": {},
     "output_type": "display_data"
    },
    {
     "data": {
      "application/vnd.jupyter.widget-view+json": {
       "model_id": "6eb7e31207fc4212aeb497dc0f1505e3",
       "version_major": 2,
       "version_minor": 0
      },
      "text/plain": [
       "time step:   0%|          | 0/100 [00:00<?, ?it/s]"
      ]
     },
     "metadata": {},
     "output_type": "display_data"
    },
    {
     "data": {
      "application/vnd.jupyter.widget-view+json": {
       "model_id": "a437e8d163f34d658eebd618b3464120",
       "version_major": 2,
       "version_minor": 0
      },
      "text/plain": [
       "time step:   0%|          | 0/100 [00:00<?, ?it/s]"
      ]
     },
     "metadata": {},
     "output_type": "display_data"
    },
    {
     "data": {
      "application/vnd.jupyter.widget-view+json": {
       "model_id": "bdeb4fa0ccf84242b7a176e6262c42aa",
       "version_major": 2,
       "version_minor": 0
      },
      "text/plain": [
       "time step:   0%|          | 0/100 [00:00<?, ?it/s]"
      ]
     },
     "metadata": {},
     "output_type": "display_data"
    },
    {
     "data": {
      "application/vnd.jupyter.widget-view+json": {
       "model_id": "bf2f80130f2d47c5ab95042b4e0a12a6",
       "version_major": 2,
       "version_minor": 0
      },
      "text/plain": [
       "time step:   0%|          | 0/100 [00:00<?, ?it/s]"
      ]
     },
     "metadata": {},
     "output_type": "display_data"
    },
    {
     "data": {
      "application/vnd.jupyter.widget-view+json": {
       "model_id": "1a99fa37646e4691aa784f2426876528",
       "version_major": 2,
       "version_minor": 0
      },
      "text/plain": [
       "time step:   0%|          | 0/100 [00:00<?, ?it/s]"
      ]
     },
     "metadata": {},
     "output_type": "display_data"
    },
    {
     "data": {
      "application/vnd.jupyter.widget-view+json": {
       "model_id": "f22bf1a9bd444f94bfc9229dbb6f3bb2",
       "version_major": 2,
       "version_minor": 0
      },
      "text/plain": [
       "time step:   0%|          | 0/100 [00:00<?, ?it/s]"
      ]
     },
     "metadata": {},
     "output_type": "display_data"
    },
    {
     "data": {
      "application/vnd.jupyter.widget-view+json": {
       "model_id": "e2099f4d9a694a4ba01f2e9ba0b1d273",
       "version_major": 2,
       "version_minor": 0
      },
      "text/plain": [
       "time step:   0%|          | 0/100 [00:00<?, ?it/s]"
      ]
     },
     "metadata": {},
     "output_type": "display_data"
    },
    {
     "data": {
      "application/vnd.jupyter.widget-view+json": {
       "model_id": "3cbb08b43ebc464791b52ca034a03af1",
       "version_major": 2,
       "version_minor": 0
      },
      "text/plain": [
       "time step:   0%|          | 0/100 [00:00<?, ?it/s]"
      ]
     },
     "metadata": {},
     "output_type": "display_data"
    },
    {
     "data": {
      "application/vnd.jupyter.widget-view+json": {
       "model_id": "f1b2c1958e47422f928f5e11ba2755c9",
       "version_major": 2,
       "version_minor": 0
      },
      "text/plain": [
       "time step:   0%|          | 0/100 [00:00<?, ?it/s]"
      ]
     },
     "metadata": {},
     "output_type": "display_data"
    },
    {
     "data": {
      "application/vnd.jupyter.widget-view+json": {
       "model_id": "d7ad929c50e64334858d9be43aa017d6",
       "version_major": 2,
       "version_minor": 0
      },
      "text/plain": [
       "time step:   0%|          | 0/100 [00:00<?, ?it/s]"
      ]
     },
     "metadata": {},
     "output_type": "display_data"
    },
    {
     "data": {
      "application/vnd.jupyter.widget-view+json": {
       "model_id": "7d2c366ef899400ba047d8211f437a31",
       "version_major": 2,
       "version_minor": 0
      },
      "text/plain": [
       "time step:   0%|          | 0/100 [00:00<?, ?it/s]"
      ]
     },
     "metadata": {},
     "output_type": "display_data"
    },
    {
     "data": {
      "application/vnd.jupyter.widget-view+json": {
       "model_id": "53d3da309ca64699a96cc79a3c81bc10",
       "version_major": 2,
       "version_minor": 0
      },
      "text/plain": [
       "time step:   0%|          | 0/100 [00:00<?, ?it/s]"
      ]
     },
     "metadata": {},
     "output_type": "display_data"
    },
    {
     "data": {
      "application/vnd.jupyter.widget-view+json": {
       "model_id": "147611a27686483e937c2d63a84ff097",
       "version_major": 2,
       "version_minor": 0
      },
      "text/plain": [
       "time step:   0%|          | 0/100 [00:00<?, ?it/s]"
      ]
     },
     "metadata": {},
     "output_type": "display_data"
    },
    {
     "data": {
      "application/vnd.jupyter.widget-view+json": {
       "model_id": "9c9b30060f78446bbb4ec4cb6c8d7ee5",
       "version_major": 2,
       "version_minor": 0
      },
      "text/plain": [
       "time step:   0%|          | 0/100 [00:00<?, ?it/s]"
      ]
     },
     "metadata": {},
     "output_type": "display_data"
    },
    {
     "data": {
      "application/vnd.jupyter.widget-view+json": {
       "model_id": "01687e199d93421cb28b82a4be0b8fd3",
       "version_major": 2,
       "version_minor": 0
      },
      "text/plain": [
       "time step:   0%|          | 0/100 [00:00<?, ?it/s]"
      ]
     },
     "metadata": {},
     "output_type": "display_data"
    },
    {
     "data": {
      "application/vnd.jupyter.widget-view+json": {
       "model_id": "0c8669eb2aba4dcb8cf6384ba6539b72",
       "version_major": 2,
       "version_minor": 0
      },
      "text/plain": [
       "time step:   0%|          | 0/100 [00:00<?, ?it/s]"
      ]
     },
     "metadata": {},
     "output_type": "display_data"
    },
    {
     "data": {
      "application/vnd.jupyter.widget-view+json": {
       "model_id": "61012a61d105483ab3548ecb3aa48ec5",
       "version_major": 2,
       "version_minor": 0
      },
      "text/plain": [
       "time step:   0%|          | 0/100 [00:00<?, ?it/s]"
      ]
     },
     "metadata": {},
     "output_type": "display_data"
    },
    {
     "data": {
      "application/vnd.jupyter.widget-view+json": {
       "model_id": "8412b8ebb4424b65b7ee606cee7abda4",
       "version_major": 2,
       "version_minor": 0
      },
      "text/plain": [
       "time step:   0%|          | 0/100 [00:00<?, ?it/s]"
      ]
     },
     "metadata": {},
     "output_type": "display_data"
    },
    {
     "data": {
      "application/vnd.jupyter.widget-view+json": {
       "model_id": "8575947e9b5b483f84161443dc9e2c8d",
       "version_major": 2,
       "version_minor": 0
      },
      "text/plain": [
       "time step:   0%|          | 0/100 [00:00<?, ?it/s]"
      ]
     },
     "metadata": {},
     "output_type": "display_data"
    },
    {
     "data": {
      "application/vnd.jupyter.widget-view+json": {
       "model_id": "f8c9a0a404f5449ea956d8356c798898",
       "version_major": 2,
       "version_minor": 0
      },
      "text/plain": [
       "time step:   0%|          | 0/100 [00:00<?, ?it/s]"
      ]
     },
     "metadata": {},
     "output_type": "display_data"
    },
    {
     "data": {
      "application/vnd.jupyter.widget-view+json": {
       "model_id": "68c4c7e2908b4c6eaf80b7b133fbd279",
       "version_major": 2,
       "version_minor": 0
      },
      "text/plain": [
       "time step:   0%|          | 0/100 [00:00<?, ?it/s]"
      ]
     },
     "metadata": {},
     "output_type": "display_data"
    },
    {
     "data": {
      "application/vnd.jupyter.widget-view+json": {
       "model_id": "22976dd99da045eeb3b295ea3056d1d3",
       "version_major": 2,
       "version_minor": 0
      },
      "text/plain": [
       "time step:   0%|          | 0/100 [00:00<?, ?it/s]"
      ]
     },
     "metadata": {},
     "output_type": "display_data"
    },
    {
     "data": {
      "application/vnd.jupyter.widget-view+json": {
       "model_id": "f6b20f3c72744024a70f8aa4103c0b9d",
       "version_major": 2,
       "version_minor": 0
      },
      "text/plain": [
       "time step:   0%|          | 0/100 [00:00<?, ?it/s]"
      ]
     },
     "metadata": {},
     "output_type": "display_data"
    },
    {
     "data": {
      "application/vnd.jupyter.widget-view+json": {
       "model_id": "2875d86a92fd436b82e218bf695d41f7",
       "version_major": 2,
       "version_minor": 0
      },
      "text/plain": [
       "time step:   0%|          | 0/100 [00:00<?, ?it/s]"
      ]
     },
     "metadata": {},
     "output_type": "display_data"
    },
    {
     "data": {
      "application/vnd.jupyter.widget-view+json": {
       "model_id": "5e64d359805f429e92e13d027edb84b8",
       "version_major": 2,
       "version_minor": 0
      },
      "text/plain": [
       "time step:   0%|          | 0/100 [00:00<?, ?it/s]"
      ]
     },
     "metadata": {},
     "output_type": "display_data"
    },
    {
     "data": {
      "application/vnd.jupyter.widget-view+json": {
       "model_id": "8c90336113874e508a3c56cf2ced316f",
       "version_major": 2,
       "version_minor": 0
      },
      "text/plain": [
       "time step:   0%|          | 0/100 [00:00<?, ?it/s]"
      ]
     },
     "metadata": {},
     "output_type": "display_data"
    },
    {
     "data": {
      "application/vnd.jupyter.widget-view+json": {
       "model_id": "ed6acc45739f4691a5c11e4f30659d38",
       "version_major": 2,
       "version_minor": 0
      },
      "text/plain": [
       "time step:   0%|          | 0/100 [00:00<?, ?it/s]"
      ]
     },
     "metadata": {},
     "output_type": "display_data"
    },
    {
     "data": {
      "application/vnd.jupyter.widget-view+json": {
       "model_id": "6072bbd156af4e569cd17864027e1dd4",
       "version_major": 2,
       "version_minor": 0
      },
      "text/plain": [
       "time step:   0%|          | 0/100 [00:00<?, ?it/s]"
      ]
     },
     "metadata": {},
     "output_type": "display_data"
    },
    {
     "data": {
      "application/vnd.jupyter.widget-view+json": {
       "model_id": "40bd40c5bc824224b407fd8bfc3b85b8",
       "version_major": 2,
       "version_minor": 0
      },
      "text/plain": [
       "time step:   0%|          | 0/100 [00:00<?, ?it/s]"
      ]
     },
     "metadata": {},
     "output_type": "display_data"
    },
    {
     "data": {
      "application/vnd.jupyter.widget-view+json": {
       "model_id": "1aad1e3a95ff4f479cc63eb05e75f76a",
       "version_major": 2,
       "version_minor": 0
      },
      "text/plain": [
       "time step:   0%|          | 0/100 [00:00<?, ?it/s]"
      ]
     },
     "metadata": {},
     "output_type": "display_data"
    },
    {
     "data": {
      "application/vnd.jupyter.widget-view+json": {
       "model_id": "439db81c25ca417da6d21de46e487c1b",
       "version_major": 2,
       "version_minor": 0
      },
      "text/plain": [
       "time step:   0%|          | 0/100 [00:00<?, ?it/s]"
      ]
     },
     "metadata": {},
     "output_type": "display_data"
    },
    {
     "data": {
      "application/vnd.jupyter.widget-view+json": {
       "model_id": "e021fe1a1a9d470098a3cd6836704e85",
       "version_major": 2,
       "version_minor": 0
      },
      "text/plain": [
       "time step:   0%|          | 0/100 [00:00<?, ?it/s]"
      ]
     },
     "metadata": {},
     "output_type": "display_data"
    },
    {
     "data": {
      "application/vnd.jupyter.widget-view+json": {
       "model_id": "ff48cf87814345448ecfb096efd20bbb",
       "version_major": 2,
       "version_minor": 0
      },
      "text/plain": [
       "time step:   0%|          | 0/100 [00:00<?, ?it/s]"
      ]
     },
     "metadata": {},
     "output_type": "display_data"
    },
    {
     "data": {
      "application/vnd.jupyter.widget-view+json": {
       "model_id": "e38484a8fdb0419e8d9fc7a1b674ee18",
       "version_major": 2,
       "version_minor": 0
      },
      "text/plain": [
       "time step:   0%|          | 0/100 [00:00<?, ?it/s]"
      ]
     },
     "metadata": {},
     "output_type": "display_data"
    },
    {
     "data": {
      "application/vnd.jupyter.widget-view+json": {
       "model_id": "42907e32dbed4d7bab5cf22334747bc9",
       "version_major": 2,
       "version_minor": 0
      },
      "text/plain": [
       "time step:   0%|          | 0/100 [00:00<?, ?it/s]"
      ]
     },
     "metadata": {},
     "output_type": "display_data"
    },
    {
     "data": {
      "application/vnd.jupyter.widget-view+json": {
       "model_id": "4068dc75c12748e19255481206062d8a",
       "version_major": 2,
       "version_minor": 0
      },
      "text/plain": [
       "time step:   0%|          | 0/100 [00:00<?, ?it/s]"
      ]
     },
     "metadata": {},
     "output_type": "display_data"
    },
    {
     "data": {
      "application/vnd.jupyter.widget-view+json": {
       "model_id": "f12d6b8eee714f23a1627a03ebe1c711",
       "version_major": 2,
       "version_minor": 0
      },
      "text/plain": [
       "time step:   0%|          | 0/100 [00:00<?, ?it/s]"
      ]
     },
     "metadata": {},
     "output_type": "display_data"
    },
    {
     "data": {
      "application/vnd.jupyter.widget-view+json": {
       "model_id": "98b118abfaa0459fac718e371b8ad94d",
       "version_major": 2,
       "version_minor": 0
      },
      "text/plain": [
       "time step:   0%|          | 0/100 [00:00<?, ?it/s]"
      ]
     },
     "metadata": {},
     "output_type": "display_data"
    },
    {
     "data": {
      "application/vnd.jupyter.widget-view+json": {
       "model_id": "900189f38b824f8bb07048dc16fb59fb",
       "version_major": 2,
       "version_minor": 0
      },
      "text/plain": [
       "time step:   0%|          | 0/100 [00:00<?, ?it/s]"
      ]
     },
     "metadata": {},
     "output_type": "display_data"
    },
    {
     "data": {
      "application/vnd.jupyter.widget-view+json": {
       "model_id": "9574eddc144a429eab1b49259f4d1f9d",
       "version_major": 2,
       "version_minor": 0
      },
      "text/plain": [
       "time step:   0%|          | 0/100 [00:00<?, ?it/s]"
      ]
     },
     "metadata": {},
     "output_type": "display_data"
    },
    {
     "data": {
      "application/vnd.jupyter.widget-view+json": {
       "model_id": "91912c6362b1460f885d4926129ef9d7",
       "version_major": 2,
       "version_minor": 0
      },
      "text/plain": [
       "time step:   0%|          | 0/100 [00:00<?, ?it/s]"
      ]
     },
     "metadata": {},
     "output_type": "display_data"
    },
    {
     "data": {
      "application/vnd.jupyter.widget-view+json": {
       "model_id": "03942d156bcc4bae999b759aa0a6fc7e",
       "version_major": 2,
       "version_minor": 0
      },
      "text/plain": [
       "time step:   0%|          | 0/100 [00:00<?, ?it/s]"
      ]
     },
     "metadata": {},
     "output_type": "display_data"
    },
    {
     "data": {
      "application/vnd.jupyter.widget-view+json": {
       "model_id": "c5e7fe9c3895412d882fe2f6ff705f09",
       "version_major": 2,
       "version_minor": 0
      },
      "text/plain": [
       "time step:   0%|          | 0/100 [00:00<?, ?it/s]"
      ]
     },
     "metadata": {},
     "output_type": "display_data"
    },
    {
     "data": {
      "application/vnd.jupyter.widget-view+json": {
       "model_id": "1147dcb43f54473fb956b9b985511943",
       "version_major": 2,
       "version_minor": 0
      },
      "text/plain": [
       "time step:   0%|          | 0/100 [00:00<?, ?it/s]"
      ]
     },
     "metadata": {},
     "output_type": "display_data"
    },
    {
     "data": {
      "application/vnd.jupyter.widget-view+json": {
       "model_id": "08c8c8aa542548508190f4ad588b3f37",
       "version_major": 2,
       "version_minor": 0
      },
      "text/plain": [
       "time step:   0%|          | 0/100 [00:00<?, ?it/s]"
      ]
     },
     "metadata": {},
     "output_type": "display_data"
    },
    {
     "data": {
      "application/vnd.jupyter.widget-view+json": {
       "model_id": "f5ba2b985d2143cfaa00bb28d86ade88",
       "version_major": 2,
       "version_minor": 0
      },
      "text/plain": [
       "time step:   0%|          | 0/100 [00:00<?, ?it/s]"
      ]
     },
     "metadata": {},
     "output_type": "display_data"
    },
    {
     "data": {
      "application/vnd.jupyter.widget-view+json": {
       "model_id": "ee31319def1d4685aa1c6a89b104c045",
       "version_major": 2,
       "version_minor": 0
      },
      "text/plain": [
       "time step:   0%|          | 0/100 [00:00<?, ?it/s]"
      ]
     },
     "metadata": {},
     "output_type": "display_data"
    },
    {
     "data": {
      "application/vnd.jupyter.widget-view+json": {
       "model_id": "76378c15f0b245bd9e96f9de9cc9f6bb",
       "version_major": 2,
       "version_minor": 0
      },
      "text/plain": [
       "time step:   0%|          | 0/100 [00:00<?, ?it/s]"
      ]
     },
     "metadata": {},
     "output_type": "display_data"
    },
    {
     "data": {
      "application/vnd.jupyter.widget-view+json": {
       "model_id": "8bc7436c7b2243fcb36d88262e6f2f31",
       "version_major": 2,
       "version_minor": 0
      },
      "text/plain": [
       "time step:   0%|          | 0/100 [00:00<?, ?it/s]"
      ]
     },
     "metadata": {},
     "output_type": "display_data"
    },
    {
     "data": {
      "application/vnd.jupyter.widget-view+json": {
       "model_id": "b1009382206d4206bde6d617058150b1",
       "version_major": 2,
       "version_minor": 0
      },
      "text/plain": [
       "time step:   0%|          | 0/100 [00:00<?, ?it/s]"
      ]
     },
     "metadata": {},
     "output_type": "display_data"
    },
    {
     "data": {
      "application/vnd.jupyter.widget-view+json": {
       "model_id": "1d95105f65184f7abf0bf2614d3fe232",
       "version_major": 2,
       "version_minor": 0
      },
      "text/plain": [
       "time step:   0%|          | 0/100 [00:00<?, ?it/s]"
      ]
     },
     "metadata": {},
     "output_type": "display_data"
    },
    {
     "data": {
      "application/vnd.jupyter.widget-view+json": {
       "model_id": "f6ab846537704b4e8e3edd35be3fb095",
       "version_major": 2,
       "version_minor": 0
      },
      "text/plain": [
       "time step:   0%|          | 0/100 [00:00<?, ?it/s]"
      ]
     },
     "metadata": {},
     "output_type": "display_data"
    },
    {
     "data": {
      "application/vnd.jupyter.widget-view+json": {
       "model_id": "ad730afac585445585ed228c7ad22287",
       "version_major": 2,
       "version_minor": 0
      },
      "text/plain": [
       "time step:   0%|          | 0/100 [00:00<?, ?it/s]"
      ]
     },
     "metadata": {},
     "output_type": "display_data"
    },
    {
     "data": {
      "application/vnd.jupyter.widget-view+json": {
       "model_id": "82ca488999e74626a2335cb3a1e3bdaa",
       "version_major": 2,
       "version_minor": 0
      },
      "text/plain": [
       "time step:   0%|          | 0/100 [00:00<?, ?it/s]"
      ]
     },
     "metadata": {},
     "output_type": "display_data"
    },
    {
     "data": {
      "application/vnd.jupyter.widget-view+json": {
       "model_id": "f8b66f59cc794d00a05acfc31497bbc1",
       "version_major": 2,
       "version_minor": 0
      },
      "text/plain": [
       "time step:   0%|          | 0/100 [00:00<?, ?it/s]"
      ]
     },
     "metadata": {},
     "output_type": "display_data"
    },
    {
     "data": {
      "application/vnd.jupyter.widget-view+json": {
       "model_id": "1801dbbd82ec4cb3a6e772223fce7109",
       "version_major": 2,
       "version_minor": 0
      },
      "text/plain": [
       "time step:   0%|          | 0/100 [00:00<?, ?it/s]"
      ]
     },
     "metadata": {},
     "output_type": "display_data"
    },
    {
     "data": {
      "application/vnd.jupyter.widget-view+json": {
       "model_id": "028046f9844e4d139d49e2f8f61447f9",
       "version_major": 2,
       "version_minor": 0
      },
      "text/plain": [
       "time step:   0%|          | 0/100 [00:00<?, ?it/s]"
      ]
     },
     "metadata": {},
     "output_type": "display_data"
    },
    {
     "data": {
      "application/vnd.jupyter.widget-view+json": {
       "model_id": "0adec4fdfe0d4a1db04fddb59281cfb0",
       "version_major": 2,
       "version_minor": 0
      },
      "text/plain": [
       "time step:   0%|          | 0/100 [00:00<?, ?it/s]"
      ]
     },
     "metadata": {},
     "output_type": "display_data"
    },
    {
     "data": {
      "application/vnd.jupyter.widget-view+json": {
       "model_id": "c7ab35385756444ab0cf6f64bf2c2c1b",
       "version_major": 2,
       "version_minor": 0
      },
      "text/plain": [
       "time step:   0%|          | 0/100 [00:00<?, ?it/s]"
      ]
     },
     "metadata": {},
     "output_type": "display_data"
    },
    {
     "data": {
      "application/vnd.jupyter.widget-view+json": {
       "model_id": "8a820f8d19a048099e9c8d16348775c7",
       "version_major": 2,
       "version_minor": 0
      },
      "text/plain": [
       "time step:   0%|          | 0/100 [00:00<?, ?it/s]"
      ]
     },
     "metadata": {},
     "output_type": "display_data"
    },
    {
     "data": {
      "application/vnd.jupyter.widget-view+json": {
       "model_id": "1b22a340fb1f417ab38275bf19061b2c",
       "version_major": 2,
       "version_minor": 0
      },
      "text/plain": [
       "time step:   0%|          | 0/100 [00:00<?, ?it/s]"
      ]
     },
     "metadata": {},
     "output_type": "display_data"
    },
    {
     "data": {
      "application/vnd.jupyter.widget-view+json": {
       "model_id": "0ac9594a4418458a8071df1ed72804ea",
       "version_major": 2,
       "version_minor": 0
      },
      "text/plain": [
       "time step:   0%|          | 0/100 [00:00<?, ?it/s]"
      ]
     },
     "metadata": {},
     "output_type": "display_data"
    },
    {
     "data": {
      "application/vnd.jupyter.widget-view+json": {
       "model_id": "1484c650fffe4b049f530df6d44e8082",
       "version_major": 2,
       "version_minor": 0
      },
      "text/plain": [
       "time step:   0%|          | 0/100 [00:00<?, ?it/s]"
      ]
     },
     "metadata": {},
     "output_type": "display_data"
    },
    {
     "data": {
      "application/vnd.jupyter.widget-view+json": {
       "model_id": "193614f5a94c4caeb533beb7bfea73e4",
       "version_major": 2,
       "version_minor": 0
      },
      "text/plain": [
       "time step:   0%|          | 0/100 [00:00<?, ?it/s]"
      ]
     },
     "metadata": {},
     "output_type": "display_data"
    },
    {
     "data": {
      "application/vnd.jupyter.widget-view+json": {
       "model_id": "0efdaf0870ea432b8f240464d2329449",
       "version_major": 2,
       "version_minor": 0
      },
      "text/plain": [
       "time step:   0%|          | 0/100 [00:00<?, ?it/s]"
      ]
     },
     "metadata": {},
     "output_type": "display_data"
    },
    {
     "data": {
      "application/vnd.jupyter.widget-view+json": {
       "model_id": "f396ad8216a24bdd91f21a50d8107e5e",
       "version_major": 2,
       "version_minor": 0
      },
      "text/plain": [
       "time step:   0%|          | 0/100 [00:00<?, ?it/s]"
      ]
     },
     "metadata": {},
     "output_type": "display_data"
    },
    {
     "data": {
      "application/vnd.jupyter.widget-view+json": {
       "model_id": "6913509e1dab42f4a1b1f047a8070167",
       "version_major": 2,
       "version_minor": 0
      },
      "text/plain": [
       "time step:   0%|          | 0/100 [00:00<?, ?it/s]"
      ]
     },
     "metadata": {},
     "output_type": "display_data"
    },
    {
     "data": {
      "application/vnd.jupyter.widget-view+json": {
       "model_id": "1230f1cc33234621a6192dcea739d892",
       "version_major": 2,
       "version_minor": 0
      },
      "text/plain": [
       "time step:   0%|          | 0/100 [00:00<?, ?it/s]"
      ]
     },
     "metadata": {},
     "output_type": "display_data"
    },
    {
     "data": {
      "application/vnd.jupyter.widget-view+json": {
       "model_id": "3eba4796259e424ea25e3226ac029144",
       "version_major": 2,
       "version_minor": 0
      },
      "text/plain": [
       "time step:   0%|          | 0/100 [00:00<?, ?it/s]"
      ]
     },
     "metadata": {},
     "output_type": "display_data"
    },
    {
     "data": {
      "application/vnd.jupyter.widget-view+json": {
       "model_id": "074129a6d8e64363a96a883cd1661091",
       "version_major": 2,
       "version_minor": 0
      },
      "text/plain": [
       "time step:   0%|          | 0/100 [00:00<?, ?it/s]"
      ]
     },
     "metadata": {},
     "output_type": "display_data"
    },
    {
     "data": {
      "application/vnd.jupyter.widget-view+json": {
       "model_id": "40412581f290471399f14a235c7295d0",
       "version_major": 2,
       "version_minor": 0
      },
      "text/plain": [
       "time step:   0%|          | 0/100 [00:00<?, ?it/s]"
      ]
     },
     "metadata": {},
     "output_type": "display_data"
    },
    {
     "data": {
      "application/vnd.jupyter.widget-view+json": {
       "model_id": "c05b06107cf34662bff544eb65cfb673",
       "version_major": 2,
       "version_minor": 0
      },
      "text/plain": [
       "time step:   0%|          | 0/100 [00:00<?, ?it/s]"
      ]
     },
     "metadata": {},
     "output_type": "display_data"
    },
    {
     "data": {
      "application/vnd.jupyter.widget-view+json": {
       "model_id": "cf957ea19bad491b886e865e7b45e8b1",
       "version_major": 2,
       "version_minor": 0
      },
      "text/plain": [
       "time step:   0%|          | 0/100 [00:00<?, ?it/s]"
      ]
     },
     "metadata": {},
     "output_type": "display_data"
    },
    {
     "data": {
      "application/vnd.jupyter.widget-view+json": {
       "model_id": "6d7d0726595c4ec38f1970fbbf525e4f",
       "version_major": 2,
       "version_minor": 0
      },
      "text/plain": [
       "time step:   0%|          | 0/100 [00:00<?, ?it/s]"
      ]
     },
     "metadata": {},
     "output_type": "display_data"
    },
    {
     "data": {
      "application/vnd.jupyter.widget-view+json": {
       "model_id": "2d72f507d38e4da6b935750b1236c6e4",
       "version_major": 2,
       "version_minor": 0
      },
      "text/plain": [
       "time step:   0%|          | 0/100 [00:00<?, ?it/s]"
      ]
     },
     "metadata": {},
     "output_type": "display_data"
    },
    {
     "data": {
      "application/vnd.jupyter.widget-view+json": {
       "model_id": "6ebfea1ce03a42eb9b5fb6a8fe832c13",
       "version_major": 2,
       "version_minor": 0
      },
      "text/plain": [
       "time step:   0%|          | 0/100 [00:00<?, ?it/s]"
      ]
     },
     "metadata": {},
     "output_type": "display_data"
    },
    {
     "data": {
      "application/vnd.jupyter.widget-view+json": {
       "model_id": "8d618bc6aa7e4c9e801187bfaa353932",
       "version_major": 2,
       "version_minor": 0
      },
      "text/plain": [
       "time step:   0%|          | 0/100 [00:00<?, ?it/s]"
      ]
     },
     "metadata": {},
     "output_type": "display_data"
    },
    {
     "data": {
      "application/vnd.jupyter.widget-view+json": {
       "model_id": "d6c1b155fbbe40d5a235b3c518946042",
       "version_major": 2,
       "version_minor": 0
      },
      "text/plain": [
       "time step:   0%|          | 0/100 [00:00<?, ?it/s]"
      ]
     },
     "metadata": {},
     "output_type": "display_data"
    },
    {
     "data": {
      "application/vnd.jupyter.widget-view+json": {
       "model_id": "fc19fa2e33f147869c152d00a07e8e32",
       "version_major": 2,
       "version_minor": 0
      },
      "text/plain": [
       "time step:   0%|          | 0/100 [00:00<?, ?it/s]"
      ]
     },
     "metadata": {},
     "output_type": "display_data"
    },
    {
     "data": {
      "application/vnd.jupyter.widget-view+json": {
       "model_id": "a3b6c8e4ddbe43a789f27ddbc7ed5c1c",
       "version_major": 2,
       "version_minor": 0
      },
      "text/plain": [
       "time step:   0%|          | 0/100 [00:00<?, ?it/s]"
      ]
     },
     "metadata": {},
     "output_type": "display_data"
    },
    {
     "data": {
      "application/vnd.jupyter.widget-view+json": {
       "model_id": "ec760924caa54dd09b684c95912f4fb8",
       "version_major": 2,
       "version_minor": 0
      },
      "text/plain": [
       "run number:   0%|          | 0/200 [00:00<?, ?it/s]"
      ]
     },
     "metadata": {},
     "output_type": "display_data"
    },
    {
     "data": {
      "application/vnd.jupyter.widget-view+json": {
       "model_id": "a27fb3832b6c46bb9db76185cc7cad34",
       "version_major": 2,
       "version_minor": 0
      },
      "text/plain": [
       "time step:   0%|          | 0/100 [00:00<?, ?it/s]"
      ]
     },
     "metadata": {},
     "output_type": "display_data"
    },
    {
     "data": {
      "application/vnd.jupyter.widget-view+json": {
       "model_id": "682d185b9972405b994c75e4853c3a5c",
       "version_major": 2,
       "version_minor": 0
      },
      "text/plain": [
       "time step:   0%|          | 0/100 [00:00<?, ?it/s]"
      ]
     },
     "metadata": {},
     "output_type": "display_data"
    },
    {
     "data": {
      "application/vnd.jupyter.widget-view+json": {
       "model_id": "c014e158a48a493f9add275380331f2b",
       "version_major": 2,
       "version_minor": 0
      },
      "text/plain": [
       "time step:   0%|          | 0/100 [00:00<?, ?it/s]"
      ]
     },
     "metadata": {},
     "output_type": "display_data"
    },
    {
     "data": {
      "application/vnd.jupyter.widget-view+json": {
       "model_id": "baaf41dac4234cce91b17ba0d091db80",
       "version_major": 2,
       "version_minor": 0
      },
      "text/plain": [
       "time step:   0%|          | 0/100 [00:00<?, ?it/s]"
      ]
     },
     "metadata": {},
     "output_type": "display_data"
    },
    {
     "data": {
      "application/vnd.jupyter.widget-view+json": {
       "model_id": "173c687a909846ed81c73a24927f5984",
       "version_major": 2,
       "version_minor": 0
      },
      "text/plain": [
       "time step:   0%|          | 0/100 [00:00<?, ?it/s]"
      ]
     },
     "metadata": {},
     "output_type": "display_data"
    },
    {
     "data": {
      "application/vnd.jupyter.widget-view+json": {
       "model_id": "d68c689e58b6461382e307de4e445c08",
       "version_major": 2,
       "version_minor": 0
      },
      "text/plain": [
       "time step:   0%|          | 0/100 [00:00<?, ?it/s]"
      ]
     },
     "metadata": {},
     "output_type": "display_data"
    },
    {
     "data": {
      "application/vnd.jupyter.widget-view+json": {
       "model_id": "b990e3ba6b4949158c72cd1e4cb09a12",
       "version_major": 2,
       "version_minor": 0
      },
      "text/plain": [
       "time step:   0%|          | 0/100 [00:00<?, ?it/s]"
      ]
     },
     "metadata": {},
     "output_type": "display_data"
    },
    {
     "data": {
      "application/vnd.jupyter.widget-view+json": {
       "model_id": "7ac1848f1612475fa5ec36b2bddf1091",
       "version_major": 2,
       "version_minor": 0
      },
      "text/plain": [
       "time step:   0%|          | 0/100 [00:00<?, ?it/s]"
      ]
     },
     "metadata": {},
     "output_type": "display_data"
    },
    {
     "data": {
      "application/vnd.jupyter.widget-view+json": {
       "model_id": "7c79c559b1e1459e8c1feeec7af4c172",
       "version_major": 2,
       "version_minor": 0
      },
      "text/plain": [
       "time step:   0%|          | 0/100 [00:00<?, ?it/s]"
      ]
     },
     "metadata": {},
     "output_type": "display_data"
    },
    {
     "data": {
      "application/vnd.jupyter.widget-view+json": {
       "model_id": "50432b28928947a0ae12079d9f6ee400",
       "version_major": 2,
       "version_minor": 0
      },
      "text/plain": [
       "time step:   0%|          | 0/100 [00:00<?, ?it/s]"
      ]
     },
     "metadata": {},
     "output_type": "display_data"
    },
    {
     "data": {
      "application/vnd.jupyter.widget-view+json": {
       "model_id": "7f77a7266d094a779dad98f93148c458",
       "version_major": 2,
       "version_minor": 0
      },
      "text/plain": [
       "time step:   0%|          | 0/100 [00:00<?, ?it/s]"
      ]
     },
     "metadata": {},
     "output_type": "display_data"
    },
    {
     "data": {
      "application/vnd.jupyter.widget-view+json": {
       "model_id": "263cfdd627b6495980e1593f608e6a57",
       "version_major": 2,
       "version_minor": 0
      },
      "text/plain": [
       "time step:   0%|          | 0/100 [00:00<?, ?it/s]"
      ]
     },
     "metadata": {},
     "output_type": "display_data"
    },
    {
     "data": {
      "application/vnd.jupyter.widget-view+json": {
       "model_id": "3aa02bb301104c0a8529bbfdab81eed2",
       "version_major": 2,
       "version_minor": 0
      },
      "text/plain": [
       "time step:   0%|          | 0/100 [00:00<?, ?it/s]"
      ]
     },
     "metadata": {},
     "output_type": "display_data"
    },
    {
     "data": {
      "application/vnd.jupyter.widget-view+json": {
       "model_id": "f9b0d4bdf8c8483594f944b54807f53a",
       "version_major": 2,
       "version_minor": 0
      },
      "text/plain": [
       "time step:   0%|          | 0/100 [00:00<?, ?it/s]"
      ]
     },
     "metadata": {},
     "output_type": "display_data"
    },
    {
     "data": {
      "application/vnd.jupyter.widget-view+json": {
       "model_id": "4bf4bca52c7e4a96abc6327401af2f58",
       "version_major": 2,
       "version_minor": 0
      },
      "text/plain": [
       "time step:   0%|          | 0/100 [00:00<?, ?it/s]"
      ]
     },
     "metadata": {},
     "output_type": "display_data"
    },
    {
     "data": {
      "application/vnd.jupyter.widget-view+json": {
       "model_id": "32491ed900d5473b884017808178c494",
       "version_major": 2,
       "version_minor": 0
      },
      "text/plain": [
       "time step:   0%|          | 0/100 [00:00<?, ?it/s]"
      ]
     },
     "metadata": {},
     "output_type": "display_data"
    },
    {
     "data": {
      "application/vnd.jupyter.widget-view+json": {
       "model_id": "fdc1e612bbb04f2698d2b59679efc2e9",
       "version_major": 2,
       "version_minor": 0
      },
      "text/plain": [
       "time step:   0%|          | 0/100 [00:00<?, ?it/s]"
      ]
     },
     "metadata": {},
     "output_type": "display_data"
    },
    {
     "data": {
      "application/vnd.jupyter.widget-view+json": {
       "model_id": "5cfbd7feb89d4a85a5990e3daf3d4e09",
       "version_major": 2,
       "version_minor": 0
      },
      "text/plain": [
       "time step:   0%|          | 0/100 [00:00<?, ?it/s]"
      ]
     },
     "metadata": {},
     "output_type": "display_data"
    },
    {
     "data": {
      "application/vnd.jupyter.widget-view+json": {
       "model_id": "e13b1c827c36434d922d2d5ad9e02446",
       "version_major": 2,
       "version_minor": 0
      },
      "text/plain": [
       "time step:   0%|          | 0/100 [00:00<?, ?it/s]"
      ]
     },
     "metadata": {},
     "output_type": "display_data"
    },
    {
     "data": {
      "application/vnd.jupyter.widget-view+json": {
       "model_id": "70c0baac89ef4625bbc628e0b747ee55",
       "version_major": 2,
       "version_minor": 0
      },
      "text/plain": [
       "time step:   0%|          | 0/100 [00:00<?, ?it/s]"
      ]
     },
     "metadata": {},
     "output_type": "display_data"
    },
    {
     "data": {
      "application/vnd.jupyter.widget-view+json": {
       "model_id": "4d872d84bcb7469d95bb3208ff49061f",
       "version_major": 2,
       "version_minor": 0
      },
      "text/plain": [
       "time step:   0%|          | 0/100 [00:00<?, ?it/s]"
      ]
     },
     "metadata": {},
     "output_type": "display_data"
    },
    {
     "data": {
      "application/vnd.jupyter.widget-view+json": {
       "model_id": "30a3bf2df85046548737c5adb5d98afd",
       "version_major": 2,
       "version_minor": 0
      },
      "text/plain": [
       "time step:   0%|          | 0/100 [00:00<?, ?it/s]"
      ]
     },
     "metadata": {},
     "output_type": "display_data"
    },
    {
     "data": {
      "application/vnd.jupyter.widget-view+json": {
       "model_id": "5189d6f52d2b4bfaa19a2b2eef0fff63",
       "version_major": 2,
       "version_minor": 0
      },
      "text/plain": [
       "time step:   0%|          | 0/100 [00:00<?, ?it/s]"
      ]
     },
     "metadata": {},
     "output_type": "display_data"
    },
    {
     "data": {
      "application/vnd.jupyter.widget-view+json": {
       "model_id": "985853c0cc9c4cbdab9b44662ed76472",
       "version_major": 2,
       "version_minor": 0
      },
      "text/plain": [
       "time step:   0%|          | 0/100 [00:00<?, ?it/s]"
      ]
     },
     "metadata": {},
     "output_type": "display_data"
    },
    {
     "data": {
      "application/vnd.jupyter.widget-view+json": {
       "model_id": "7a1064745bbc4323a589bf9230ae06dc",
       "version_major": 2,
       "version_minor": 0
      },
      "text/plain": [
       "time step:   0%|          | 0/100 [00:00<?, ?it/s]"
      ]
     },
     "metadata": {},
     "output_type": "display_data"
    },
    {
     "data": {
      "application/vnd.jupyter.widget-view+json": {
       "model_id": "b0fd5736ebba4ec0a05119358dc1508f",
       "version_major": 2,
       "version_minor": 0
      },
      "text/plain": [
       "time step:   0%|          | 0/100 [00:00<?, ?it/s]"
      ]
     },
     "metadata": {},
     "output_type": "display_data"
    },
    {
     "data": {
      "application/vnd.jupyter.widget-view+json": {
       "model_id": "059a881497ce43348f8ec4be0b35f021",
       "version_major": 2,
       "version_minor": 0
      },
      "text/plain": [
       "time step:   0%|          | 0/100 [00:00<?, ?it/s]"
      ]
     },
     "metadata": {},
     "output_type": "display_data"
    },
    {
     "data": {
      "application/vnd.jupyter.widget-view+json": {
       "model_id": "dc8ce14375a24d16b2b910f8f1cb88df",
       "version_major": 2,
       "version_minor": 0
      },
      "text/plain": [
       "time step:   0%|          | 0/100 [00:00<?, ?it/s]"
      ]
     },
     "metadata": {},
     "output_type": "display_data"
    },
    {
     "data": {
      "application/vnd.jupyter.widget-view+json": {
       "model_id": "1dcd2671422d4e45aaeba71a9b14ef28",
       "version_major": 2,
       "version_minor": 0
      },
      "text/plain": [
       "time step:   0%|          | 0/100 [00:00<?, ?it/s]"
      ]
     },
     "metadata": {},
     "output_type": "display_data"
    },
    {
     "data": {
      "application/vnd.jupyter.widget-view+json": {
       "model_id": "23e45661dfc14984a7400c0002942f33",
       "version_major": 2,
       "version_minor": 0
      },
      "text/plain": [
       "time step:   0%|          | 0/100 [00:00<?, ?it/s]"
      ]
     },
     "metadata": {},
     "output_type": "display_data"
    },
    {
     "data": {
      "application/vnd.jupyter.widget-view+json": {
       "model_id": "bac08970751444a08b96fb74c8df8053",
       "version_major": 2,
       "version_minor": 0
      },
      "text/plain": [
       "time step:   0%|          | 0/100 [00:00<?, ?it/s]"
      ]
     },
     "metadata": {},
     "output_type": "display_data"
    },
    {
     "data": {
      "application/vnd.jupyter.widget-view+json": {
       "model_id": "7953b38311f846c382eb9d78cd656455",
       "version_major": 2,
       "version_minor": 0
      },
      "text/plain": [
       "time step:   0%|          | 0/100 [00:00<?, ?it/s]"
      ]
     },
     "metadata": {},
     "output_type": "display_data"
    },
    {
     "data": {
      "application/vnd.jupyter.widget-view+json": {
       "model_id": "8f690215d68c4a7e9f9b3380ee656244",
       "version_major": 2,
       "version_minor": 0
      },
      "text/plain": [
       "time step:   0%|          | 0/100 [00:00<?, ?it/s]"
      ]
     },
     "metadata": {},
     "output_type": "display_data"
    },
    {
     "data": {
      "application/vnd.jupyter.widget-view+json": {
       "model_id": "b122310139974f248005ccb804752e19",
       "version_major": 2,
       "version_minor": 0
      },
      "text/plain": [
       "time step:   0%|          | 0/100 [00:00<?, ?it/s]"
      ]
     },
     "metadata": {},
     "output_type": "display_data"
    },
    {
     "data": {
      "application/vnd.jupyter.widget-view+json": {
       "model_id": "3f635503698347d8adda3727d45cd7d0",
       "version_major": 2,
       "version_minor": 0
      },
      "text/plain": [
       "time step:   0%|          | 0/100 [00:00<?, ?it/s]"
      ]
     },
     "metadata": {},
     "output_type": "display_data"
    },
    {
     "data": {
      "application/vnd.jupyter.widget-view+json": {
       "model_id": "0a188e6ec24b46a5a09f0313cccfb51a",
       "version_major": 2,
       "version_minor": 0
      },
      "text/plain": [
       "time step:   0%|          | 0/100 [00:00<?, ?it/s]"
      ]
     },
     "metadata": {},
     "output_type": "display_data"
    },
    {
     "data": {
      "application/vnd.jupyter.widget-view+json": {
       "model_id": "92230eaa90ba4ec8b5a47e8f689da45e",
       "version_major": 2,
       "version_minor": 0
      },
      "text/plain": [
       "time step:   0%|          | 0/100 [00:00<?, ?it/s]"
      ]
     },
     "metadata": {},
     "output_type": "display_data"
    },
    {
     "data": {
      "application/vnd.jupyter.widget-view+json": {
       "model_id": "a6877c4b5c39427398b47490c4ae4127",
       "version_major": 2,
       "version_minor": 0
      },
      "text/plain": [
       "time step:   0%|          | 0/100 [00:00<?, ?it/s]"
      ]
     },
     "metadata": {},
     "output_type": "display_data"
    },
    {
     "data": {
      "application/vnd.jupyter.widget-view+json": {
       "model_id": "730684bd45074454baaa9a0400200e9b",
       "version_major": 2,
       "version_minor": 0
      },
      "text/plain": [
       "time step:   0%|          | 0/100 [00:00<?, ?it/s]"
      ]
     },
     "metadata": {},
     "output_type": "display_data"
    },
    {
     "data": {
      "application/vnd.jupyter.widget-view+json": {
       "model_id": "8141a26ac3ec4c53ac29d9fe0e38682a",
       "version_major": 2,
       "version_minor": 0
      },
      "text/plain": [
       "time step:   0%|          | 0/100 [00:00<?, ?it/s]"
      ]
     },
     "metadata": {},
     "output_type": "display_data"
    },
    {
     "data": {
      "application/vnd.jupyter.widget-view+json": {
       "model_id": "4dd559635a684f7d915dc51415554e59",
       "version_major": 2,
       "version_minor": 0
      },
      "text/plain": [
       "time step:   0%|          | 0/100 [00:00<?, ?it/s]"
      ]
     },
     "metadata": {},
     "output_type": "display_data"
    },
    {
     "data": {
      "application/vnd.jupyter.widget-view+json": {
       "model_id": "ab40fd40aaa640b99e3ba35cd89be3c0",
       "version_major": 2,
       "version_minor": 0
      },
      "text/plain": [
       "time step:   0%|          | 0/100 [00:00<?, ?it/s]"
      ]
     },
     "metadata": {},
     "output_type": "display_data"
    },
    {
     "data": {
      "application/vnd.jupyter.widget-view+json": {
       "model_id": "5d3f8b982e4a43f48ab0cb0be7cf5a68",
       "version_major": 2,
       "version_minor": 0
      },
      "text/plain": [
       "time step:   0%|          | 0/100 [00:00<?, ?it/s]"
      ]
     },
     "metadata": {},
     "output_type": "display_data"
    },
    {
     "data": {
      "application/vnd.jupyter.widget-view+json": {
       "model_id": "4129e8b906544f34b239fcc5bfb8d04f",
       "version_major": 2,
       "version_minor": 0
      },
      "text/plain": [
       "time step:   0%|          | 0/100 [00:00<?, ?it/s]"
      ]
     },
     "metadata": {},
     "output_type": "display_data"
    },
    {
     "data": {
      "application/vnd.jupyter.widget-view+json": {
       "model_id": "835ec99819354122a30ee38f0ac5bca1",
       "version_major": 2,
       "version_minor": 0
      },
      "text/plain": [
       "time step:   0%|          | 0/100 [00:00<?, ?it/s]"
      ]
     },
     "metadata": {},
     "output_type": "display_data"
    },
    {
     "data": {
      "application/vnd.jupyter.widget-view+json": {
       "model_id": "4fa0c863eeaf4db5b45f7e7031ffe292",
       "version_major": 2,
       "version_minor": 0
      },
      "text/plain": [
       "time step:   0%|          | 0/100 [00:00<?, ?it/s]"
      ]
     },
     "metadata": {},
     "output_type": "display_data"
    },
    {
     "data": {
      "application/vnd.jupyter.widget-view+json": {
       "model_id": "aa175304435e47a58fbdeb8008de93fc",
       "version_major": 2,
       "version_minor": 0
      },
      "text/plain": [
       "time step:   0%|          | 0/100 [00:00<?, ?it/s]"
      ]
     },
     "metadata": {},
     "output_type": "display_data"
    },
    {
     "data": {
      "application/vnd.jupyter.widget-view+json": {
       "model_id": "bdd2cd6645584052922f87e092181469",
       "version_major": 2,
       "version_minor": 0
      },
      "text/plain": [
       "time step:   0%|          | 0/100 [00:00<?, ?it/s]"
      ]
     },
     "metadata": {},
     "output_type": "display_data"
    },
    {
     "data": {
      "application/vnd.jupyter.widget-view+json": {
       "model_id": "15af20000c404e0ebd2fa5eef0aded9b",
       "version_major": 2,
       "version_minor": 0
      },
      "text/plain": [
       "time step:   0%|          | 0/100 [00:00<?, ?it/s]"
      ]
     },
     "metadata": {},
     "output_type": "display_data"
    },
    {
     "data": {
      "application/vnd.jupyter.widget-view+json": {
       "model_id": "50d582818e4049478474a5f21632e189",
       "version_major": 2,
       "version_minor": 0
      },
      "text/plain": [
       "time step:   0%|          | 0/100 [00:00<?, ?it/s]"
      ]
     },
     "metadata": {},
     "output_type": "display_data"
    },
    {
     "data": {
      "application/vnd.jupyter.widget-view+json": {
       "model_id": "6d99b9d6bf734610aac94f843c76c21a",
       "version_major": 2,
       "version_minor": 0
      },
      "text/plain": [
       "time step:   0%|          | 0/100 [00:00<?, ?it/s]"
      ]
     },
     "metadata": {},
     "output_type": "display_data"
    },
    {
     "data": {
      "application/vnd.jupyter.widget-view+json": {
       "model_id": "c92e63a8a48347bcb9dfda73888603e6",
       "version_major": 2,
       "version_minor": 0
      },
      "text/plain": [
       "time step:   0%|          | 0/100 [00:00<?, ?it/s]"
      ]
     },
     "metadata": {},
     "output_type": "display_data"
    },
    {
     "data": {
      "application/vnd.jupyter.widget-view+json": {
       "model_id": "819bdd37afe347a081adc37b97972f73",
       "version_major": 2,
       "version_minor": 0
      },
      "text/plain": [
       "time step:   0%|          | 0/100 [00:00<?, ?it/s]"
      ]
     },
     "metadata": {},
     "output_type": "display_data"
    },
    {
     "data": {
      "application/vnd.jupyter.widget-view+json": {
       "model_id": "79f0ecf6523a4dc892ea9defb51cf983",
       "version_major": 2,
       "version_minor": 0
      },
      "text/plain": [
       "time step:   0%|          | 0/100 [00:00<?, ?it/s]"
      ]
     },
     "metadata": {},
     "output_type": "display_data"
    },
    {
     "data": {
      "application/vnd.jupyter.widget-view+json": {
       "model_id": "351308b33ef44e96afa6cd97cefdb38e",
       "version_major": 2,
       "version_minor": 0
      },
      "text/plain": [
       "time step:   0%|          | 0/100 [00:00<?, ?it/s]"
      ]
     },
     "metadata": {},
     "output_type": "display_data"
    },
    {
     "data": {
      "application/vnd.jupyter.widget-view+json": {
       "model_id": "b6525984d5284dd48ee8a042b2eed9d6",
       "version_major": 2,
       "version_minor": 0
      },
      "text/plain": [
       "time step:   0%|          | 0/100 [00:00<?, ?it/s]"
      ]
     },
     "metadata": {},
     "output_type": "display_data"
    },
    {
     "data": {
      "application/vnd.jupyter.widget-view+json": {
       "model_id": "1285386c73074702aa67e0c8cca54db2",
       "version_major": 2,
       "version_minor": 0
      },
      "text/plain": [
       "time step:   0%|          | 0/100 [00:00<?, ?it/s]"
      ]
     },
     "metadata": {},
     "output_type": "display_data"
    },
    {
     "data": {
      "application/vnd.jupyter.widget-view+json": {
       "model_id": "8a971b588eed4f0daa26c2cee6769d3b",
       "version_major": 2,
       "version_minor": 0
      },
      "text/plain": [
       "time step:   0%|          | 0/100 [00:00<?, ?it/s]"
      ]
     },
     "metadata": {},
     "output_type": "display_data"
    },
    {
     "data": {
      "application/vnd.jupyter.widget-view+json": {
       "model_id": "d0d3f59a0ac74a08889a65837e3864fe",
       "version_major": 2,
       "version_minor": 0
      },
      "text/plain": [
       "time step:   0%|          | 0/100 [00:00<?, ?it/s]"
      ]
     },
     "metadata": {},
     "output_type": "display_data"
    },
    {
     "data": {
      "application/vnd.jupyter.widget-view+json": {
       "model_id": "2d72db974f1b41f9a44706dc588500c7",
       "version_major": 2,
       "version_minor": 0
      },
      "text/plain": [
       "time step:   0%|          | 0/100 [00:00<?, ?it/s]"
      ]
     },
     "metadata": {},
     "output_type": "display_data"
    },
    {
     "data": {
      "application/vnd.jupyter.widget-view+json": {
       "model_id": "749eb5b5fab4452ba19249a6bfde82f5",
       "version_major": 2,
       "version_minor": 0
      },
      "text/plain": [
       "time step:   0%|          | 0/100 [00:00<?, ?it/s]"
      ]
     },
     "metadata": {},
     "output_type": "display_data"
    },
    {
     "data": {
      "application/vnd.jupyter.widget-view+json": {
       "model_id": "a8f20ab05e664bc1bdd1f89508d5e6c1",
       "version_major": 2,
       "version_minor": 0
      },
      "text/plain": [
       "time step:   0%|          | 0/100 [00:00<?, ?it/s]"
      ]
     },
     "metadata": {},
     "output_type": "display_data"
    },
    {
     "data": {
      "application/vnd.jupyter.widget-view+json": {
       "model_id": "fe562af622454f0ab0ce583d75dbac1f",
       "version_major": 2,
       "version_minor": 0
      },
      "text/plain": [
       "time step:   0%|          | 0/100 [00:00<?, ?it/s]"
      ]
     },
     "metadata": {},
     "output_type": "display_data"
    },
    {
     "data": {
      "application/vnd.jupyter.widget-view+json": {
       "model_id": "5cab0852b93e48e8a7757690fc0ebb2b",
       "version_major": 2,
       "version_minor": 0
      },
      "text/plain": [
       "time step:   0%|          | 0/100 [00:00<?, ?it/s]"
      ]
     },
     "metadata": {},
     "output_type": "display_data"
    },
    {
     "data": {
      "application/vnd.jupyter.widget-view+json": {
       "model_id": "9f1ea1c656ab4674921c8e3ccda3647a",
       "version_major": 2,
       "version_minor": 0
      },
      "text/plain": [
       "time step:   0%|          | 0/100 [00:00<?, ?it/s]"
      ]
     },
     "metadata": {},
     "output_type": "display_data"
    },
    {
     "data": {
      "application/vnd.jupyter.widget-view+json": {
       "model_id": "e2d4d056bc444217b3889a938d46815f",
       "version_major": 2,
       "version_minor": 0
      },
      "text/plain": [
       "time step:   0%|          | 0/100 [00:00<?, ?it/s]"
      ]
     },
     "metadata": {},
     "output_type": "display_data"
    },
    {
     "data": {
      "application/vnd.jupyter.widget-view+json": {
       "model_id": "2a3b2b46036448dda4f6c4c9f25a59ad",
       "version_major": 2,
       "version_minor": 0
      },
      "text/plain": [
       "time step:   0%|          | 0/100 [00:00<?, ?it/s]"
      ]
     },
     "metadata": {},
     "output_type": "display_data"
    },
    {
     "data": {
      "application/vnd.jupyter.widget-view+json": {
       "model_id": "b74590fe0c864c8990bd0d03fc1aa520",
       "version_major": 2,
       "version_minor": 0
      },
      "text/plain": [
       "time step:   0%|          | 0/100 [00:00<?, ?it/s]"
      ]
     },
     "metadata": {},
     "output_type": "display_data"
    },
    {
     "data": {
      "application/vnd.jupyter.widget-view+json": {
       "model_id": "e8f70e3d07024ce1aaf610da76a0fdd8",
       "version_major": 2,
       "version_minor": 0
      },
      "text/plain": [
       "time step:   0%|          | 0/100 [00:00<?, ?it/s]"
      ]
     },
     "metadata": {},
     "output_type": "display_data"
    },
    {
     "data": {
      "application/vnd.jupyter.widget-view+json": {
       "model_id": "95e762687eba4f2aa1f334f2ffd8670d",
       "version_major": 2,
       "version_minor": 0
      },
      "text/plain": [
       "time step:   0%|          | 0/100 [00:00<?, ?it/s]"
      ]
     },
     "metadata": {},
     "output_type": "display_data"
    },
    {
     "data": {
      "application/vnd.jupyter.widget-view+json": {
       "model_id": "3c1b36e4f8cf47c799f34033e126a278",
       "version_major": 2,
       "version_minor": 0
      },
      "text/plain": [
       "time step:   0%|          | 0/100 [00:00<?, ?it/s]"
      ]
     },
     "metadata": {},
     "output_type": "display_data"
    },
    {
     "data": {
      "application/vnd.jupyter.widget-view+json": {
       "model_id": "3a06fa831fcf45b4862ec130e3f83986",
       "version_major": 2,
       "version_minor": 0
      },
      "text/plain": [
       "time step:   0%|          | 0/100 [00:00<?, ?it/s]"
      ]
     },
     "metadata": {},
     "output_type": "display_data"
    },
    {
     "data": {
      "application/vnd.jupyter.widget-view+json": {
       "model_id": "8a531dbdee084999a522ebb528fcce0a",
       "version_major": 2,
       "version_minor": 0
      },
      "text/plain": [
       "time step:   0%|          | 0/100 [00:00<?, ?it/s]"
      ]
     },
     "metadata": {},
     "output_type": "display_data"
    },
    {
     "data": {
      "application/vnd.jupyter.widget-view+json": {
       "model_id": "8bbc63e1c1204412b7a01dcc55c714c5",
       "version_major": 2,
       "version_minor": 0
      },
      "text/plain": [
       "time step:   0%|          | 0/100 [00:00<?, ?it/s]"
      ]
     },
     "metadata": {},
     "output_type": "display_data"
    },
    {
     "data": {
      "application/vnd.jupyter.widget-view+json": {
       "model_id": "2850236babbf419ea0e2de5aae79ca52",
       "version_major": 2,
       "version_minor": 0
      },
      "text/plain": [
       "time step:   0%|          | 0/100 [00:00<?, ?it/s]"
      ]
     },
     "metadata": {},
     "output_type": "display_data"
    },
    {
     "data": {
      "application/vnd.jupyter.widget-view+json": {
       "model_id": "1a8d07b74af94b208449db7930d58110",
       "version_major": 2,
       "version_minor": 0
      },
      "text/plain": [
       "time step:   0%|          | 0/100 [00:00<?, ?it/s]"
      ]
     },
     "metadata": {},
     "output_type": "display_data"
    },
    {
     "data": {
      "application/vnd.jupyter.widget-view+json": {
       "model_id": "81a18ca7b1754fd49ff5c68f9508ef65",
       "version_major": 2,
       "version_minor": 0
      },
      "text/plain": [
       "time step:   0%|          | 0/100 [00:00<?, ?it/s]"
      ]
     },
     "metadata": {},
     "output_type": "display_data"
    },
    {
     "data": {
      "application/vnd.jupyter.widget-view+json": {
       "model_id": "06a8cf39bfc34f578bdbbc0c98e97cd5",
       "version_major": 2,
       "version_minor": 0
      },
      "text/plain": [
       "time step:   0%|          | 0/100 [00:00<?, ?it/s]"
      ]
     },
     "metadata": {},
     "output_type": "display_data"
    },
    {
     "data": {
      "application/vnd.jupyter.widget-view+json": {
       "model_id": "084f57b2b53d454ea7cba8f49f365112",
       "version_major": 2,
       "version_minor": 0
      },
      "text/plain": [
       "time step:   0%|          | 0/100 [00:00<?, ?it/s]"
      ]
     },
     "metadata": {},
     "output_type": "display_data"
    },
    {
     "data": {
      "application/vnd.jupyter.widget-view+json": {
       "model_id": "289371b08386431ba535742cdcb53ace",
       "version_major": 2,
       "version_minor": 0
      },
      "text/plain": [
       "time step:   0%|          | 0/100 [00:00<?, ?it/s]"
      ]
     },
     "metadata": {},
     "output_type": "display_data"
    },
    {
     "data": {
      "application/vnd.jupyter.widget-view+json": {
       "model_id": "9879e9e7676f4842b2197c769c1f8528",
       "version_major": 2,
       "version_minor": 0
      },
      "text/plain": [
       "time step:   0%|          | 0/100 [00:00<?, ?it/s]"
      ]
     },
     "metadata": {},
     "output_type": "display_data"
    },
    {
     "data": {
      "application/vnd.jupyter.widget-view+json": {
       "model_id": "b2c90432a1c04ff490f6d30f5d49a9e7",
       "version_major": 2,
       "version_minor": 0
      },
      "text/plain": [
       "time step:   0%|          | 0/100 [00:00<?, ?it/s]"
      ]
     },
     "metadata": {},
     "output_type": "display_data"
    },
    {
     "data": {
      "application/vnd.jupyter.widget-view+json": {
       "model_id": "80606a9fab8a476e96677309ccfb42fe",
       "version_major": 2,
       "version_minor": 0
      },
      "text/plain": [
       "time step:   0%|          | 0/100 [00:00<?, ?it/s]"
      ]
     },
     "metadata": {},
     "output_type": "display_data"
    },
    {
     "data": {
      "application/vnd.jupyter.widget-view+json": {
       "model_id": "ec09e39677da47d8b15bc3a8d722dffd",
       "version_major": 2,
       "version_minor": 0
      },
      "text/plain": [
       "time step:   0%|          | 0/100 [00:00<?, ?it/s]"
      ]
     },
     "metadata": {},
     "output_type": "display_data"
    },
    {
     "data": {
      "application/vnd.jupyter.widget-view+json": {
       "model_id": "25820e4b49674e929a6d978148d74a83",
       "version_major": 2,
       "version_minor": 0
      },
      "text/plain": [
       "time step:   0%|          | 0/100 [00:00<?, ?it/s]"
      ]
     },
     "metadata": {},
     "output_type": "display_data"
    },
    {
     "data": {
      "application/vnd.jupyter.widget-view+json": {
       "model_id": "b3d97dcda90e40778ef683acafe1a71e",
       "version_major": 2,
       "version_minor": 0
      },
      "text/plain": [
       "time step:   0%|          | 0/100 [00:00<?, ?it/s]"
      ]
     },
     "metadata": {},
     "output_type": "display_data"
    },
    {
     "data": {
      "application/vnd.jupyter.widget-view+json": {
       "model_id": "be3fa8aa8aa84881bbc4234763b99c11",
       "version_major": 2,
       "version_minor": 0
      },
      "text/plain": [
       "time step:   0%|          | 0/100 [00:00<?, ?it/s]"
      ]
     },
     "metadata": {},
     "output_type": "display_data"
    },
    {
     "data": {
      "application/vnd.jupyter.widget-view+json": {
       "model_id": "74b03a722a4d43c8a74daf8e987dce16",
       "version_major": 2,
       "version_minor": 0
      },
      "text/plain": [
       "time step:   0%|          | 0/100 [00:00<?, ?it/s]"
      ]
     },
     "metadata": {},
     "output_type": "display_data"
    },
    {
     "data": {
      "application/vnd.jupyter.widget-view+json": {
       "model_id": "7d1e18a9bd604933a03c0652cb1fe68f",
       "version_major": 2,
       "version_minor": 0
      },
      "text/plain": [
       "time step:   0%|          | 0/100 [00:00<?, ?it/s]"
      ]
     },
     "metadata": {},
     "output_type": "display_data"
    },
    {
     "data": {
      "application/vnd.jupyter.widget-view+json": {
       "model_id": "e3d87bd57a2d4b36910e77601ec54c01",
       "version_major": 2,
       "version_minor": 0
      },
      "text/plain": [
       "time step:   0%|          | 0/100 [00:00<?, ?it/s]"
      ]
     },
     "metadata": {},
     "output_type": "display_data"
    },
    {
     "data": {
      "application/vnd.jupyter.widget-view+json": {
       "model_id": "d7b12ff4a566413ebdc45ce6d2c7294f",
       "version_major": 2,
       "version_minor": 0
      },
      "text/plain": [
       "time step:   0%|          | 0/100 [00:00<?, ?it/s]"
      ]
     },
     "metadata": {},
     "output_type": "display_data"
    },
    {
     "data": {
      "application/vnd.jupyter.widget-view+json": {
       "model_id": "fb3cc9ad6afe4b7c8d9c96cb295cb64b",
       "version_major": 2,
       "version_minor": 0
      },
      "text/plain": [
       "time step:   0%|          | 0/100 [00:00<?, ?it/s]"
      ]
     },
     "metadata": {},
     "output_type": "display_data"
    },
    {
     "data": {
      "application/vnd.jupyter.widget-view+json": {
       "model_id": "aab1a06a3dd0415cac5594c6fe88c702",
       "version_major": 2,
       "version_minor": 0
      },
      "text/plain": [
       "time step:   0%|          | 0/100 [00:00<?, ?it/s]"
      ]
     },
     "metadata": {},
     "output_type": "display_data"
    },
    {
     "data": {
      "application/vnd.jupyter.widget-view+json": {
       "model_id": "219a266b97df42e3a151d376df2091fd",
       "version_major": 2,
       "version_minor": 0
      },
      "text/plain": [
       "time step:   0%|          | 0/100 [00:00<?, ?it/s]"
      ]
     },
     "metadata": {},
     "output_type": "display_data"
    },
    {
     "data": {
      "application/vnd.jupyter.widget-view+json": {
       "model_id": "084f2eef97f34a99a4a16d5cc9143bfa",
       "version_major": 2,
       "version_minor": 0
      },
      "text/plain": [
       "time step:   0%|          | 0/100 [00:00<?, ?it/s]"
      ]
     },
     "metadata": {},
     "output_type": "display_data"
    },
    {
     "data": {
      "application/vnd.jupyter.widget-view+json": {
       "model_id": "f0f0b6e3f68449e6b766fbe007e1713f",
       "version_major": 2,
       "version_minor": 0
      },
      "text/plain": [
       "time step:   0%|          | 0/100 [00:00<?, ?it/s]"
      ]
     },
     "metadata": {},
     "output_type": "display_data"
    },
    {
     "data": {
      "application/vnd.jupyter.widget-view+json": {
       "model_id": "3198ee94ef8848e9acc723cd05d571e3",
       "version_major": 2,
       "version_minor": 0
      },
      "text/plain": [
       "time step:   0%|          | 0/100 [00:00<?, ?it/s]"
      ]
     },
     "metadata": {},
     "output_type": "display_data"
    },
    {
     "data": {
      "application/vnd.jupyter.widget-view+json": {
       "model_id": "696f83a396ff49088dd578a09f2f9c1f",
       "version_major": 2,
       "version_minor": 0
      },
      "text/plain": [
       "time step:   0%|          | 0/100 [00:00<?, ?it/s]"
      ]
     },
     "metadata": {},
     "output_type": "display_data"
    },
    {
     "data": {
      "application/vnd.jupyter.widget-view+json": {
       "model_id": "72ea0341ae6847d986b7903e878e1a4d",
       "version_major": 2,
       "version_minor": 0
      },
      "text/plain": [
       "time step:   0%|          | 0/100 [00:00<?, ?it/s]"
      ]
     },
     "metadata": {},
     "output_type": "display_data"
    },
    {
     "data": {
      "application/vnd.jupyter.widget-view+json": {
       "model_id": "8e1f11b41f6e490dae5592455eb93542",
       "version_major": 2,
       "version_minor": 0
      },
      "text/plain": [
       "time step:   0%|          | 0/100 [00:00<?, ?it/s]"
      ]
     },
     "metadata": {},
     "output_type": "display_data"
    },
    {
     "data": {
      "application/vnd.jupyter.widget-view+json": {
       "model_id": "21b8a815c2cf46629c2c30060b242bc2",
       "version_major": 2,
       "version_minor": 0
      },
      "text/plain": [
       "time step:   0%|          | 0/100 [00:00<?, ?it/s]"
      ]
     },
     "metadata": {},
     "output_type": "display_data"
    },
    {
     "data": {
      "application/vnd.jupyter.widget-view+json": {
       "model_id": "ad747613ae4c406bb33116a8ede0e12b",
       "version_major": 2,
       "version_minor": 0
      },
      "text/plain": [
       "time step:   0%|          | 0/100 [00:00<?, ?it/s]"
      ]
     },
     "metadata": {},
     "output_type": "display_data"
    },
    {
     "data": {
      "application/vnd.jupyter.widget-view+json": {
       "model_id": "42767fc2f9f34ef7a386160728213d8b",
       "version_major": 2,
       "version_minor": 0
      },
      "text/plain": [
       "time step:   0%|          | 0/100 [00:00<?, ?it/s]"
      ]
     },
     "metadata": {},
     "output_type": "display_data"
    },
    {
     "data": {
      "application/vnd.jupyter.widget-view+json": {
       "model_id": "7a8315ac5a4b45c0a57763038f22ac49",
       "version_major": 2,
       "version_minor": 0
      },
      "text/plain": [
       "time step:   0%|          | 0/100 [00:00<?, ?it/s]"
      ]
     },
     "metadata": {},
     "output_type": "display_data"
    },
    {
     "data": {
      "application/vnd.jupyter.widget-view+json": {
       "model_id": "71b4bd56d22d48eda3db2170859ca79a",
       "version_major": 2,
       "version_minor": 0
      },
      "text/plain": [
       "time step:   0%|          | 0/100 [00:00<?, ?it/s]"
      ]
     },
     "metadata": {},
     "output_type": "display_data"
    },
    {
     "data": {
      "application/vnd.jupyter.widget-view+json": {
       "model_id": "3d6e8690bce54bcc990713acadb2f96a",
       "version_major": 2,
       "version_minor": 0
      },
      "text/plain": [
       "time step:   0%|          | 0/100 [00:00<?, ?it/s]"
      ]
     },
     "metadata": {},
     "output_type": "display_data"
    },
    {
     "data": {
      "application/vnd.jupyter.widget-view+json": {
       "model_id": "2633d73164d24b0fa9feaf7ff6dfea43",
       "version_major": 2,
       "version_minor": 0
      },
      "text/plain": [
       "time step:   0%|          | 0/100 [00:00<?, ?it/s]"
      ]
     },
     "metadata": {},
     "output_type": "display_data"
    },
    {
     "data": {
      "application/vnd.jupyter.widget-view+json": {
       "model_id": "8dd063c940494319b7548655b73a2da4",
       "version_major": 2,
       "version_minor": 0
      },
      "text/plain": [
       "time step:   0%|          | 0/100 [00:00<?, ?it/s]"
      ]
     },
     "metadata": {},
     "output_type": "display_data"
    },
    {
     "data": {
      "application/vnd.jupyter.widget-view+json": {
       "model_id": "6f6c887520c1465cba155d646d2ea51a",
       "version_major": 2,
       "version_minor": 0
      },
      "text/plain": [
       "time step:   0%|          | 0/100 [00:00<?, ?it/s]"
      ]
     },
     "metadata": {},
     "output_type": "display_data"
    },
    {
     "data": {
      "application/vnd.jupyter.widget-view+json": {
       "model_id": "2fda16f489c84a1dba1b86454185e9cf",
       "version_major": 2,
       "version_minor": 0
      },
      "text/plain": [
       "time step:   0%|          | 0/100 [00:00<?, ?it/s]"
      ]
     },
     "metadata": {},
     "output_type": "display_data"
    },
    {
     "data": {
      "application/vnd.jupyter.widget-view+json": {
       "model_id": "af6e7e28cf5246dfa50a4f63254060fe",
       "version_major": 2,
       "version_minor": 0
      },
      "text/plain": [
       "time step:   0%|          | 0/100 [00:00<?, ?it/s]"
      ]
     },
     "metadata": {},
     "output_type": "display_data"
    },
    {
     "data": {
      "application/vnd.jupyter.widget-view+json": {
       "model_id": "3084d0bce4bb465e944e83e730709237",
       "version_major": 2,
       "version_minor": 0
      },
      "text/plain": [
       "time step:   0%|          | 0/100 [00:00<?, ?it/s]"
      ]
     },
     "metadata": {},
     "output_type": "display_data"
    },
    {
     "data": {
      "application/vnd.jupyter.widget-view+json": {
       "model_id": "112d3100f25841daa5b0f04208829785",
       "version_major": 2,
       "version_minor": 0
      },
      "text/plain": [
       "time step:   0%|          | 0/100 [00:00<?, ?it/s]"
      ]
     },
     "metadata": {},
     "output_type": "display_data"
    },
    {
     "data": {
      "application/vnd.jupyter.widget-view+json": {
       "model_id": "7a82ec179ce44ae29616b8226e3619c3",
       "version_major": 2,
       "version_minor": 0
      },
      "text/plain": [
       "time step:   0%|          | 0/100 [00:00<?, ?it/s]"
      ]
     },
     "metadata": {},
     "output_type": "display_data"
    },
    {
     "data": {
      "application/vnd.jupyter.widget-view+json": {
       "model_id": "a8be7ed657cc4b2a83c1dd1a79c686b6",
       "version_major": 2,
       "version_minor": 0
      },
      "text/plain": [
       "time step:   0%|          | 0/100 [00:00<?, ?it/s]"
      ]
     },
     "metadata": {},
     "output_type": "display_data"
    },
    {
     "data": {
      "application/vnd.jupyter.widget-view+json": {
       "model_id": "4244d4197a8c41cd91f0562e648f034d",
       "version_major": 2,
       "version_minor": 0
      },
      "text/plain": [
       "time step:   0%|          | 0/100 [00:00<?, ?it/s]"
      ]
     },
     "metadata": {},
     "output_type": "display_data"
    },
    {
     "data": {
      "application/vnd.jupyter.widget-view+json": {
       "model_id": "6e4156696a4a43a99f2975bb747fcc56",
       "version_major": 2,
       "version_minor": 0
      },
      "text/plain": [
       "time step:   0%|          | 0/100 [00:00<?, ?it/s]"
      ]
     },
     "metadata": {},
     "output_type": "display_data"
    },
    {
     "data": {
      "application/vnd.jupyter.widget-view+json": {
       "model_id": "f65daf8edb2e41d199743c609ac3907a",
       "version_major": 2,
       "version_minor": 0
      },
      "text/plain": [
       "time step:   0%|          | 0/100 [00:00<?, ?it/s]"
      ]
     },
     "metadata": {},
     "output_type": "display_data"
    },
    {
     "data": {
      "application/vnd.jupyter.widget-view+json": {
       "model_id": "867a29a390794431bc488067570e0972",
       "version_major": 2,
       "version_minor": 0
      },
      "text/plain": [
       "time step:   0%|          | 0/100 [00:00<?, ?it/s]"
      ]
     },
     "metadata": {},
     "output_type": "display_data"
    },
    {
     "data": {
      "application/vnd.jupyter.widget-view+json": {
       "model_id": "afd3c02c4b874be5ad5154df6bf0c37d",
       "version_major": 2,
       "version_minor": 0
      },
      "text/plain": [
       "time step:   0%|          | 0/100 [00:00<?, ?it/s]"
      ]
     },
     "metadata": {},
     "output_type": "display_data"
    },
    {
     "data": {
      "application/vnd.jupyter.widget-view+json": {
       "model_id": "e9284693b25241508d43b3742ebe26e0",
       "version_major": 2,
       "version_minor": 0
      },
      "text/plain": [
       "time step:   0%|          | 0/100 [00:00<?, ?it/s]"
      ]
     },
     "metadata": {},
     "output_type": "display_data"
    },
    {
     "data": {
      "application/vnd.jupyter.widget-view+json": {
       "model_id": "cb4443245c434dfebac11b44a7b7daba",
       "version_major": 2,
       "version_minor": 0
      },
      "text/plain": [
       "time step:   0%|          | 0/100 [00:00<?, ?it/s]"
      ]
     },
     "metadata": {},
     "output_type": "display_data"
    },
    {
     "data": {
      "application/vnd.jupyter.widget-view+json": {
       "model_id": "a4a6ee801a964b328dcb4ae096e6a530",
       "version_major": 2,
       "version_minor": 0
      },
      "text/plain": [
       "time step:   0%|          | 0/100 [00:00<?, ?it/s]"
      ]
     },
     "metadata": {},
     "output_type": "display_data"
    },
    {
     "data": {
      "application/vnd.jupyter.widget-view+json": {
       "model_id": "fb8951bbba4d4a15a8be42145bcea2a8",
       "version_major": 2,
       "version_minor": 0
      },
      "text/plain": [
       "time step:   0%|          | 0/100 [00:00<?, ?it/s]"
      ]
     },
     "metadata": {},
     "output_type": "display_data"
    },
    {
     "data": {
      "application/vnd.jupyter.widget-view+json": {
       "model_id": "af4009465aea4f538247dec3e5ec4421",
       "version_major": 2,
       "version_minor": 0
      },
      "text/plain": [
       "time step:   0%|          | 0/100 [00:00<?, ?it/s]"
      ]
     },
     "metadata": {},
     "output_type": "display_data"
    },
    {
     "data": {
      "application/vnd.jupyter.widget-view+json": {
       "model_id": "272ac667293e4990af59edd4fcfec032",
       "version_major": 2,
       "version_minor": 0
      },
      "text/plain": [
       "time step:   0%|          | 0/100 [00:00<?, ?it/s]"
      ]
     },
     "metadata": {},
     "output_type": "display_data"
    },
    {
     "data": {
      "application/vnd.jupyter.widget-view+json": {
       "model_id": "c8dcac199ed74a9f92e1324e53aeb102",
       "version_major": 2,
       "version_minor": 0
      },
      "text/plain": [
       "time step:   0%|          | 0/100 [00:00<?, ?it/s]"
      ]
     },
     "metadata": {},
     "output_type": "display_data"
    },
    {
     "data": {
      "application/vnd.jupyter.widget-view+json": {
       "model_id": "f9fed2ed1df14104beb84f385d8fe5f8",
       "version_major": 2,
       "version_minor": 0
      },
      "text/plain": [
       "time step:   0%|          | 0/100 [00:00<?, ?it/s]"
      ]
     },
     "metadata": {},
     "output_type": "display_data"
    },
    {
     "data": {
      "application/vnd.jupyter.widget-view+json": {
       "model_id": "0e62a8d9d8c9406089dfe721aeb7d1ea",
       "version_major": 2,
       "version_minor": 0
      },
      "text/plain": [
       "time step:   0%|          | 0/100 [00:00<?, ?it/s]"
      ]
     },
     "metadata": {},
     "output_type": "display_data"
    },
    {
     "data": {
      "application/vnd.jupyter.widget-view+json": {
       "model_id": "3897e988455344dcace282ece1eabdcf",
       "version_major": 2,
       "version_minor": 0
      },
      "text/plain": [
       "time step:   0%|          | 0/100 [00:00<?, ?it/s]"
      ]
     },
     "metadata": {},
     "output_type": "display_data"
    },
    {
     "data": {
      "application/vnd.jupyter.widget-view+json": {
       "model_id": "63cb0fb437954317b3175472eca8f62f",
       "version_major": 2,
       "version_minor": 0
      },
      "text/plain": [
       "time step:   0%|          | 0/100 [00:00<?, ?it/s]"
      ]
     },
     "metadata": {},
     "output_type": "display_data"
    },
    {
     "data": {
      "application/vnd.jupyter.widget-view+json": {
       "model_id": "0ab81d8ac3ae432ab9120fd19870dcdc",
       "version_major": 2,
       "version_minor": 0
      },
      "text/plain": [
       "time step:   0%|          | 0/100 [00:00<?, ?it/s]"
      ]
     },
     "metadata": {},
     "output_type": "display_data"
    },
    {
     "data": {
      "application/vnd.jupyter.widget-view+json": {
       "model_id": "719a60fcd479442dbeb3a581d0c11703",
       "version_major": 2,
       "version_minor": 0
      },
      "text/plain": [
       "time step:   0%|          | 0/100 [00:00<?, ?it/s]"
      ]
     },
     "metadata": {},
     "output_type": "display_data"
    },
    {
     "data": {
      "application/vnd.jupyter.widget-view+json": {
       "model_id": "5029564305b847e093661cb7efa99328",
       "version_major": 2,
       "version_minor": 0
      },
      "text/plain": [
       "time step:   0%|          | 0/100 [00:00<?, ?it/s]"
      ]
     },
     "metadata": {},
     "output_type": "display_data"
    },
    {
     "data": {
      "application/vnd.jupyter.widget-view+json": {
       "model_id": "aec7527c75304f8faca2909e136ab6f8",
       "version_major": 2,
       "version_minor": 0
      },
      "text/plain": [
       "time step:   0%|          | 0/100 [00:00<?, ?it/s]"
      ]
     },
     "metadata": {},
     "output_type": "display_data"
    },
    {
     "data": {
      "application/vnd.jupyter.widget-view+json": {
       "model_id": "ee25727f919a430f85dddda0c752254b",
       "version_major": 2,
       "version_minor": 0
      },
      "text/plain": [
       "time step:   0%|          | 0/100 [00:00<?, ?it/s]"
      ]
     },
     "metadata": {},
     "output_type": "display_data"
    },
    {
     "data": {
      "application/vnd.jupyter.widget-view+json": {
       "model_id": "e84be3ffba264a078709e1056f15049a",
       "version_major": 2,
       "version_minor": 0
      },
      "text/plain": [
       "time step:   0%|          | 0/100 [00:00<?, ?it/s]"
      ]
     },
     "metadata": {},
     "output_type": "display_data"
    },
    {
     "data": {
      "application/vnd.jupyter.widget-view+json": {
       "model_id": "b8172b8a8c5a464ca712c4ca9006f088",
       "version_major": 2,
       "version_minor": 0
      },
      "text/plain": [
       "time step:   0%|          | 0/100 [00:00<?, ?it/s]"
      ]
     },
     "metadata": {},
     "output_type": "display_data"
    },
    {
     "data": {
      "application/vnd.jupyter.widget-view+json": {
       "model_id": "8e3b8f35bcdb498397aece290d5d4ea8",
       "version_major": 2,
       "version_minor": 0
      },
      "text/plain": [
       "time step:   0%|          | 0/100 [00:00<?, ?it/s]"
      ]
     },
     "metadata": {},
     "output_type": "display_data"
    },
    {
     "data": {
      "application/vnd.jupyter.widget-view+json": {
       "model_id": "693331e154a04d9491ed1ae23cae4e10",
       "version_major": 2,
       "version_minor": 0
      },
      "text/plain": [
       "time step:   0%|          | 0/100 [00:00<?, ?it/s]"
      ]
     },
     "metadata": {},
     "output_type": "display_data"
    },
    {
     "data": {
      "application/vnd.jupyter.widget-view+json": {
       "model_id": "cd277de414fc4932a1a2f133ca38c2dc",
       "version_major": 2,
       "version_minor": 0
      },
      "text/plain": [
       "time step:   0%|          | 0/100 [00:00<?, ?it/s]"
      ]
     },
     "metadata": {},
     "output_type": "display_data"
    },
    {
     "data": {
      "application/vnd.jupyter.widget-view+json": {
       "model_id": "7e7e13464e3f4e438084668f5d9f0a5c",
       "version_major": 2,
       "version_minor": 0
      },
      "text/plain": [
       "time step:   0%|          | 0/100 [00:00<?, ?it/s]"
      ]
     },
     "metadata": {},
     "output_type": "display_data"
    },
    {
     "data": {
      "application/vnd.jupyter.widget-view+json": {
       "model_id": "173088f8709846bf9103c08259d3e245",
       "version_major": 2,
       "version_minor": 0
      },
      "text/plain": [
       "time step:   0%|          | 0/100 [00:00<?, ?it/s]"
      ]
     },
     "metadata": {},
     "output_type": "display_data"
    },
    {
     "data": {
      "application/vnd.jupyter.widget-view+json": {
       "model_id": "e8547760f1a941ba9b1cb7cda4168f90",
       "version_major": 2,
       "version_minor": 0
      },
      "text/plain": [
       "time step:   0%|          | 0/100 [00:00<?, ?it/s]"
      ]
     },
     "metadata": {},
     "output_type": "display_data"
    },
    {
     "data": {
      "application/vnd.jupyter.widget-view+json": {
       "model_id": "a5100c34cdbf4305b01e0ad41a40cc89",
       "version_major": 2,
       "version_minor": 0
      },
      "text/plain": [
       "time step:   0%|          | 0/100 [00:00<?, ?it/s]"
      ]
     },
     "metadata": {},
     "output_type": "display_data"
    },
    {
     "data": {
      "application/vnd.jupyter.widget-view+json": {
       "model_id": "368cf597856840eda27bb2da7afb4780",
       "version_major": 2,
       "version_minor": 0
      },
      "text/plain": [
       "time step:   0%|          | 0/100 [00:00<?, ?it/s]"
      ]
     },
     "metadata": {},
     "output_type": "display_data"
    },
    {
     "data": {
      "application/vnd.jupyter.widget-view+json": {
       "model_id": "f60cf0623b884bc58eadf1bc0aa71b44",
       "version_major": 2,
       "version_minor": 0
      },
      "text/plain": [
       "time step:   0%|          | 0/100 [00:00<?, ?it/s]"
      ]
     },
     "metadata": {},
     "output_type": "display_data"
    },
    {
     "data": {
      "application/vnd.jupyter.widget-view+json": {
       "model_id": "65b8e7ef800446a29e66401904cf1b1e",
       "version_major": 2,
       "version_minor": 0
      },
      "text/plain": [
       "time step:   0%|          | 0/100 [00:00<?, ?it/s]"
      ]
     },
     "metadata": {},
     "output_type": "display_data"
    },
    {
     "data": {
      "application/vnd.jupyter.widget-view+json": {
       "model_id": "ae70adb8c3484796bbee9385a972d001",
       "version_major": 2,
       "version_minor": 0
      },
      "text/plain": [
       "time step:   0%|          | 0/100 [00:00<?, ?it/s]"
      ]
     },
     "metadata": {},
     "output_type": "display_data"
    },
    {
     "data": {
      "application/vnd.jupyter.widget-view+json": {
       "model_id": "25c0900f2a5843df9c2563c1b2c4c302",
       "version_major": 2,
       "version_minor": 0
      },
      "text/plain": [
       "time step:   0%|          | 0/100 [00:00<?, ?it/s]"
      ]
     },
     "metadata": {},
     "output_type": "display_data"
    },
    {
     "data": {
      "application/vnd.jupyter.widget-view+json": {
       "model_id": "f5becf3f534b43a392662f82e0a3d644",
       "version_major": 2,
       "version_minor": 0
      },
      "text/plain": [
       "time step:   0%|          | 0/100 [00:00<?, ?it/s]"
      ]
     },
     "metadata": {},
     "output_type": "display_data"
    },
    {
     "data": {
      "application/vnd.jupyter.widget-view+json": {
       "model_id": "296d1ed4354448a68472e67d5aa55e14",
       "version_major": 2,
       "version_minor": 0
      },
      "text/plain": [
       "time step:   0%|          | 0/100 [00:00<?, ?it/s]"
      ]
     },
     "metadata": {},
     "output_type": "display_data"
    },
    {
     "data": {
      "application/vnd.jupyter.widget-view+json": {
       "model_id": "f3a975f6e7d34b45ab4768ca6e69b897",
       "version_major": 2,
       "version_minor": 0
      },
      "text/plain": [
       "time step:   0%|          | 0/100 [00:00<?, ?it/s]"
      ]
     },
     "metadata": {},
     "output_type": "display_data"
    },
    {
     "data": {
      "application/vnd.jupyter.widget-view+json": {
       "model_id": "68d53bd9a78143888913522b253c4889",
       "version_major": 2,
       "version_minor": 0
      },
      "text/plain": [
       "time step:   0%|          | 0/100 [00:00<?, ?it/s]"
      ]
     },
     "metadata": {},
     "output_type": "display_data"
    },
    {
     "data": {
      "application/vnd.jupyter.widget-view+json": {
       "model_id": "613bc73f52ee42cdb190d5bb85baa44b",
       "version_major": 2,
       "version_minor": 0
      },
      "text/plain": [
       "time step:   0%|          | 0/100 [00:00<?, ?it/s]"
      ]
     },
     "metadata": {},
     "output_type": "display_data"
    },
    {
     "data": {
      "application/vnd.jupyter.widget-view+json": {
       "model_id": "5a8b40ff715443e9b74f02b6042dcbdb",
       "version_major": 2,
       "version_minor": 0
      },
      "text/plain": [
       "time step:   0%|          | 0/100 [00:00<?, ?it/s]"
      ]
     },
     "metadata": {},
     "output_type": "display_data"
    },
    {
     "data": {
      "application/vnd.jupyter.widget-view+json": {
       "model_id": "314412714fcf4b21b0b9e47b5c141abf",
       "version_major": 2,
       "version_minor": 0
      },
      "text/plain": [
       "time step:   0%|          | 0/100 [00:00<?, ?it/s]"
      ]
     },
     "metadata": {},
     "output_type": "display_data"
    },
    {
     "data": {
      "application/vnd.jupyter.widget-view+json": {
       "model_id": "f14b0e68665c497399d265e687b8dccb",
       "version_major": 2,
       "version_minor": 0
      },
      "text/plain": [
       "time step:   0%|          | 0/100 [00:00<?, ?it/s]"
      ]
     },
     "metadata": {},
     "output_type": "display_data"
    },
    {
     "data": {
      "application/vnd.jupyter.widget-view+json": {
       "model_id": "0cd35e0d787c458cae7367f78beaf917",
       "version_major": 2,
       "version_minor": 0
      },
      "text/plain": [
       "time step:   0%|          | 0/100 [00:00<?, ?it/s]"
      ]
     },
     "metadata": {},
     "output_type": "display_data"
    },
    {
     "data": {
      "application/vnd.jupyter.widget-view+json": {
       "model_id": "0f9ccfb4bf15494bbb419f2ccba9b046",
       "version_major": 2,
       "version_minor": 0
      },
      "text/plain": [
       "time step:   0%|          | 0/100 [00:00<?, ?it/s]"
      ]
     },
     "metadata": {},
     "output_type": "display_data"
    },
    {
     "data": {
      "application/vnd.jupyter.widget-view+json": {
       "model_id": "2a898173c1fc408080cc3fdccc3ef592",
       "version_major": 2,
       "version_minor": 0
      },
      "text/plain": [
       "time step:   0%|          | 0/100 [00:00<?, ?it/s]"
      ]
     },
     "metadata": {},
     "output_type": "display_data"
    },
    {
     "data": {
      "application/vnd.jupyter.widget-view+json": {
       "model_id": "39bd23f8e8cf454f9dad2acde9fca8d0",
       "version_major": 2,
       "version_minor": 0
      },
      "text/plain": [
       "time step:   0%|          | 0/100 [00:00<?, ?it/s]"
      ]
     },
     "metadata": {},
     "output_type": "display_data"
    },
    {
     "data": {
      "application/vnd.jupyter.widget-view+json": {
       "model_id": "ee17cbc4f318474e9a9f27cbeb2d521c",
       "version_major": 2,
       "version_minor": 0
      },
      "text/plain": [
       "time step:   0%|          | 0/100 [00:00<?, ?it/s]"
      ]
     },
     "metadata": {},
     "output_type": "display_data"
    },
    {
     "data": {
      "application/vnd.jupyter.widget-view+json": {
       "model_id": "4062014acd0646c08d86b9134d048cf7",
       "version_major": 2,
       "version_minor": 0
      },
      "text/plain": [
       "time step:   0%|          | 0/100 [00:00<?, ?it/s]"
      ]
     },
     "metadata": {},
     "output_type": "display_data"
    },
    {
     "data": {
      "application/vnd.jupyter.widget-view+json": {
       "model_id": "82cba1b84b424629acab343eae376027",
       "version_major": 2,
       "version_minor": 0
      },
      "text/plain": [
       "time step:   0%|          | 0/100 [00:00<?, ?it/s]"
      ]
     },
     "metadata": {},
     "output_type": "display_data"
    },
    {
     "data": {
      "application/vnd.jupyter.widget-view+json": {
       "model_id": "ace87e63457e4033bb8229087cbe8bd2",
       "version_major": 2,
       "version_minor": 0
      },
      "text/plain": [
       "time step:   0%|          | 0/100 [00:00<?, ?it/s]"
      ]
     },
     "metadata": {},
     "output_type": "display_data"
    },
    {
     "data": {
      "application/vnd.jupyter.widget-view+json": {
       "model_id": "6e3b16f2f33c44718c1730ca8df26112",
       "version_major": 2,
       "version_minor": 0
      },
      "text/plain": [
       "time step:   0%|          | 0/100 [00:00<?, ?it/s]"
      ]
     },
     "metadata": {},
     "output_type": "display_data"
    },
    {
     "data": {
      "application/vnd.jupyter.widget-view+json": {
       "model_id": "6f95104af6da40a0b6817ba0376cbb1b",
       "version_major": 2,
       "version_minor": 0
      },
      "text/plain": [
       "time step:   0%|          | 0/100 [00:00<?, ?it/s]"
      ]
     },
     "metadata": {},
     "output_type": "display_data"
    },
    {
     "data": {
      "application/vnd.jupyter.widget-view+json": {
       "model_id": "945d1364ab004034ae78191c4f696f6d",
       "version_major": 2,
       "version_minor": 0
      },
      "text/plain": [
       "time step:   0%|          | 0/100 [00:00<?, ?it/s]"
      ]
     },
     "metadata": {},
     "output_type": "display_data"
    },
    {
     "data": {
      "application/vnd.jupyter.widget-view+json": {
       "model_id": "43348e39b6354b6b98d657a860b0a4b1",
       "version_major": 2,
       "version_minor": 0
      },
      "text/plain": [
       "time step:   0%|          | 0/100 [00:00<?, ?it/s]"
      ]
     },
     "metadata": {},
     "output_type": "display_data"
    },
    {
     "data": {
      "application/vnd.jupyter.widget-view+json": {
       "model_id": "e32c5f461ab94b699a69d0eb08690cbe",
       "version_major": 2,
       "version_minor": 0
      },
      "text/plain": [
       "time step:   0%|          | 0/100 [00:00<?, ?it/s]"
      ]
     },
     "metadata": {},
     "output_type": "display_data"
    },
    {
     "data": {
      "application/vnd.jupyter.widget-view+json": {
       "model_id": "6268fa4bd53c4db8a1a47c5da4ec684b",
       "version_major": 2,
       "version_minor": 0
      },
      "text/plain": [
       "time step:   0%|          | 0/100 [00:00<?, ?it/s]"
      ]
     },
     "metadata": {},
     "output_type": "display_data"
    },
    {
     "data": {
      "application/vnd.jupyter.widget-view+json": {
       "model_id": "8a96ee2131f7443785d21194764733a3",
       "version_major": 2,
       "version_minor": 0
      },
      "text/plain": [
       "time step:   0%|          | 0/100 [00:00<?, ?it/s]"
      ]
     },
     "metadata": {},
     "output_type": "display_data"
    },
    {
     "data": {
      "application/vnd.jupyter.widget-view+json": {
       "model_id": "274f53cff9ad43a39880943a2c28f1a8",
       "version_major": 2,
       "version_minor": 0
      },
      "text/plain": [
       "time step:   0%|          | 0/100 [00:00<?, ?it/s]"
      ]
     },
     "metadata": {},
     "output_type": "display_data"
    },
    {
     "data": {
      "application/vnd.jupyter.widget-view+json": {
       "model_id": "4951d09c4acc44b0ad65b9e20747519f",
       "version_major": 2,
       "version_minor": 0
      },
      "text/plain": [
       "time step:   0%|          | 0/100 [00:00<?, ?it/s]"
      ]
     },
     "metadata": {},
     "output_type": "display_data"
    },
    {
     "data": {
      "application/vnd.jupyter.widget-view+json": {
       "model_id": "a64267c88d2849b9b92478d2dd819b29",
       "version_major": 2,
       "version_minor": 0
      },
      "text/plain": [
       "time step:   0%|          | 0/100 [00:00<?, ?it/s]"
      ]
     },
     "metadata": {},
     "output_type": "display_data"
    },
    {
     "data": {
      "application/vnd.jupyter.widget-view+json": {
       "model_id": "35377800a64e4fd7a1ef090ce1cdf268",
       "version_major": 2,
       "version_minor": 0
      },
      "text/plain": [
       "time step:   0%|          | 0/100 [00:00<?, ?it/s]"
      ]
     },
     "metadata": {},
     "output_type": "display_data"
    },
    {
     "data": {
      "application/vnd.jupyter.widget-view+json": {
       "model_id": "bc44966c0fa546e8bacac1055b3c2143",
       "version_major": 2,
       "version_minor": 0
      },
      "text/plain": [
       "time step:   0%|          | 0/100 [00:00<?, ?it/s]"
      ]
     },
     "metadata": {},
     "output_type": "display_data"
    },
    {
     "data": {
      "application/vnd.jupyter.widget-view+json": {
       "model_id": "01817278df0248618b7cbe932f995d66",
       "version_major": 2,
       "version_minor": 0
      },
      "text/plain": [
       "time step:   0%|          | 0/100 [00:00<?, ?it/s]"
      ]
     },
     "metadata": {},
     "output_type": "display_data"
    },
    {
     "data": {
      "application/vnd.jupyter.widget-view+json": {
       "model_id": "a06304f36e3d4bfc9e3eccacac1d949d",
       "version_major": 2,
       "version_minor": 0
      },
      "text/plain": [
       "time step:   0%|          | 0/100 [00:00<?, ?it/s]"
      ]
     },
     "metadata": {},
     "output_type": "display_data"
    },
    {
     "data": {
      "application/vnd.jupyter.widget-view+json": {
       "model_id": "cd61da9cf09741b6be92ac2e57416515",
       "version_major": 2,
       "version_minor": 0
      },
      "text/plain": [
       "time step:   0%|          | 0/100 [00:00<?, ?it/s]"
      ]
     },
     "metadata": {},
     "output_type": "display_data"
    },
    {
     "data": {
      "application/vnd.jupyter.widget-view+json": {
       "model_id": "09b37d9bc4a04b9e924945342d084fb9",
       "version_major": 2,
       "version_minor": 0
      },
      "text/plain": [
       "time step:   0%|          | 0/100 [00:00<?, ?it/s]"
      ]
     },
     "metadata": {},
     "output_type": "display_data"
    },
    {
     "data": {
      "application/vnd.jupyter.widget-view+json": {
       "model_id": "1f8ef7e5de3a4b2ba74da2c9a7dcdbf0",
       "version_major": 2,
       "version_minor": 0
      },
      "text/plain": [
       "time step:   0%|          | 0/100 [00:00<?, ?it/s]"
      ]
     },
     "metadata": {},
     "output_type": "display_data"
    },
    {
     "data": {
      "application/vnd.jupyter.widget-view+json": {
       "model_id": "f594a14d7d9c46ec92714287015904e2",
       "version_major": 2,
       "version_minor": 0
      },
      "text/plain": [
       "time step:   0%|          | 0/100 [00:00<?, ?it/s]"
      ]
     },
     "metadata": {},
     "output_type": "display_data"
    },
    {
     "data": {
      "application/vnd.jupyter.widget-view+json": {
       "model_id": "1abb5e883255403b97f573045932fb04",
       "version_major": 2,
       "version_minor": 0
      },
      "text/plain": [
       "time step:   0%|          | 0/100 [00:00<?, ?it/s]"
      ]
     },
     "metadata": {},
     "output_type": "display_data"
    },
    {
     "data": {
      "application/vnd.jupyter.widget-view+json": {
       "model_id": "74f0cb7d25be42df93953ad92848c32d",
       "version_major": 2,
       "version_minor": 0
      },
      "text/plain": [
       "time step:   0%|          | 0/100 [00:00<?, ?it/s]"
      ]
     },
     "metadata": {},
     "output_type": "display_data"
    },
    {
     "data": {
      "application/vnd.jupyter.widget-view+json": {
       "model_id": "0494cf5f52f64e779478985ecfd0e333",
       "version_major": 2,
       "version_minor": 0
      },
      "text/plain": [
       "time step:   0%|          | 0/100 [00:00<?, ?it/s]"
      ]
     },
     "metadata": {},
     "output_type": "display_data"
    },
    {
     "data": {
      "application/vnd.jupyter.widget-view+json": {
       "model_id": "ca95dac6a08941ddae0a021167178c5e",
       "version_major": 2,
       "version_minor": 0
      },
      "text/plain": [
       "time step:   0%|          | 0/100 [00:00<?, ?it/s]"
      ]
     },
     "metadata": {},
     "output_type": "display_data"
    },
    {
     "data": {
      "application/vnd.jupyter.widget-view+json": {
       "model_id": "4ccb340a12084e64a7c4ad726d3a96ac",
       "version_major": 2,
       "version_minor": 0
      },
      "text/plain": [
       "time step:   0%|          | 0/100 [00:00<?, ?it/s]"
      ]
     },
     "metadata": {},
     "output_type": "display_data"
    },
    {
     "data": {
      "application/vnd.jupyter.widget-view+json": {
       "model_id": "9db6d40090fa498395da59de2aaf1ff8",
       "version_major": 2,
       "version_minor": 0
      },
      "text/plain": [
       "time step:   0%|          | 0/100 [00:00<?, ?it/s]"
      ]
     },
     "metadata": {},
     "output_type": "display_data"
    },
    {
     "data": {
      "application/vnd.jupyter.widget-view+json": {
       "model_id": "8c293d6cc426430e86f8b8f0719e9c60",
       "version_major": 2,
       "version_minor": 0
      },
      "text/plain": [
       "time step:   0%|          | 0/100 [00:00<?, ?it/s]"
      ]
     },
     "metadata": {},
     "output_type": "display_data"
    },
    {
     "data": {
      "application/vnd.jupyter.widget-view+json": {
       "model_id": "168399feb29e49478589a5bbbd09860b",
       "version_major": 2,
       "version_minor": 0
      },
      "text/plain": [
       "time step:   0%|          | 0/100 [00:00<?, ?it/s]"
      ]
     },
     "metadata": {},
     "output_type": "display_data"
    },
    {
     "data": {
      "application/vnd.jupyter.widget-view+json": {
       "model_id": "daae426b441d4f0d84988fe8f7c8a0d1",
       "version_major": 2,
       "version_minor": 0
      },
      "text/plain": [
       "time step:   0%|          | 0/100 [00:00<?, ?it/s]"
      ]
     },
     "metadata": {},
     "output_type": "display_data"
    },
    {
     "data": {
      "application/vnd.jupyter.widget-view+json": {
       "model_id": "2190d68987aa42a396bf4b6b56024723",
       "version_major": 2,
       "version_minor": 0
      },
      "text/plain": [
       "time step:   0%|          | 0/100 [00:00<?, ?it/s]"
      ]
     },
     "metadata": {},
     "output_type": "display_data"
    },
    {
     "data": {
      "application/vnd.jupyter.widget-view+json": {
       "model_id": "30f748edea7b4054beb5a7e1b063b043",
       "version_major": 2,
       "version_minor": 0
      },
      "text/plain": [
       "time step:   0%|          | 0/100 [00:00<?, ?it/s]"
      ]
     },
     "metadata": {},
     "output_type": "display_data"
    },
    {
     "data": {
      "application/vnd.jupyter.widget-view+json": {
       "model_id": "84fb30aa5fb947e086c6538112c7990f",
       "version_major": 2,
       "version_minor": 0
      },
      "text/plain": [
       "time step:   0%|          | 0/100 [00:00<?, ?it/s]"
      ]
     },
     "metadata": {},
     "output_type": "display_data"
    },
    {
     "data": {
      "application/vnd.jupyter.widget-view+json": {
       "model_id": "63ad0994d3d34130a09dabdf6ea54b55",
       "version_major": 2,
       "version_minor": 0
      },
      "text/plain": [
       "time step:   0%|          | 0/100 [00:00<?, ?it/s]"
      ]
     },
     "metadata": {},
     "output_type": "display_data"
    },
    {
     "data": {
      "application/vnd.jupyter.widget-view+json": {
       "model_id": "3926435d57d043bdad23bac070d907e7",
       "version_major": 2,
       "version_minor": 0
      },
      "text/plain": [
       "time step:   0%|          | 0/100 [00:00<?, ?it/s]"
      ]
     },
     "metadata": {},
     "output_type": "display_data"
    },
    {
     "data": {
      "application/vnd.jupyter.widget-view+json": {
       "model_id": "cb261764af5c42caa1719c7ddd71000e",
       "version_major": 2,
       "version_minor": 0
      },
      "text/plain": [
       "time step:   0%|          | 0/100 [00:00<?, ?it/s]"
      ]
     },
     "metadata": {},
     "output_type": "display_data"
    },
    {
     "data": {
      "application/vnd.jupyter.widget-view+json": {
       "model_id": "ac10ca89c0154091914876b783a14821",
       "version_major": 2,
       "version_minor": 0
      },
      "text/plain": [
       "time step:   0%|          | 0/100 [00:00<?, ?it/s]"
      ]
     },
     "metadata": {},
     "output_type": "display_data"
    }
   ],
   "source": [
    "\"\"\"Here is the implementation for running the experiment. You have to run the \"run_epsilon_greedy_agent\" function\n",
    "   for multiple times for different parameter combination. Please use smaller run_num and time_step for Debug only.\n",
    "   For example, run_num = 100, time_step = 100\n",
    "\"\"\"\n",
    "# always set the random seed for results reproduction\n",
    "np.random.seed(1234)\n",
    "random.seed(1234)\n",
    "    \n",
    "# set the running parameters (Use 2000 runs and 1000 steps for final report)\n",
    "run_num = 200\n",
    "time_step = 100\n",
    "    \n",
    "# CODE HERE: \n",
    "# 1. run the epsilon-greedy agent experiment for initial value = 0.0, epsilon = 0.0\n",
    "R1results_rewards, R1results_action, R1upper_bound = run_epsilon_greedy_agent(run_num, time_step, epsilon=0.0, init=0.0)\n",
    "# 2. run the epsilon-greedy agent experiment for initial value = 0.0, epsilon = 0.01\n",
    "R2results_rewards, R2results_action, R2upper_bound = run_epsilon_greedy_agent(run_num, time_step, epsilon=0.01, init=0.0)\n",
    "# 3. run the epsilon-greedy agent experiment for initial value = 0.0, epsilon = 0.1\n",
    "R3results_rewards, R3results_action, R3upper_bound = run_epsilon_greedy_agent(run_num, time_step, epsilon=0.1, init=0.0)"
   ]
  },
  {
   "cell_type": "code",
   "execution_count": 8,
   "metadata": {},
   "outputs": [
    {
     "name": "stdout",
     "output_type": "stream",
     "text": [
      "(200, 100)\n"
     ]
    }
   ],
   "source": [
    "print(R1results_rewards.shape)"
   ]
  },
  {
   "cell_type": "code",
   "execution_count": 9,
   "metadata": {},
   "outputs": [
    {
     "data": {
      "text/plain": [
       "<Figure size 640x480 with 0 Axes>"
      ]
     },
     "metadata": {},
     "output_type": "display_data"
    },
    {
     "data": {
      "image/png": "[encoded data removed]",
      "text/plain": [
       "<Figure size 1200x800 with 1 Axes>"
      ]
     },
     "metadata": {},
     "output_type": "display_data"
    }
   ],
   "source": [
    "# Plot the \"Average reward\" figure\n",
    "plot_curves([R1results_rewards, R2results_rewards, R3results_rewards],\n",
    "            [\"E=0(Greedy)\", \"E=0.01\", \"E=0.1\"],\n",
    "            [\"Green\", \"Red\", \"Blue\"],\n",
    "            R1upper_bound,\n",
    "            \"Average Reward\")"
   ]
  },
  {
   "cell_type": "code",
   "execution_count": null,
   "metadata": {},
   "outputs": [],
   "source": [
    "# Plot the \"% Optimal action\" figure\n",
    "plot_curves([R1results_action, R2results_action, R3results_action],\n",
    "            [\"E=0(Greedy)\", \"E=0.01\", \"E=0.1\"],\n",
    "            [\"Green\", \"Red\", \"Blue\"],\n",
    "            np.ones((1,1)), # should be 100%\n",
    "            \"% Optimal Action\")"
   ]
  },
  {
   "cell_type": "markdown",
   "metadata": {},
   "source": [
    "# Q6: Implement the ε-greedy algorithm with optimistic initial values, and the bandit algorithm with UCB action selection"
   ]
  },
  {
   "cell_type": "code",
   "execution_count": 87,
   "metadata": {},
   "outputs": [],
   "source": [
    "\"\"\" Reproducing the Figure 2.3.\n",
    "Please note, instead of using the sample-average technique,\n",
    "Use equation 2.5 to update the Q values with \\alpha=0.1\n",
    "\"\"\"\n",
    "class EpsilonGreedyAgent(object):\n",
    "    def __init__(self, k: int, init: int, epsilon: float) -> None:\n",
    "        \"\"\"Epsilon greedy bandit agent\n",
    "\n",
    "        Args:\n",
    "            k (int): number of arms\n",
    "            init (init): initial value of Q-values\n",
    "            epsilon (float): random action probability\n",
    "        \"\"\"\n",
    "        # Number of the arms. For example, k = 10 for 10-armed Bandit problem\n",
    "        self.k = k\n",
    "\n",
    "        # Initial Q value\n",
    "        self.init = init\n",
    "\n",
    "        # Epsilon value\n",
    "        self.epsilon = epsilon\n",
    "\n",
    "        # Q-values for each arm\n",
    "        self.Q = None\n",
    "        # Number of times each arm was pulled\n",
    "        self.N = None\n",
    "        # Current total number of steps\n",
    "        self.t = None\n",
    "\n",
    "    def reset(self) -> None:\n",
    "        \"\"\"Initialize or reset Q-values and counts\n",
    "\n",
    "        This method should be called after __init__() at least once\n",
    "        \"\"\"\n",
    "        self.Q = self.init * np.ones(self.k, dtype=np.float32)\n",
    "        self.N = np.zeros(self.k, dtype=int)\n",
    "        self.t = 0\n",
    "\n",
    "    def choose_action(self) -> int:\n",
    "        \"\"\"Choose which arm to pull\n",
    "\n",
    "        With probability 1 - epsilon, choose the best action (break ties arbitrarily, use argmax() from above).\n",
    "        \n",
    "        With probability epsilon, choose a random action.\n",
    "        \"\"\"\n",
    "        # CODE HERE: please implement the epsilon-greedy strategy to select the action\n",
    "        noise = np.random.rand()\n",
    "        if noise < self.epsilon:\n",
    "            self.action = np.random.randint(self.k)\n",
    "        else:\n",
    "            self.action = self.argmax(self.Q)\n",
    "        return self.action\n",
    "        # return int\n",
    "\n",
    "    def update(self, action: int, reward: float) -> None:\n",
    "        \"\"\"Update Q-values and N after observing reward.\n",
    "\n",
    "        Args:\n",
    "            action (int): index of pulled arm\n",
    "            reward (float): reward obtained for pulling arm\n",
    "        \"\"\"\n",
    "        # increase the time step\n",
    "        self.t += 1\n",
    "        \n",
    "        # CODE HERE: implement the incremental update\n",
    "        # update the self.N\n",
    "        self.N[action] += 1\n",
    "        \n",
    "        # CODE HERE: update self.Q with the incremental update\n",
    "        # Note: For reproducing Figure 2.3, implement the exponential average (equation 2.5)\n",
    "        # Note: For reproducing Figure 2.4, implement the sample average (equation 2.1)\n",
    "        self.Q[action] += 0.1 * (reward - self.Q[action]) # equation 2.5\n",
    "\n",
    "    \n",
    "    @staticmethod\n",
    "    def argmax(arr) -> int:\n",
    "        \"\"\"Argmax that breaks ties randomly\n",
    "\n",
    "        Takes in a list of values and returns the index of the item with the highest value, breaking ties randomly.\n",
    "\n",
    "        Note: np.argmax returns the first index that matches the maximum, so we define this method to use in EpsilonGreedy and UCB agents.\n",
    "        Args:\n",
    "            arr: sequence of values\n",
    "        \"\"\"\n",
    "        #CODE HERE: implement argmax_a Q(a) for the greedy action selection, breaking ties randomly.\n",
    "        max_val = np.max(arr) \n",
    "        max_indices = np.where(arr == max_val)[0]\n",
    "        if len(max_indices) > 1:\n",
    "            return np.random.choice(max_indices)\n",
    "        else:\n",
    "            return max_indices[0]"
   ]
  },
  {
   "cell_type": "code",
   "execution_count": 88,
   "metadata": {},
   "outputs": [],
   "source": [
    "\"\"\" Here is the implementation of the UCB agent. Please complete the missing part.\"\"\"\n",
    "class UCBAgent(object):\n",
    "    def __init__(self, k: int, init: int, c: float) -> None:\n",
    "        \"\"\"Epsilon greedy bandit agent\n",
    "\n",
    "        Args:\n",
    "            k (int): number of arms\n",
    "            init (init): initial value of Q-values\n",
    "            c (float): UCB constant that controls degree of exploration\n",
    "        \"\"\"\n",
    "        # Number of the arms. For example, k = 10 for 10-armed Bandit problem\n",
    "        self.k = k\n",
    "\n",
    "        # Initial Q value\n",
    "        self.init = init\n",
    "\n",
    "        # Epsilon value\n",
    "        self.c = c\n",
    "\n",
    "        # Q-values for each arm\n",
    "        self.Q = None\n",
    "        # Number of times each arm was pulled\n",
    "        self.N = None\n",
    "        # Current total number of steps\n",
    "        self.t = None\n",
    "\n",
    "    def reset(self) -> None:\n",
    "        \"\"\"Initialize or reset Q-values and counts\n",
    "\n",
    "        This method should be called after __init__() at least once\n",
    "        \"\"\"\n",
    "        self.Q = self.init * np.ones(self.k, dtype=np.float32)\n",
    "        self.N = np.zeros(self.k, dtype=int)\n",
    "        self.t = 0\n",
    "\n",
    "    @staticmethod\n",
    "    def argmax(arr) -> int:\n",
    "        \"\"\"Argmax that breaks ties randomly\n",
    "\n",
    "        Takes in a list of values and returns the index of the item with the highest value, breaking ties randomly.\n",
    "\n",
    "        Note: np.argmax returns the first index that matches the maximum, so we define this method to use in EpsilonGreedy and UCB agents.\n",
    "        Args:\n",
    "            arr: sequence of values\n",
    "        \"\"\"\n",
    "        #CODE HERE: implement argmax_a Q(a) for the greedy action selection, breaking ties randomly.\n",
    "        max_val = np.max(arr) \n",
    "        max_indices = np.where(arr == max_val)[0]\n",
    "        if len(max_indices) > 1:\n",
    "            return np.random.choice(max_indices)\n",
    "        else:\n",
    "            return max_indices[0]\n",
    "        \n",
    "    def choose_action(self):\n",
    "        \"\"\"Choose which arm to pull\n",
    "\n",
    "        Use UCB action selection. Be sure to consider the case when N_t = 0 and break ties randomly (use argmax() from above)\n",
    "        \"\"\"\n",
    "        # CODE HERE: use UCB to select the action. Be sure to consider the case when N_t = 0\n",
    "        # and break ties randomly (use argmax() from above). The return should be an integer\n",
    "        # index of the action.\n",
    "        # return int\n",
    "        if self.t < self.k:\n",
    "            return self.t\n",
    "        else:\n",
    "            ucb = self.Q + self.c * np.sqrt(np.log(self.t) / self.N)\n",
    "            return self.argmax(ucb)\n",
    "\n",
    "\n",
    "    def update(self, action: int, reward: float) -> None:\n",
    "        \"\"\"Update Q-values and N after observing reward.\n",
    "\n",
    "        Args:\n",
    "            action (int): index of pulled arm\n",
    "            reward (float): reward obtained for pulling arm\n",
    "        \"\"\"\n",
    "        # increase the time step\n",
    "        self.t += 1\n",
    "\n",
    "        # CODE HERE: implement the incremental update\n",
    "        # update the self.N\n",
    "        self.N[action] += 1\n",
    "\n",
    "        # CODE HERER: update self.\n",
    "        # Note: For reproducing Figure 2.3, implement the exponential average (equation 2.5)\n",
    "        # Note: For reproducing Figure 2.4, implement the sample average (equation 2.1)\n",
    "        self.Q[action] += 0.1 * (reward - self.Q[action])\n"
   ]
  },
  {
   "cell_type": "code",
   "execution_count": 89,
   "metadata": {},
   "outputs": [],
   "source": [
    "\"\"\"Here is the implementation of running the UCB agent. Please complete the missing part.\n",
    "\"\"\"\n",
    "# run epsilon greedy \n",
    "def run_ucb_agent(run_num, time_step, c):\n",
    "    # create the 10-armed Bandit problem\n",
    "    k = 10\n",
    "    env = Bandit(k)\n",
    "    env.reset()\n",
    "\n",
    "    # create the agent\n",
    "    my_agent = UCBAgent(k=k, init=0.0, c=c)\n",
    "    my_agent.reset()\n",
    "\n",
    "    # create a numpy array\n",
    "    results_rewards = np.empty((run_num, time_step))\n",
    "    \n",
    "    # create a numpy array\n",
    "    results_action = np.empty((run_num, time_step))\n",
    "\n",
    "    # loop starts\n",
    "    upper_bound = np.empty(run_num)\n",
    "    for r in tqdm.tqdm(range(run_num), desc=\"run number\", position=0):\n",
    "       \n",
    "        # CODE HERE: reset the environment and the agent\n",
    "        # create a new 10-armed bandit problem\n",
    "        env.reset()\n",
    "        \n",
    "        # CODE HERE: create a new agent\n",
    "        my_agent.reset()\n",
    "\n",
    "        # CODE HERE: update upper_bound[r]\n",
    "        upper_bound[r] = np.max(env.q_star)\n",
    "\n",
    "        for t in tqdm.tqdm(range(time_step), desc=\"time step\", position=1, leave=False):\n",
    "            # CODE HERE: choose action for time step t\n",
    "            # act = int\n",
    "            act = my_agent.choose_action()\n",
    "\n",
    "            # CODE HERE: interact with the environment\n",
    "            # reward = float\n",
    "            reward = env.step(act)\n",
    "\n",
    "            # CODE HERE: update the bandit agent with the observed reward\n",
    "            my_agent.update(act, reward)\n",
    "\n",
    "            \n",
    "            # save the reward\n",
    "            results_rewards[r, t] = reward\n",
    "            # compute the optimality\n",
    "            if act in env.best_action():\n",
    "                results_action[r, t] = 1\n",
    "            else:\n",
    "                results_action[r, t] = 0\n",
    "            \n",
    "    return results_rewards, results_action, upper_bound"
   ]
  },
  {
   "cell_type": "markdown",
   "metadata": {},
   "source": [
    "# Reproduce Figure 2.3 using exponential average (equation 2.5 with alpha = 0.1)"
   ]
  },
  {
   "cell_type": "code",
   "execution_count": null,
   "metadata": {},
   "outputs": [],
   "source": [
    "\"\"\"Here is the implementation for running the experiment. You have to run the \"run_ucb_agent\" function\n",
    "   for multiple times for different parameter combination. Please use smaller run_num and time_step for Debug only.\n",
    "   For example, run_num = 100, time_step = 1000\n",
    "\"\"\"\n",
    "# set the running parameters\n",
    "run_num = 2000\n",
    "time_step = 1000\n",
    "    \n",
    "# CODE HERE: \n",
    "# 1. Run the epsilon-greedy agent experiment for initial value = 0.0, epsilon = 0.0\n",
    "R1Reward, R1Action, R1upper = run_epsilon_greedy_agent(run_num, time_step, epsilon=0.0, init=0.0)\n",
    "# 2. Run the epsilon-greedy agent experiment for initial value = 5.0, epsilon = 0.0 \n",
    "R2Reward, R2Action, R2upper = run_epsilon_greedy_agent(run_num, time_step, epsilon=0.0, init=5.0)\n",
    "# 3. Run the epsilon-greedy agent experiment for initial value = 0.0, epsilon = 0.1 \n",
    "R3Reward, R3Action, R3upper = run_epsilon_greedy_agent(run_num, time_step, epsilon=0.1, init=0.0)\n",
    "# 4. Run the epsilon-greedy agent experiment for initial value = 5.0, epsilon = 0.1 \n",
    "R4Reward, R4Action, R4upper = run_epsilon_greedy_agent(run_num, time_step, epsilon=0.1, init=5.0)\n",
    "# 5. Run the UCB agent experiment for c=2\n",
    "R5Reward, R5Action, R5upper = run_ucb_agent(run_num, time_step, c=2.0)"
   ]
  },
  {
   "cell_type": "code",
   "execution_count": null,
   "metadata": {},
   "outputs": [],
   "source": [
    "# Plot the \"% Optimal action\" figure\n",
    "plot_curves([R1Action, R2Action, R3Action, R4Action, R5Action],\n",
    "            [\"Q1=0, E=0\", \"Q1=5, E=0\", \"Q1=0, E=0.1\", \"Q1=5, E=0.1\", \"UCB\"],\n",
    "            [\"Green\", \"Red\", \"Blue\", \"Orange\", \"Purple\"],\n",
    "            np.ones((1,1)), # should be 100%\n",
    "            \"% Optimal Action\")"
   ]
  },
  {
   "cell_type": "markdown",
   "metadata": {},
   "source": [
    "# Reproduce Figure 2.4 using sample average (equation 2.1)"
   ]
  },
  {
   "cell_type": "markdown",
   "metadata": {},
   "source": [
    "Setting Epsilon Greedy and UCB agent to equation 2.1"
   ]
  },
  {
   "cell_type": "code",
   "execution_count": 63,
   "metadata": {},
   "outputs": [],
   "source": [
    "class EpsilonGreedyAgent(object):\n",
    "    def __init__(self, k: int, init: int, epsilon: float) -> None:\n",
    "        \"\"\"Epsilon greedy bandit agent\n",
    "\n",
    "        Args:\n",
    "            k (int): number of arms\n",
    "            init (init): initial value of Q-values\n",
    "            epsilon (float): random action probability\n",
    "        \"\"\"\n",
    "        # Number of the arms. For example, k = 10 for 10-armed Bandit problem\n",
    "        self.k = k\n",
    "\n",
    "        # Initial Q value\n",
    "        self.init = init\n",
    "\n",
    "        # Epsilon value\n",
    "        self.epsilon = epsilon\n",
    "\n",
    "        # Q-values for each arm\n",
    "        self.Q = None\n",
    "        # Number of times each arm was pulled\n",
    "        self.N = None\n",
    "        # Current total number of steps\n",
    "        self.t = None\n",
    "\n",
    "    def reset(self) -> None:\n",
    "        \"\"\"Initialize or reset Q-values and counts\n",
    "\n",
    "        This method should be called after __init__() at least once\n",
    "        \"\"\"\n",
    "        self.Q = self.init * np.ones(self.k, dtype=np.float32)\n",
    "        self.N = np.zeros(self.k, dtype=int)\n",
    "        self.t = 0\n",
    "\n",
    "    def choose_action(self) -> int:\n",
    "        \"\"\"Choose which arm to pull\n",
    "\n",
    "        With probability 1 - epsilon, choose the best action (break ties arbitrarily, use argmax() from above).\n",
    "        \n",
    "        With probability epsilon, choose a random action.\n",
    "        \"\"\"\n",
    "        # CODE HERE: please implement the epsilon-greedy strategy to select the action\n",
    "        noise = np.random.rand()\n",
    "        if noise < self.epsilon:\n",
    "            self.action = np.random.randint(self.k) # random action\n",
    "        else:\n",
    "            self.action = self.argmax(self.Q) # greedy action\n",
    "        return self.action\n",
    "        # return int \n",
    "\n",
    "    def update(self, action: int, reward: float) -> None:\n",
    "        \"\"\"Update Q-values and N after observing reward.\n",
    "\n",
    "        Args:\n",
    "            action (int): index of pulled arm\n",
    "            reward (float): reward obtained for pulling arm\n",
    "        \"\"\"\n",
    "        # increase the time step\n",
    "        self.t += 1\n",
    "        \n",
    "        # CODE HERE: implement the incremental update\n",
    "        # update the self.N\n",
    "        self.N[action] += 1\n",
    "        \n",
    "        # CODE HERE: update self.Q with the incremental update\n",
    "        # Note: please use the sample-average technique in equation 2.1\n",
    "        self.Q[action] += 1/self.N[action] * (reward - self.Q[action])\n",
    "\n",
    "\n",
    "    @staticmethod\n",
    "    def argmax(arr) -> int:\n",
    "        \"\"\"Argmax that breaks ties randomly\n",
    "\n",
    "        Takes in a list of values and returns the index of the item with the highest value, breaking ties randomly.\n",
    "\n",
    "        Note: np.argmax returns the first index that matches the maximum, so we define this method to use in EpsilonGreedy and UCB agents.\n",
    "        Args:\n",
    "            arr: sequence of values\n",
    "        \"\"\"\n",
    "        #CODE HERE: implement argmax_a Q(a) for the greedy action selection, breaking ties randomly.\n",
    "        max_val = np.max(arr)\n",
    "        max_indices = np.where(arr == max_val)[0]\n",
    "        if len(max_indices) > 1:\n",
    "            return np.random.choice(max_indices)\n",
    "        else:\n",
    "            return max_indices[0]\n",
    "        # return int"
   ]
  },
  {
   "cell_type": "code",
   "execution_count": 64,
   "metadata": {},
   "outputs": [],
   "source": [
    "\"\"\" Here is the implementation of the UCB agent. Please complete the missing part.\"\"\"\n",
    "class UCBAgent(object):\n",
    "    def __init__(self, k: int, init: int, c: float) -> None:\n",
    "        \"\"\"Epsilon greedy bandit agent\n",
    "\n",
    "        Args:\n",
    "            k (int): number of arms\n",
    "            init (init): initial value of Q-values\n",
    "            c (float): UCB constant that controls degree of exploration\n",
    "        \"\"\"\n",
    "        # Number of the arms. For example, k = 10 for 10-armed Bandit problem\n",
    "        self.k = k\n",
    "\n",
    "        # Initial Q value\n",
    "        self.init = init\n",
    "\n",
    "        # Epsilon value\n",
    "        self.c = c\n",
    "\n",
    "        # Q-values for each arm\n",
    "        self.Q = None\n",
    "        # Number of times each arm was pulled\n",
    "        self.N = None\n",
    "        # Current total number of steps\n",
    "        self.t = None\n",
    "\n",
    "    def reset(self) -> None:\n",
    "        \"\"\"Initialize or reset Q-values and counts\n",
    "\n",
    "        This method should be called after __init__() at least once\n",
    "        \"\"\"\n",
    "        self.Q = self.init * np.ones(self.k, dtype=np.float32)\n",
    "        self.N = np.zeros(self.k, dtype=int)\n",
    "        self.t = 0\n",
    "\n",
    "    @staticmethod\n",
    "    def argmax(arr) -> int:\n",
    "        \"\"\"Argmax that breaks ties randomly\n",
    "\n",
    "        Takes in a list of values and returns the index of the item with the highest value, breaking ties randomly.\n",
    "\n",
    "        Note: np.argmax returns the first index that matches the maximum, so we define this method to use in EpsilonGreedy and UCB agents.\n",
    "        Args:\n",
    "            arr: sequence of values\n",
    "        \"\"\"\n",
    "        #CODE HERE: implement argmax_a Q(a) for the greedy action selection, breaking ties randomly.\n",
    "        max_val = np.max(arr) \n",
    "        max_indices = np.where(arr == max_val)[0]\n",
    "        if len(max_indices) > 1:\n",
    "            return np.random.choice(max_indices)\n",
    "        else:\n",
    "            return max_indices[0]\n",
    "        \n",
    "    def choose_action(self):\n",
    "        \"\"\"Choose which arm to pull\n",
    "\n",
    "        Use UCB action selection. Be sure to consider the case when N_t = 0 and break ties randomly (use argmax() from above)\n",
    "        \"\"\"\n",
    "        # CODE HERE: use UCB to select the action. Be sure to consider the case when N_t = 0\n",
    "        # and break ties randomly (use argmax() from above). The return should be an integer\n",
    "        # index of the action.\n",
    "        # return int\n",
    "        if self.t < self.k: # if the number of steps is less than the number of arms\n",
    "            return self.t # return the arm index\n",
    "        else:\n",
    "            ucb = self.Q + self.c * np.sqrt(np.log(self.t) / self.N)\n",
    "            return self.argmax(ucb)\n",
    "\n",
    "\n",
    "    def update(self, action: int, reward: float) -> None:\n",
    "        \"\"\"Update Q-values and N after observing reward.\n",
    "\n",
    "        Args:\n",
    "            action (int): index of pulled arm\n",
    "            reward (float): reward obtained for pulling arm\n",
    "        \"\"\"\n",
    "        # increase the time step\n",
    "        self.t += 1\n",
    "\n",
    "        # CODE HERE: implement the incremental update\n",
    "        # update the self.N\n",
    "        self.N[action] += 1\n",
    "\n",
    "        # CODE HERER: update self.\n",
    "        # Note: For reproducing Figure 2.3, implement the exponential average (equation 2.5)\n",
    "        # Note: For reproducing Figure 2.4, implement the sample average (equation 2.1)\n",
    "        self.Q[action] += 1/self.N[action] * (reward - self.Q[action])\n"
   ]
  },
  {
   "cell_type": "code",
   "execution_count": null,
   "metadata": {},
   "outputs": [],
   "source": [
    "\"\"\"Here is the implementation for running the experiment. You have to run the \"run_ucb_agent\" function\n",
    "   for multiple times for different parameter combination. Please use smaller run_num and time_step for Debug only.\n",
    "   For example, run_num = 100, time_step = 1000\n",
    "\"\"\"\n",
    "# always set the random seed for results reproduction\n",
    "np.random.seed(1234)\n",
    "random.seed(1234)\n",
    "\n",
    "# set the number of run\n",
    "run_num = 2000\n",
    "# set the number of time steps\n",
    "time_step = 1000\n",
    "\n",
    "# CODE HERE: \n",
    "# 1. Run the epsilon-greedy agent experiment for initial value = 0.0, epsilon = 0.0\n",
    "R1results_rewards, R1results_action, R1upper_bound = run_epsilon_greedy_agent(run_num, time_step, epsilon=0.0, init=0.0)\n",
    "# 2. Run the epsilon-greedy agent experiment for initial value = 5.0, epsilon = 0.0 \n",
    "R2results_rewards, R2results_action, R2upper_bound = run_epsilon_greedy_agent(run_num, time_step, epsilon=0.0, init=5.0)\n",
    "# 3. Run the epsilon-greedy agent experiment for initial value = 0.0, epsilon = 0.1 \n",
    "R3results_rewards, R3results_action, R3upper_bound = run_epsilon_greedy_agent(run_num, time_step, epsilon=0.1, init=0.0)\n",
    "# 4. Run the epsilon-greedy agent experiment for initial value = 5.0, epsilon = 0.1 \n",
    "R4results_rewards, R4results_action, R4upper_bound = run_epsilon_greedy_agent(run_num, time_step, epsilon=0.1, init=5.0)\n",
    "# 5. Run the UCB agent experiment for c=2\n",
    "R5results_rewards, R5results_action, R5upper_bound = run_ucb_agent(run_num, time_step, c=2.0)"
   ]
  },
  {
   "cell_type": "code",
   "execution_count": null,
   "metadata": {},
   "outputs": [],
   "source": [
    "# Plot the \"Average reward\" figure\n",
    "plot_curves([R1results_rewards, R2results_rewards, R3results_rewards, R4results_rewards, R5results_rewards],\n",
    "            [\"Q1=0, E=0\", \"Q1=5, E=0\", \"Q1=0, E=0.1\", \"Q1=5, E=0.1\", \"UCB\"],\n",
    "            [\"Green\", \"Red\", \"Blue\", \"Orange\", \"Purple\"],\n",
    "            R1upper_bound,\n",
    "            \"Average reward\")"
   ]
  },
  {
   "cell_type": "markdown",
   "metadata": {},
   "source": [
    "## Q7 Investigating nonstationary environments."
   ]
  },
  {
   "cell_type": "code",
   "execution_count": null,
   "metadata": {},
   "outputs": [],
   "source": [
    "def generate_bandits(arms = 10):\n",
    "    # CODE HERE: Generate a k-armed bandit using the procedure described in Section 2.3\n",
    "    \n",
    "\n",
    "def generate_reward(bandits, arm):\n",
    "    # CODE HERE: Generate a random reward using the specified arm of the bandit, \n",
    "    # with reward distribution as described in Section 2.3\n",
    "\n",
    "    \n",
    "def gen_argmax(l, return_all = False):\n",
    "    # CODE HERE: Generalized argmax that finds all maximal elements and breaks ties \n",
    "    # If return_all is true, returns all maximal indices;\n",
    "    # otherwise, tie is broken randomly and some element is returned\n",
    "\n",
    "def plot_avg_se(data, num_se = 1.96, linestyle = 'k-'):\n",
    "    means = []\n",
    "    lowers = []\n",
    "    uppers = []\n",
    "    N = len(data)\n",
    "    T = len(data[0])\n",
    "    for t in range(T):\n",
    "        data_t = [d[t] for d in data]\n",
    "        mean = np.mean(data_t)\n",
    "        se = np.std(data_t) / np.sqrt(N)\n",
    "        means += [mean]\n",
    "        lowers += [mean - num_se * se]\n",
    "        uppers += [mean + num_se * se]\n",
    "    h, = plt.plot(range(1,T+1), means, linestyle)\n",
    "    plt.fill_between(range(1,T+1), lowers, uppers, color = linestyle[0], alpha = 0.2)\n",
    "    return h\n",
    "\n",
    "\n",
    "def q7(arms = 10, steps = 10000, trials = 2000, epsilon = 0.1, alpha = 0.1):\n",
    "    rewards = [[] for _ in range(2)]\n",
    "    optimals = [[] for _ in range(2)]\n",
    "    upper_bound = []\n",
    "    for trial in range(trials):\n",
    "        if (trial + 1) % 10 == 0:\n",
    "            print(trial + 1)\n",
    "            \n",
    "        # Initialize the bandit (all q* = 0)\n",
    "        # Implement epsilon-greedy in the loop;\n",
    "        # keep track of Q, N estimates and rewards, optimal actions, upper bounds\n",
    "        # for both alpha = None and alpha = 0.1\n",
    "        \n",
    "        # CODE HERE: Initilization        \n",
    "\n",
    "        \n",
    "        # CODE HERE: LOOP        \n",
    "        for t in range(steps):\n",
    "            # Hint: you should determine best action at time t and its value, do the Epsilon-greedy action selection            \n",
    "            # And explore both alpha = None and alpha = 0.1 at the same time \n",
    "            # Please use the variable name of: rs_none  rs_alpha to store the rewards and opts_none opts_alpha to store the optimal actions\n",
    "            # and use upper to represent the upper bound value.\n",
    "             \n",
    "            \n",
    "        # Store rewards and whether chosen actions were optimal\n",
    "        rewards[0] += [rs_none]\n",
    "        rewards[1] += [rs_alpha]\n",
    "        optimals[0] += [opts_none]\n",
    "        optimals[1] += [opts_alpha]\n",
    "        upper_bound += [upper]\n",
    "\n",
    "\n",
    "    # Plot average reward\n",
    "    plt.figure()\n",
    "    hs = []\n",
    "    hs += [plot_avg_se(rewards[0], linestyle = 'b-')]\n",
    "    hs += [plot_avg_se(rewards[1], linestyle = 'k-')]\n",
    "    hs += [plot_avg_se(upper_bound, linestyle = 'k--')]\n",
    "    plt.gca().set_xlim(0, steps)\n",
    "    plt.gca().set_ylim(0, 2)\n",
    "    plt.xlabel(\"Steps\")\n",
    "    plt.ylabel(\"Average reward\")\n",
    "    plt.legend(hs, [\"Sample average\", r\"Exponential average, $\\alpha = 0.1$\", \"Upper bound\"])\n",
    "    plt.show()\n",
    "\n",
    "\n",
    "    # Plot proportion of time optimal action was chosen\n",
    "    plt.figure()\n",
    "    hs = []\n",
    "    hs += [plot_avg_se(optimals[0], linestyle = 'b-')]\n",
    "    hs += [plot_avg_se(optimals[1], linestyle = 'k-')]\n",
    "    hs += [plt.hlines(1, 1, steps, linestyles = 'dashed')]\n",
    "    plt.gca().set_xlim(0, steps)\n",
    "    plt.gca().set_ylim(0, 1.05)\n",
    "    plt.xlabel(\"Steps\")\n",
    "    plt.ylabel(\"Proportion optimal action\")\n",
    "    plt.legend(hs, [\"Sample average\", r\"Exponential average, $\\alpha = 0.1$\", \"Upper bound\"])\n",
    "    plt.show()"
   ]
  },
  {
   "cell_type": "code",
   "execution_count": null,
   "metadata": {},
   "outputs": [],
   "source": [
    "q7(steps = 10000, trials = 2000)"
   ]
  }
 ],
 "metadata": {
  "kernelspec": {
   "display_name": "Python 3",
   "language": "python",
   "name": "python3"
  },
  "language_info": {
   "codemirror_mode": {
    "name": "ipython",
    "version": 3
   },
   "file_extension": ".py",
   "mimetype": "text/x-python",
   "name": "python",
   "nbconvert_exporter": "python",
   "pygments_lexer": "ipython3",
   "version": "3.12.1"
  }
 },
 "nbformat": 4,
 "nbformat_minor": 4
}
